{
  "nbformat": 4,
  "nbformat_minor": 0,
  "metadata": {
    "colab": {
      "name": "DSA Ineuron Day1.ipynb",
      "provenance": [],
      "collapsed_sections": [],
      "authorship_tag": "ABX9TyOWTmsR7K8TeCnvoFuvElDc",
      "include_colab_link": true
    },
    "kernelspec": {
      "name": "python3",
      "display_name": "Python 3"
    },
    "language_info": {
      "name": "python"
    }
  },
  "cells": [
    {
      "cell_type": "markdown",
      "metadata": {
        "id": "view-in-github",
        "colab_type": "text"
      },
      "source": [
        "<a href=\"https://colab.research.google.com/github/Jatin-kaushik/DSA-Practice-Learning/blob/main/DSA_Ineuron_Day1.ipynb\" target=\"_parent\"><img src=\"https://colab.research.google.com/assets/colab-badge.svg\" alt=\"Open In Colab\"/></a>"
      ]
    },
    {
      "cell_type": "markdown",
      "metadata": {
        "id": "1oozMSnkIB6O"
      },
      "source": [
        "## Linear Search"
      ]
    },
    {
      "cell_type": "code",
      "metadata": {
        "colab": {
          "base_uri": "https://localhost:8080/"
        },
        "id": "wgqNA7XgH6qD",
        "outputId": "86637f67-7968-406f-a16a-ac3d959e2349"
      },
      "source": [
        "def fun():\n",
        "  n = 10\n",
        "  ans  =0\n",
        "  while n>1:\n",
        "    ans += n&1\n",
        "    n = n>>1\n",
        "  print(ans)\n",
        "\n",
        "fun()\n"
      ],
      "execution_count": null,
      "outputs": [
        {
          "output_type": "stream",
          "text": [
            "1\n"
          ],
          "name": "stdout"
        }
      ]
    },
    {
      "cell_type": "code",
      "metadata": {
        "colab": {
          "base_uri": "https://localhost:8080/"
        },
        "id": "mfsH5AeFUFnY",
        "outputId": "4d6df1ba-594f-4fe3-ecb4-c27c694c8417"
      },
      "source": [
        "def merge_sort_driver(a,b):\n",
        "  i = 0\n",
        "  j = 0\n",
        "  res_list = []\n",
        "  while i<len(a) and j<len(b):\n",
        "    if a[i]<b[j]:\n",
        "      res_list.append(a[i])\n",
        "      i+=1\n",
        "    else:\n",
        "      res_list.append(b[j])\n",
        "      j+=1\n",
        "  for ele in a[i:]:\n",
        "    res_list.append(ele)\n",
        "  for ele in b[j:]:\n",
        "    res_list.append(ele)\n",
        "  return res_list\n",
        "merge_sort_driver([10,20],[9,21])\n",
        "    \n"
      ],
      "execution_count": null,
      "outputs": [
        {
          "output_type": "execute_result",
          "data": {
            "text/plain": [
              "[9, 10, 20, 21]"
            ]
          },
          "metadata": {
            "tags": []
          },
          "execution_count": 16
        }
      ]
    },
    {
      "cell_type": "code",
      "metadata": {
        "id": "VtQvphcMVVbp"
      },
      "source": [
        "def merge_divide(arr):\n",
        "  if len(arr)<=1:\n",
        "    return arr\n",
        "\n",
        "  mid = len(arr) //2\n",
        "  left_arr = arr[:mid]\n",
        "  right_arr = arr[mid:]\n",
        "  left_arr =merge_divide(left_arr)\n",
        "  right_arr = merge_divide(right_arr)\n",
        "  # print(left_arr)\n",
        "  sorted_array = merge_sort_driver(left_arr,right_arr)\n",
        "  return sorted_array\n",
        "\n",
        "  # return left_arr, right_arr"
      ],
      "execution_count": null,
      "outputs": []
    },
    {
      "cell_type": "code",
      "metadata": {
        "id": "ivEHaxYLzzju"
      },
      "source": [
        "def merge_divide(arr):\n",
        "  if len(arr)==1:\n",
        "    return arr\n",
        "  else:\n",
        "    mid = len(arr)//2\n",
        "    left_arr = arr[:mid]\n",
        "    right_arr = arr[mid:]\n",
        "    left_arr = merge_divide(left_arr)\n",
        "    right_arr = merge_divide(right_arr)\n",
        "    print(left_arr, right_arr)\n",
        "\n",
        "    sorted_array = merge_sort_driver(left_arr, right_arr)\n",
        "    print(sorted_array)\n",
        "    return sorted_array"
      ],
      "execution_count": null,
      "outputs": []
    },
    {
      "cell_type": "code",
      "metadata": {
        "colab": {
          "base_uri": "https://localhost:8080/"
        },
        "id": "7U1kaPUzYDB4",
        "outputId": "9deb2142-d813-4af1-bc7d-37e078487d1d"
      },
      "source": [
        "merge_divide([20,10,30,40,35])"
      ],
      "execution_count": null,
      "outputs": [
        {
          "output_type": "execute_result",
          "data": {
            "text/plain": [
              "[10, 20, 30, 35, 40]"
            ]
          },
          "metadata": {
            "tags": []
          },
          "execution_count": 34
        }
      ]
    },
    {
      "cell_type": "code",
      "metadata": {
        "colab": {
          "base_uri": "https://localhost:8080/"
        },
        "id": "kHh3XygFZZJg",
        "outputId": "9a5eafc8-c85a-448a-ed49-e1465833fd06"
      },
      "source": [
        "def merge_sort_d(a,b):\n",
        "  i = 0\n",
        "  j = 0\n",
        "  res_l = []\n",
        "  while i <len(a) and j<len(b):\n",
        "    if a[i]<b[j]:\n",
        "      res_l.append(a[i])\n",
        "      i+=1\n",
        "    else:\n",
        "      res_l.append(b[j])\n",
        "      j+=1\n",
        "  for ele in a[i:]:\n",
        "    res_l.append(ele)\n",
        "  for ele in b[j:]:\n",
        "    res_l.append(ele)\n",
        "  return res_l\n",
        "merge_sort_d([1,4,5,6,8,9],[2,2,3,4,5,9,10])"
      ],
      "execution_count": null,
      "outputs": [
        {
          "output_type": "execute_result",
          "data": {
            "text/plain": [
              "[1, 2, 2, 3, 4, 4, 5, 5, 6, 8, 9, 9, 10]"
            ]
          },
          "metadata": {
            "tags": []
          },
          "execution_count": 30
        }
      ]
    },
    {
      "cell_type": "code",
      "metadata": {
        "id": "Wp0gmwNriywY",
        "colab": {
          "base_uri": "https://localhost:8080/"
        },
        "outputId": "d52a4cdb-56be-4296-e8c3-22cd3484ae83"
      },
      "source": [
        "#tower of hanoi\n",
        "\n",
        "def toh(no_of_disc, towerA, towerB, towerC):\n",
        "  if no_of_disc == 0:\n",
        "    return\n",
        "  toh(no_of_disc-1,towerA,towerC,towerB)\n",
        "  print(no_of_disc,towerA,towerB)\n",
        "  toh(no_of_disc-1,towerC,towerB,towerA)\n",
        "\n",
        "toh(3,10,11,12)\n",
        "\n"
      ],
      "execution_count": null,
      "outputs": [
        {
          "output_type": "stream",
          "text": [
            "1 10 11\n",
            "2 10 12\n",
            "1 11 12\n",
            "3 10 11\n",
            "1 12 10\n",
            "2 12 11\n",
            "1 10 11\n"
          ],
          "name": "stdout"
        }
      ]
    },
    {
      "cell_type": "code",
      "metadata": {
        "colab": {
          "base_uri": "https://localhost:8080/"
        },
        "id": "TF5fGH5V5LrY",
        "outputId": "bf166a66-fb87-48eb-9431-ace7cc9ef407"
      },
      "source": [
        "# display Array\n",
        "def d_a(arr, index):\n",
        "  if len(arr) == index:\n",
        "    return\n",
        "  print(arr[index])\n",
        "\n",
        "  d_a(arr, index+1)\n",
        "d_a([10,20,23,25], 0)"
      ],
      "execution_count": null,
      "outputs": [
        {
          "output_type": "stream",
          "text": [
            "10\n",
            "20\n",
            "23\n",
            "25\n"
          ],
          "name": "stdout"
        }
      ]
    },
    {
      "cell_type": "code",
      "metadata": {
        "colab": {
          "base_uri": "https://localhost:8080/"
        },
        "id": "bT_T-d_3xn4w",
        "outputId": "5113a8a1-eb8e-41b7-a025-75a090996406"
      },
      "source": [
        "# display Array ulta\n",
        "def d_a(arr, index):\n",
        "  if len(arr) == index:\n",
        "    return\n",
        "  d_a(arr, index+1)\n",
        "  print(arr[index])\n",
        "\n",
        "d_a([10,20,23,25], 0)"
      ],
      "execution_count": null,
      "outputs": [
        {
          "output_type": "stream",
          "text": [
            "25\n",
            "23\n",
            "20\n",
            "10\n"
          ],
          "name": "stdout"
        }
      ]
    },
    {
      "cell_type": "code",
      "metadata": {
        "colab": {
          "base_uri": "https://localhost:8080/"
        },
        "id": "OX-blUWYy2mk",
        "outputId": "1f600f57-3c66-4e5f-a962-0c3690db20ab"
      },
      "source": [
        "# max of array\n",
        "\n",
        "def max_arr(arr,index):\n",
        "  if len(arr) == index:\n",
        "    return arr[index-1]\n",
        "  if max_arr(arr,index+1)>arr[index]:\n",
        "    return max_arr(arr,index+1)\n",
        "  return arr[index]\n",
        "max_arr([10,50,23,25], 0)\n",
        "\n"
      ],
      "execution_count": null,
      "outputs": [
        {
          "output_type": "execute_result",
          "data": {
            "text/plain": [
              "50"
            ]
          },
          "metadata": {
            "tags": []
          },
          "execution_count": 9
        }
      ]
    },
    {
      "cell_type": "code",
      "metadata": {
        "colab": {
          "base_uri": "https://localhost:8080/"
        },
        "id": "XAsUV9UWzfPD",
        "outputId": "5547eafb-c80f-4f71-a972-c5bba667a77f"
      },
      "source": [
        "# max of array\n",
        "\n",
        "def max_arr(arr):\n",
        "  if len(arr) == 1:\n",
        "    return arr[0]\n",
        "  if max_arr(arr[1:])>arr[0]:\n",
        "    return max_arr(arr[1:])\n",
        "  return arr[0]\n",
        "max_arr([10,50,23,25])\n",
        "\n"
      ],
      "execution_count": null,
      "outputs": [
        {
          "output_type": "execute_result",
          "data": {
            "text/plain": [
              "50"
            ]
          },
          "metadata": {
            "tags": []
          },
          "execution_count": 11
        }
      ]
    },
    {
      "cell_type": "code",
      "metadata": {
        "colab": {
          "base_uri": "https://localhost:8080/"
        },
        "id": "1GPhTmvQ3qFs",
        "outputId": "0b43f582-c159-4996-b21a-e0085936066f"
      },
      "source": [
        "# search in array\n",
        "#first_index\n",
        "def search(arr,index,ele):\n",
        "  if len(arr) == index:\n",
        "    return -1\n",
        "\n",
        "  if arr[index] == ele:\n",
        "    return index\n",
        "  else:\n",
        "    return search(arr,index+1,ele)\n",
        "\n",
        "search([10,50,23,25],0,23)\n",
        "  \n",
        "\n"
      ],
      "execution_count": null,
      "outputs": [
        {
          "output_type": "execute_result",
          "data": {
            "text/plain": [
              "2"
            ]
          },
          "metadata": {
            "tags": []
          },
          "execution_count": 20
        }
      ]
    },
    {
      "cell_type": "code",
      "metadata": {
        "colab": {
          "base_uri": "https://localhost:8080/"
        },
        "id": "SeDq6VTa6phk",
        "outputId": "e321c3d4-d535-426d-a3fa-025b5f8acec3"
      },
      "source": [
        "# search in array\n",
        "#last_index\n",
        "def search(arr,index,ele):\n",
        "  if len(arr) == index:\n",
        "    return -1\n",
        "\n",
        "  if search(arr,index+1,ele) == -1:\n",
        "    if arr[index] == ele:\n",
        "      return index\n",
        "    else:\n",
        "      return -1\n",
        "  else:\n",
        "    return search(arr,index+1,ele)\n",
        "\n",
        "search([10,23,23,25],0,23)\n",
        "  \n",
        "\n"
      ],
      "execution_count": null,
      "outputs": [
        {
          "output_type": "execute_result",
          "data": {
            "text/plain": [
              "2"
            ]
          },
          "metadata": {
            "tags": []
          },
          "execution_count": 27
        }
      ]
    },
    {
      "cell_type": "code",
      "metadata": {
        "colab": {
          "base_uri": "https://localhost:8080/"
        },
        "id": "x6yXNUeg-Bgj",
        "outputId": "d00c1c2a-b2ef-42d2-8449-d8ad244df6c0"
      },
      "source": [
        "# search in array\n",
        "#all_index\n",
        "list1 = []\n",
        "def search(arr,index,ele):\n",
        "  if len(arr) == index:\n",
        "    return -1\n",
        "\n",
        "  if search(arr,index+1,ele) == -1:\n",
        "    if arr[index] == ele:\n",
        "      list1.append(index)\n",
        "    else:\n",
        "      return -1\n",
        "  else:\n",
        "    list1.append(search(arr,index+1,ele))\n",
        "    return list1\n",
        "\n",
        "search([10,23,23,25],0,23)\n",
        "  \n",
        "\n"
      ],
      "execution_count": null,
      "outputs": [
        {
          "output_type": "execute_result",
          "data": {
            "text/plain": [
              "[2, 2, None, 2, 2, None, [...]]"
            ]
          },
          "metadata": {
            "tags": []
          },
          "execution_count": 28
        }
      ]
    },
    {
      "cell_type": "code",
      "metadata": {
        "id": "NT1jvQ15Ejeh"
      },
      "source": [
        "# subsequence 2ki power n  \n",
        "\n",
        "def subsequence(string):\n",
        "  if len(string) == 0:\n",
        "    base_list = [\"\"]\n",
        "    return base_list\n",
        "  a = string[0]\n",
        "  b = string[1:]\n",
        "  res = subsequence(b)\n",
        "  s_list = []\n",
        "  for i in res:\n",
        "    no_p = a + str(i)\n",
        "    yes_p = \"\" + str(i)\n",
        "    s_list.append(no_p)\n",
        "    s_list.append(yes_p)\n",
        "  return s_list\n",
        "\n"
      ],
      "execution_count": null,
      "outputs": []
    },
    {
      "cell_type": "code",
      "metadata": {
        "id": "-bB-41oQkfC7",
        "colab": {
          "base_uri": "https://localhost:8080/"
        },
        "outputId": "d911185f-df41-42e3-97a4-92beb8788821"
      },
      "source": [
        "subsequence(\"abc\")"
      ],
      "execution_count": null,
      "outputs": [
        {
          "output_type": "execute_result",
          "data": {
            "text/plain": [
              "['abc', 'bc', 'ac', 'c', 'ab', 'b', 'a', '']"
            ]
          },
          "metadata": {
            "tags": []
          },
          "execution_count": 4
        }
      ]
    },
    {
      "cell_type": "code",
      "metadata": {
        "colab": {
          "base_uri": "https://localhost:8080/"
        },
        "id": "P87TvlzxubsG",
        "outputId": "dc8a9a37-079b-4091-ca8b-e061991b9761"
      },
      "source": [
        "array = [\"0 -> .;\",\n",
        "    \"1 -> abc\",\n",
        "    \"2 -> def\",\n",
        "    \"3 -> ghi\",\n",
        "    \"4 -> jkl\",\n",
        "    \"5 -> mno\",\n",
        "    \"6 -> pqrs\",\n",
        "    \"7 -> tu\",\n",
        "    \"8 -> vwx\",\n",
        "    \"9 -> yz\"]\n",
        "\n",
        "print((array[1][5:]))"
      ],
      "execution_count": null,
      "outputs": [
        {
          "output_type": "stream",
          "text": [
            "abc\n"
          ],
          "name": "stdout"
        }
      ]
    },
    {
      "cell_type": "code",
      "metadata": {
        "id": "ZifGGC-7kmx5"
      },
      "source": [
        "# key pad pair\n",
        "array = [\"0 -> .;\",\n",
        "    \"1 -> abc\",\n",
        "    \"2 -> def\",\n",
        "    \"3 -> ghi\",\n",
        "    \"4 -> jkl\",\n",
        "    \"5 -> mno\",\n",
        "    \"6 -> pqrs\",\n",
        "    \"7 -> tu\",\n",
        "    \"8 -> vwx\",\n",
        "    \"9 -> yz\"]\n",
        "def keypad(key):\n",
        "  if len(key) == 0:\n",
        "    base_list =  [\"\"]\n",
        "    return base_list\n",
        "  a = key[0]\n",
        "  b = key[1:]\n",
        "  res = keypad(b)\n",
        "  print(res)\n",
        "  ele = array[res]\n",
        "  r_list = []\n",
        "  for i in ele[5:]:\n",
        "    char = a + i\n",
        "    r_list.append(char)\n",
        "  return r_list"
      ],
      "execution_count": null,
      "outputs": []
    },
    {
      "cell_type": "code",
      "metadata": {
        "colab": {
          "base_uri": "https://localhost:8080/",
          "height": 323
        },
        "id": "LYInA9BukpNi",
        "outputId": "e20202ec-9679-4d1b-c7db-dbe587416862"
      },
      "source": [
        "keypad(\"123\")"
      ],
      "execution_count": null,
      "outputs": [
        {
          "output_type": "stream",
          "text": [
            "['']\n"
          ],
          "name": "stdout"
        },
        {
          "output_type": "error",
          "ename": "TypeError",
          "evalue": "ignored",
          "traceback": [
            "\u001b[0;31m---------------------------------------------------------------------------\u001b[0m",
            "\u001b[0;31mTypeError\u001b[0m                                 Traceback (most recent call last)",
            "\u001b[0;32m<ipython-input-25-873bc502d6ac>\u001b[0m in \u001b[0;36m<module>\u001b[0;34m()\u001b[0m\n\u001b[0;32m----> 1\u001b[0;31m \u001b[0mkeypad\u001b[0m\u001b[0;34m(\u001b[0m\u001b[0;34m\"123\"\u001b[0m\u001b[0;34m)\u001b[0m\u001b[0;34m\u001b[0m\u001b[0;34m\u001b[0m\u001b[0m\n\u001b[0m",
            "\u001b[0;32m<ipython-input-24-8d418ef76ec1>\u001b[0m in \u001b[0;36mkeypad\u001b[0;34m(key)\u001b[0m\n\u001b[1;32m     16\u001b[0m   \u001b[0ma\u001b[0m \u001b[0;34m=\u001b[0m \u001b[0mkey\u001b[0m\u001b[0;34m[\u001b[0m\u001b[0;36m0\u001b[0m\u001b[0;34m]\u001b[0m\u001b[0;34m\u001b[0m\u001b[0;34m\u001b[0m\u001b[0m\n\u001b[1;32m     17\u001b[0m   \u001b[0mb\u001b[0m \u001b[0;34m=\u001b[0m \u001b[0mkey\u001b[0m\u001b[0;34m[\u001b[0m\u001b[0;36m1\u001b[0m\u001b[0;34m:\u001b[0m\u001b[0;34m]\u001b[0m\u001b[0;34m\u001b[0m\u001b[0;34m\u001b[0m\u001b[0m\n\u001b[0;32m---> 18\u001b[0;31m   \u001b[0mres\u001b[0m \u001b[0;34m=\u001b[0m \u001b[0mkeypad\u001b[0m\u001b[0;34m(\u001b[0m\u001b[0mb\u001b[0m\u001b[0;34m)\u001b[0m\u001b[0;34m\u001b[0m\u001b[0;34m\u001b[0m\u001b[0m\n\u001b[0m\u001b[1;32m     19\u001b[0m   \u001b[0mprint\u001b[0m\u001b[0;34m(\u001b[0m\u001b[0mres\u001b[0m\u001b[0;34m)\u001b[0m\u001b[0;34m\u001b[0m\u001b[0;34m\u001b[0m\u001b[0m\n\u001b[1;32m     20\u001b[0m   \u001b[0mele\u001b[0m \u001b[0;34m=\u001b[0m \u001b[0marray\u001b[0m\u001b[0;34m[\u001b[0m\u001b[0mres\u001b[0m\u001b[0;34m]\u001b[0m\u001b[0;34m\u001b[0m\u001b[0;34m\u001b[0m\u001b[0m\n",
            "\u001b[0;32m<ipython-input-24-8d418ef76ec1>\u001b[0m in \u001b[0;36mkeypad\u001b[0;34m(key)\u001b[0m\n\u001b[1;32m     16\u001b[0m   \u001b[0ma\u001b[0m \u001b[0;34m=\u001b[0m \u001b[0mkey\u001b[0m\u001b[0;34m[\u001b[0m\u001b[0;36m0\u001b[0m\u001b[0;34m]\u001b[0m\u001b[0;34m\u001b[0m\u001b[0;34m\u001b[0m\u001b[0m\n\u001b[1;32m     17\u001b[0m   \u001b[0mb\u001b[0m \u001b[0;34m=\u001b[0m \u001b[0mkey\u001b[0m\u001b[0;34m[\u001b[0m\u001b[0;36m1\u001b[0m\u001b[0;34m:\u001b[0m\u001b[0;34m]\u001b[0m\u001b[0;34m\u001b[0m\u001b[0;34m\u001b[0m\u001b[0m\n\u001b[0;32m---> 18\u001b[0;31m   \u001b[0mres\u001b[0m \u001b[0;34m=\u001b[0m \u001b[0mkeypad\u001b[0m\u001b[0;34m(\u001b[0m\u001b[0mb\u001b[0m\u001b[0;34m)\u001b[0m\u001b[0;34m\u001b[0m\u001b[0;34m\u001b[0m\u001b[0m\n\u001b[0m\u001b[1;32m     19\u001b[0m   \u001b[0mprint\u001b[0m\u001b[0;34m(\u001b[0m\u001b[0mres\u001b[0m\u001b[0;34m)\u001b[0m\u001b[0;34m\u001b[0m\u001b[0;34m\u001b[0m\u001b[0m\n\u001b[1;32m     20\u001b[0m   \u001b[0mele\u001b[0m \u001b[0;34m=\u001b[0m \u001b[0marray\u001b[0m\u001b[0;34m[\u001b[0m\u001b[0mres\u001b[0m\u001b[0;34m]\u001b[0m\u001b[0;34m\u001b[0m\u001b[0;34m\u001b[0m\u001b[0m\n",
            "\u001b[0;32m<ipython-input-24-8d418ef76ec1>\u001b[0m in \u001b[0;36mkeypad\u001b[0;34m(key)\u001b[0m\n\u001b[1;32m     18\u001b[0m   \u001b[0mres\u001b[0m \u001b[0;34m=\u001b[0m \u001b[0mkeypad\u001b[0m\u001b[0;34m(\u001b[0m\u001b[0mb\u001b[0m\u001b[0;34m)\u001b[0m\u001b[0;34m\u001b[0m\u001b[0;34m\u001b[0m\u001b[0m\n\u001b[1;32m     19\u001b[0m   \u001b[0mprint\u001b[0m\u001b[0;34m(\u001b[0m\u001b[0mres\u001b[0m\u001b[0;34m)\u001b[0m\u001b[0;34m\u001b[0m\u001b[0;34m\u001b[0m\u001b[0m\n\u001b[0;32m---> 20\u001b[0;31m   \u001b[0mele\u001b[0m \u001b[0;34m=\u001b[0m \u001b[0marray\u001b[0m\u001b[0;34m[\u001b[0m\u001b[0mres\u001b[0m\u001b[0;34m]\u001b[0m\u001b[0;34m\u001b[0m\u001b[0;34m\u001b[0m\u001b[0m\n\u001b[0m\u001b[1;32m     21\u001b[0m   \u001b[0mr_list\u001b[0m \u001b[0;34m=\u001b[0m \u001b[0;34m[\u001b[0m\u001b[0;34m]\u001b[0m\u001b[0;34m\u001b[0m\u001b[0;34m\u001b[0m\u001b[0m\n\u001b[1;32m     22\u001b[0m   \u001b[0;32mfor\u001b[0m \u001b[0mi\u001b[0m \u001b[0;32min\u001b[0m \u001b[0mele\u001b[0m\u001b[0;34m[\u001b[0m\u001b[0;36m5\u001b[0m\u001b[0;34m:\u001b[0m\u001b[0;34m]\u001b[0m\u001b[0;34m:\u001b[0m\u001b[0;34m\u001b[0m\u001b[0;34m\u001b[0m\u001b[0m\n",
            "\u001b[0;31mTypeError\u001b[0m: list indices must be integers or slices, not list"
          ]
        }
      ]
    },
    {
      "cell_type": "code",
      "metadata": {
        "id": "p4RJ9XDiktVf"
      },
      "source": [
        "array1 = [\".;\",\n",
        "    \"abc\",\n",
        "    \"def\",\n",
        "    \"ghi\",\n",
        "    \"jkl\",\n",
        "    \"mno\",\n",
        "    \"pqrs\",\n",
        "    \"tu\",\n",
        "    \"vwx\",\n",
        "    \"yz\"]\n",
        "def keypad(key):\n",
        "  if len(key) == 0:\n",
        "    base_list =  [\"\"]\n",
        "    return base_list\n",
        "  a = key[0]\n",
        "  a = int(a)\n",
        "  b = key[1:]\n",
        "  # print(array1[a])\n",
        "  res = keypad(b)\n",
        "  res_list = []\n",
        "  for i in res:\n",
        "    for j in array1[a]:\n",
        "      char = str(j) + i\n",
        "      res_list.append(char)\n",
        "  print(len(res_list))\n",
        "  return res_list"
      ],
      "execution_count": null,
      "outputs": []
    },
    {
      "cell_type": "code",
      "metadata": {
        "colab": {
          "base_uri": "https://localhost:8080/"
        },
        "id": "Obvq-oYuv8vh",
        "outputId": "e992e369-c49c-4edc-e123-0130bd68f809"
      },
      "source": [
        "keypad(\"1234\")"
      ],
      "execution_count": null,
      "outputs": [
        {
          "output_type": "stream",
          "text": [
            "3\n",
            "9\n",
            "27\n",
            "81\n"
          ],
          "name": "stdout"
        },
        {
          "output_type": "execute_result",
          "data": {
            "text/plain": [
              "['adgj',\n",
              " 'bdgj',\n",
              " 'cdgj',\n",
              " 'aegj',\n",
              " 'begj',\n",
              " 'cegj',\n",
              " 'afgj',\n",
              " 'bfgj',\n",
              " 'cfgj',\n",
              " 'adhj',\n",
              " 'bdhj',\n",
              " 'cdhj',\n",
              " 'aehj',\n",
              " 'behj',\n",
              " 'cehj',\n",
              " 'afhj',\n",
              " 'bfhj',\n",
              " 'cfhj',\n",
              " 'adij',\n",
              " 'bdij',\n",
              " 'cdij',\n",
              " 'aeij',\n",
              " 'beij',\n",
              " 'ceij',\n",
              " 'afij',\n",
              " 'bfij',\n",
              " 'cfij',\n",
              " 'adgk',\n",
              " 'bdgk',\n",
              " 'cdgk',\n",
              " 'aegk',\n",
              " 'begk',\n",
              " 'cegk',\n",
              " 'afgk',\n",
              " 'bfgk',\n",
              " 'cfgk',\n",
              " 'adhk',\n",
              " 'bdhk',\n",
              " 'cdhk',\n",
              " 'aehk',\n",
              " 'behk',\n",
              " 'cehk',\n",
              " 'afhk',\n",
              " 'bfhk',\n",
              " 'cfhk',\n",
              " 'adik',\n",
              " 'bdik',\n",
              " 'cdik',\n",
              " 'aeik',\n",
              " 'beik',\n",
              " 'ceik',\n",
              " 'afik',\n",
              " 'bfik',\n",
              " 'cfik',\n",
              " 'adgl',\n",
              " 'bdgl',\n",
              " 'cdgl',\n",
              " 'aegl',\n",
              " 'begl',\n",
              " 'cegl',\n",
              " 'afgl',\n",
              " 'bfgl',\n",
              " 'cfgl',\n",
              " 'adhl',\n",
              " 'bdhl',\n",
              " 'cdhl',\n",
              " 'aehl',\n",
              " 'behl',\n",
              " 'cehl',\n",
              " 'afhl',\n",
              " 'bfhl',\n",
              " 'cfhl',\n",
              " 'adil',\n",
              " 'bdil',\n",
              " 'cdil',\n",
              " 'aeil',\n",
              " 'beil',\n",
              " 'ceil',\n",
              " 'afil',\n",
              " 'bfil',\n",
              " 'cfil']"
            ]
          },
          "metadata": {
            "tags": []
          },
          "execution_count": 3
        }
      ]
    },
    {
      "cell_type": "code",
      "metadata": {
        "id": "v3YjbU1Lv-QB"
      },
      "source": [
        "# stair path problem 1,2,3 jump valid only\n",
        "\n",
        "def stair(n1):\n",
        "  if n1 <=0 :\n",
        "    if n1 == 0:\n",
        "      b_l = []\n",
        "      arr = \"\"\n",
        "      b_l.append(arr)\n",
        "      return b_l\n",
        "    else:\n",
        "      b_l = []\n",
        "      return b_l\n",
        "  paths1 = stair(n1-1)\n",
        "  paths2 = stair(n1-2)\n",
        "  paths3 = stair(n1-3)\n",
        "  res_list = []\n",
        "  for i in paths1:\n",
        "    path  = str(1) + str(i)\n",
        "    res_list.append(path)\n",
        "  for i in paths2:\n",
        "    path  = str(2) + str(i)\n",
        "    res_list.append(path)\n",
        "  for i in paths3:\n",
        "    path  = str(3) + str(i)\n",
        "    res_list.append(path)\n",
        "  return res_list\n",
        "\n",
        "\n",
        "\n"
      ],
      "execution_count": null,
      "outputs": []
    },
    {
      "cell_type": "code",
      "metadata": {
        "colab": {
          "base_uri": "https://localhost:8080/"
        },
        "id": "GsIuxLNDeQKI",
        "outputId": "ed7569b4-7958-4c61-d3f4-4d2fd2392bd4"
      },
      "source": [
        "stair(4)"
      ],
      "execution_count": null,
      "outputs": [
        {
          "output_type": "execute_result",
          "data": {
            "text/plain": [
              "['1111', '112', '121', '13', '211', '22', '31']"
            ]
          },
          "metadata": {
            "tags": []
          },
          "execution_count": 2
        }
      ]
    },
    {
      "cell_type": "code",
      "metadata": {
        "id": "AxSIEvDYeaCy"
      },
      "source": [
        "## maze problem .... way to find path in matrix\n",
        " \n",
        "def maze(sr, sc, dr, dc): #s =  source, d =  destination, r = row, c = column\n",
        "  if sr ==dr and sc == dc:\n",
        "    base_list = [\"\"]\n",
        "    return base_list\n",
        "  hpaths = []\n",
        "  vpaths = []\n",
        "  if sr< dr:\n",
        "    hpaths = maze(sr+1, sc,dr,dc)\n",
        "  if sc <dr:\n",
        "    vpaths = maze(sr, sc+1, dr, dc)\n",
        "\n",
        "  res_list = []\n",
        "  for i in hpaths:\n",
        "    char = \"h\" + str(i)\n",
        "    res_list.append(char)\n",
        "  for i in vpaths:\n",
        "    char = \"v\" + str(i)\n",
        "    res_list.append(char)\n",
        "  return res_list"
      ],
      "execution_count": null,
      "outputs": []
    },
    {
      "cell_type": "code",
      "metadata": {
        "colab": {
          "base_uri": "https://localhost:8080/"
        },
        "id": "BNqoTg92Iblo",
        "outputId": "5f70b830-cde0-419b-923d-ade4325f6784"
      },
      "source": [
        "maze(1,1,3,3)"
      ],
      "execution_count": null,
      "outputs": [
        {
          "output_type": "execute_result",
          "data": {
            "text/plain": [
              "['hhvv', 'hvhv', 'hvvh', 'vhhv', 'vhvh', 'vvhh']"
            ]
          },
          "metadata": {
            "tags": []
          },
          "execution_count": 8
        }
      ]
    },
    {
      "cell_type": "code",
      "metadata": {
        "id": "YL-OTZpxIe6l"
      },
      "source": [
        "# maze with Jump\n",
        "\n",
        "def maze_jump(sr,sc,dr,dc):\n",
        "  if sr == dr and sc == dc:\n",
        "    return [\"\"]\n",
        "  if sr>dr or sc>dc:\n",
        "    return []\n",
        "  res_list = []\n",
        "  # horizontal move\n",
        "  for ms in range(1,dc-sc+1):\n",
        "    hpaths = maze_jump(sr, sc+ms, dr, dc)\n",
        "    for i in hpaths:\n",
        "      char = \"h\" + str(ms) + str(i)\n",
        "      res_list.append(char)\n",
        "  # vertical move\n",
        "  for ms in range(1,dr-sr+1):\n",
        "    # print(ms)\n",
        "    vpaths = maze_jump(sr+ms, sc, dr, dc)\n",
        "    for i in vpaths:\n",
        "      char = \"v\" + str(ms) + str(i)\n",
        "      res_list.append(char)\n",
        "\n",
        "  # diagnoal move\n",
        "  for ms in range(1,min(dc-sc, dr-sr)+1):\n",
        "    dpaths = maze_jump(sr+ms, sc+ms, dr, dc)\n",
        "    for i in dpaths:\n",
        "      char = \"d\" + str(ms) + str(i)\n",
        "      res_list.append(char)\n",
        "  return res_list\n"
      ],
      "execution_count": null,
      "outputs": []
    },
    {
      "cell_type": "code",
      "metadata": {
        "colab": {
          "base_uri": "https://localhost:8080/"
        },
        "id": "srsimcjQv4Fb",
        "outputId": "651992d9-0c77-442c-edef-ea5a596e17fb"
      },
      "source": [
        "maze_jump(1,1,3,3)"
      ],
      "execution_count": null,
      "outputs": [
        {
          "output_type": "execute_result",
          "data": {
            "text/plain": [
              "['h1h1v1v1',\n",
              " 'h1h1v2',\n",
              " 'h1v1h1v1',\n",
              " 'h1v1v1h1',\n",
              " 'h1v1d1',\n",
              " 'h1v2h1',\n",
              " 'h1d1v1',\n",
              " 'h2v1v1',\n",
              " 'h2v2',\n",
              " 'v1h1h1v1',\n",
              " 'v1h1v1h1',\n",
              " 'v1h1d1',\n",
              " 'v1h2v1',\n",
              " 'v1v1h1h1',\n",
              " 'v1v1h2',\n",
              " 'v1d1h1',\n",
              " 'v2h1h1',\n",
              " 'v2h2',\n",
              " 'd1h1v1',\n",
              " 'd1v1h1',\n",
              " 'd1d1',\n",
              " 'd2']"
            ]
          },
          "metadata": {
            "tags": []
          },
          "execution_count": 22
        }
      ]
    },
    {
      "cell_type": "code",
      "metadata": {
        "id": "KrLr9x0iv57z"
      },
      "source": [
        "# print subsequence\n",
        "\n",
        "def ss(ques, ans):\n",
        "  if len(ques) == 0:\n",
        "    print(ans)\n",
        "    return\n",
        "  char1 =  ques[0]\n",
        "  rest = ques[1:]\n",
        "  ss(rest, char1 + ans)\n",
        "  ss(rest, \"\" + ans)"
      ],
      "execution_count": null,
      "outputs": []
    },
    {
      "cell_type": "code",
      "metadata": {
        "colab": {
          "base_uri": "https://localhost:8080/"
        },
        "id": "5eCqBMRN2xF4",
        "outputId": "fa8da2a0-e698-48b8-ebdf-6a7b466f5650"
      },
      "source": [
        "ss('abc', \"\")"
      ],
      "execution_count": null,
      "outputs": [
        {
          "output_type": "stream",
          "text": [
            "cba\n",
            "ba\n",
            "ca\n",
            "a\n",
            "cb\n",
            "b\n",
            "c\n",
            "\n"
          ],
          "name": "stdout"
        }
      ]
    },
    {
      "cell_type": "code",
      "metadata": {
        "id": "B5BMUGsY3PRO"
      },
      "source": [
        "[1, 2, 3, 4, 5, 6, 7, 8]"
      ],
      "execution_count": null,
      "outputs": []
    },
    {
      "cell_type": "code",
      "metadata": {
        "id": "vKFMWqtl3dOE"
      },
      "source": [
        "# print(keypad) pair problem\n",
        "kp_array = [\".;\",\n",
        "    \"abc\",\n",
        "    \"def\",\n",
        "    \"ghi\",\n",
        "    \"jkl\",\n",
        "    \"mno\",\n",
        "    \"pqrs\",\n",
        "    \"tu\",\n",
        "    \"vwx\",\n",
        "    \"yz\"]\n",
        "def kpc(ques, ans):\n",
        "  if len(ques) == 0:\n",
        "    print(ans)\n",
        "    return \n",
        "  char =  ques[0]\n",
        "  roq = ques[1:]\n",
        "  char = int(char)\n",
        "  ele = kp_array[char]\n",
        "  for i in range(0,len(ele)):\n",
        "    # print(i)\n",
        "    kpc(roq, ans +ele[i])\n"
      ],
      "execution_count": null,
      "outputs": []
    },
    {
      "cell_type": "code",
      "metadata": {
        "colab": {
          "base_uri": "https://localhost:8080/"
        },
        "id": "p2rQSW5XO96s",
        "outputId": "de1d19df-92f7-4388-fa83-dcf386f7fa1e"
      },
      "source": [
        "kpc('29', \"\")"
      ],
      "execution_count": null,
      "outputs": [
        {
          "output_type": "stream",
          "text": [
            "dy\n",
            "dz\n",
            "ey\n",
            "ez\n",
            "fy\n",
            "fz\n"
          ],
          "name": "stdout"
        }
      ]
    },
    {
      "cell_type": "code",
      "metadata": {
        "id": "DRvd5Y4ePBxf"
      },
      "source": [
        "# print stair path\n",
        "def stair(ques, ans):\n",
        "  if ques < 0:\n",
        "    return\n",
        "  if ques == 0:\n",
        "    print(ans)\n",
        "    return \n",
        "  for i in range(1,ques+1):\n",
        "    # print(i)\n",
        "    stair(ques-i,ans + str(i))"
      ],
      "execution_count": null,
      "outputs": []
    },
    {
      "cell_type": "code",
      "metadata": {
        "colab": {
          "base_uri": "https://localhost:8080/"
        },
        "id": "vG6SkTYmK5LR",
        "outputId": "679c5cfe-f188-4787-826a-3c5f5c9287e3"
      },
      "source": [
        "stair(4,\"\")"
      ],
      "execution_count": null,
      "outputs": [
        {
          "output_type": "stream",
          "text": [
            "1111\n",
            "112\n",
            "121\n",
            "13\n",
            "211\n",
            "22\n",
            "31\n",
            "4\n"
          ],
          "name": "stdout"
        }
      ]
    },
    {
      "cell_type": "code",
      "metadata": {
        "id": "PKO4LpQzRlZV"
      },
      "source": [
        "# print stair path\n",
        "def stair1(stair, paths):\n",
        "  if stair < 0:\n",
        "    return\n",
        "  if stair == 0:\n",
        "    print(paths)\n",
        "    return \n",
        "  stair1(stair -1, paths + \"1\")\n",
        "  stair1(stair -2, paths + \"2\")\n",
        "  stair1(stair -3, paths + \"3\")\n"
      ],
      "execution_count": null,
      "outputs": []
    },
    {
      "cell_type": "code",
      "metadata": {
        "colab": {
          "base_uri": "https://localhost:8080/"
        },
        "id": "kGf7s5nTRpzM",
        "outputId": "6829d596-02a2-4d76-bf75-24df0c4c2659"
      },
      "source": [
        "stair1(4,\"\")"
      ],
      "execution_count": null,
      "outputs": [
        {
          "output_type": "stream",
          "text": [
            "1111\n",
            "112\n",
            "121\n",
            "13\n",
            "211\n",
            "22\n",
            "31\n"
          ],
          "name": "stdout"
        }
      ]
    },
    {
      "cell_type": "code",
      "metadata": {
        "id": "CH4mCW7oURRS"
      },
      "source": [
        "#print mazepath\n",
        "def maze(sr,sc,dr,dc, paths):\n",
        "  if sr == dr and sc ==dc:\n",
        "    print(paths)\n",
        "    return\n",
        "  if sr< dr:\n",
        "    maze(sr+1,sc,dr,dc,paths + \"h\")\n",
        "  if sc< dc:\n",
        "    maze(sr,sc+1,dr,dc,paths + \"v\")"
      ],
      "execution_count": null,
      "outputs": []
    },
    {
      "cell_type": "code",
      "metadata": {
        "colab": {
          "base_uri": "https://localhost:8080/"
        },
        "id": "MMBr5D4nVqO-",
        "outputId": "a08c2a1f-d10d-4ece-a04c-fbb9b1b42712"
      },
      "source": [
        "maze(1,1,3,3,\"\")"
      ],
      "execution_count": null,
      "outputs": [
        {
          "output_type": "stream",
          "text": [
            "hhvv\n",
            "hvhv\n",
            "hvvh\n",
            "vhhv\n",
            "vhvh\n",
            "vvhh\n"
          ],
          "name": "stdout"
        }
      ]
    },
    {
      "cell_type": "code",
      "metadata": {
        "id": "3ud8ViNRVtIP"
      },
      "source": [
        "# subset = [3 4 3 8 5 2 1,0 1] #5\n",
        "\n",
        "\n",
        "# maxSum = [3 4 3 8 2 2 1,0 1] [2 4 1 5 8 2 2 1,0 1 4 2]"
      ],
      "execution_count": null,
      "outputs": []
    },
    {
      "cell_type": "code",
      "metadata": {
        "id": "Ii51ibNSPPXf"
      },
      "source": [
        "def maze_jump1(sr,sc,dr,dc,paths):\n",
        "  if sr == dr and sc ==dc:\n",
        "    print(paths)\n",
        "    return\n",
        "  if sr<dr:\n",
        "    print(1)\n",
        "    for i in range(1,dr-sr):\n",
        "      maze_jump(sr+i,sc,dr,dc,paths + str(i) + \"h\")\n",
        "  if sc<dc:\n",
        "    for i in range(1,dc-sc):\n",
        "      maze_jump(sr,sc+i,dr,dc,paths + str(i) + \"v\")"
      ],
      "execution_count": null,
      "outputs": []
    },
    {
      "cell_type": "code",
      "metadata": {
        "colab": {
          "base_uri": "https://localhost:8080/"
        },
        "id": "m0JUUjpLQIBd",
        "outputId": "ce716ab6-173d-450f-c981-c6fe03994c1d"
      },
      "source": [
        "maze_jump1(1,1,3,3,\"\")"
      ],
      "execution_count": null,
      "outputs": [
        {
          "output_type": "stream",
          "text": [
            "1\n"
          ],
          "name": "stdout"
        }
      ]
    },
    {
      "cell_type": "code",
      "metadata": {
        "id": "M0md1netQMXg"
      },
      "source": [
        "def print_maze_jump(sr,sc,dr,dc,paths):\n",
        "  if sr == dr and sc ==dc:\n",
        "    print(paths)\n",
        "    return\n",
        "  for ms in range(1,dc-sc+1):\n",
        "    # print(ms)\n",
        "    print_maze_jump(sr,sc+ms,dr,dc,paths + \"h\" + str(ms))\n",
        "  for ms in range(1,dr-sr+1):\n",
        "    print_maze_jump(sr+ms,sc,dr,dc,paths + \"v\" + str(ms))\n",
        "  for ms in range(1,min(dr-sr,dc-sc)+1):\n",
        "    print_maze_jump(sr+ms,sc+ms,dr,dc,paths + \"d\" + str(ms))"
      ],
      "execution_count": null,
      "outputs": []
    },
    {
      "cell_type": "code",
      "metadata": {
        "colab": {
          "base_uri": "https://localhost:8080/"
        },
        "id": "8G0eJ3qzVqh3",
        "outputId": "0c441024-2276-4c2a-bfd0-573e7be6514c"
      },
      "source": [
        "print_maze_jump(1,1,3,3,\"\")"
      ],
      "execution_count": null,
      "outputs": [
        {
          "output_type": "stream",
          "text": [
            "h1h1v1v1\n",
            "h1h1v2\n",
            "h1v1h1v1\n",
            "h1v1v1h1\n",
            "h1v1d1\n",
            "h1v2h1\n",
            "h1d1v1\n",
            "h2v1v1\n",
            "h2v2\n",
            "v1h1h1v1\n",
            "v1h1v1h1\n",
            "v1h1d1\n",
            "v1h2v1\n",
            "v1v1h1h1\n",
            "v1v1h2\n",
            "v1d1h1\n",
            "v2h1h1\n",
            "v2h2\n",
            "d1h1v1\n",
            "d1v1h1\n",
            "d1d1\n",
            "d2\n"
          ],
          "name": "stdout"
        }
      ]
    },
    {
      "cell_type": "code",
      "metadata": {
        "id": "yO1nTL3XYz0x"
      },
      "source": [
        "\n"
      ],
      "execution_count": null,
      "outputs": []
    },
    {
      "cell_type": "code",
      "metadata": {
        "id": "yyoTc_KgVuep"
      },
      "source": [
        "# print permutation\n",
        "\n",
        "def perm(ques, ans):\n",
        "  print(\"ques\",ques)\n",
        "  if len(ques) == 0:\n",
        "    print(ans)\n",
        "    return\n",
        "  for ch in ques:\n",
        "    roq = ques.replace(ch, \"\")\n",
        "    # print(roq)\n",
        "    perm(roq,ans+ch)"
      ],
      "execution_count": null,
      "outputs": []
    },
    {
      "cell_type": "code",
      "metadata": {
        "id": "acpRdTIEo3Zi"
      },
      "source": [
        ""
      ],
      "execution_count": null,
      "outputs": []
    },
    {
      "cell_type": "code",
      "metadata": {
        "colab": {
          "base_uri": "https://localhost:8080/"
        },
        "id": "vmXU6HhwZjqR",
        "outputId": "26c9a0e5-6311-417d-8a81-829dfba21c81"
      },
      "source": [
        "perm('abc',\"\")"
      ],
      "execution_count": null,
      "outputs": [
        {
          "output_type": "stream",
          "text": [
            "ques abc\n",
            "ques bc\n",
            "ques c\n",
            "ques \n",
            "abc\n",
            "ques b\n",
            "ques \n",
            "acb\n",
            "ques ac\n",
            "ques c\n",
            "ques \n",
            "bac\n",
            "ques a\n",
            "ques \n",
            "bca\n",
            "ques ab\n",
            "ques b\n",
            "ques \n",
            "cab\n",
            "ques a\n",
            "ques \n",
            "cba\n"
          ],
          "name": "stdout"
        }
      ]
    },
    {
      "cell_type": "code",
      "metadata": {
        "id": "jL82BiYmZl05"
      },
      "source": [
        "# print(encodings)\n",
        "arr_char= ['a','b','c','d','e','f','g','h','i','j','k','l','m','n','o','p','q','r','s','t','u','v','w','x','y','z']\n",
        "def encod(ques,ans):\n",
        "  if len(ques) == 0:\n",
        "    print(ans)\n",
        "    return\n",
        "  if ques[0] == 0:\n",
        "    return \n",
        "  \n",
        "  for i in range(len(ques)):\n",
        "    ch = ques[:i+1]\n",
        "    ch =  int(ch)\n",
        "    print('ch', ch)\n",
        "    # if ch == 0:\n",
        "    #   roq = ques.replace(str(ch),'')\n",
        "      # encod(roq, ans)\n",
        "    if ch <26 :\n",
        "      roq = ques.replace(str(ch),'')\n",
        "      encod(roq, ans + arr_char[ch-1])\n"
      ],
      "execution_count": null,
      "outputs": []
    },
    {
      "cell_type": "code",
      "metadata": {
        "colab": {
          "base_uri": "https://localhost:8080/"
        },
        "id": "FbZFqsE1m--k",
        "outputId": "22331f89-bda9-41c8-fe10-a6d72704676d"
      },
      "source": [
        "encod('03',\"\")"
      ],
      "execution_count": null,
      "outputs": [
        {
          "output_type": "stream",
          "text": [
            "ch 0\n",
            "ch 3\n",
            "zc\n",
            "ch 3\n",
            "ch 0\n",
            "cz\n"
          ],
          "name": "stdout"
        }
      ]
    },
    {
      "cell_type": "code",
      "metadata": {
        "colab": {
          "base_uri": "https://localhost:8080/"
        },
        "id": "B83Cv17unDn3",
        "outputId": "be7ea952-21e9-4a20-db5d-5d74e0d8b801"
      },
      "source": [
        "char = '03'\n",
        "char =  int(char)\n",
        "print(char)"
      ],
      "execution_count": null,
      "outputs": [
        {
          "output_type": "stream",
          "text": [
            "3\n"
          ],
          "name": "stdout"
        }
      ]
    },
    {
      "cell_type": "code",
      "metadata": {
        "id": "HYhJBwvutRjr"
      },
      "source": [
        "def encod(ques,ans =\"\"):\n",
        "\n",
        "  if len(ques) == 0:\n",
        "    print(ans)\n",
        "    return\n",
        "\n",
        "  if ques[0] == '0':\n",
        "    return \n",
        "\n",
        "  \n",
        "  for i in range(len(ques)):\n",
        "    key = ques[:i+1]\n",
        "    key =  int(key)\n",
        "    roq = ques[i+1:]\n",
        "    # if ch == 0:\n",
        "    #   roq = ques.replace(str(ch),'')\n",
        "      # encod(roq, ans)\n",
        "    if key <26  :\n",
        "      encod(roq, ans + arr_char[key-1])\n",
        "encod('270')\n"
      ],
      "execution_count": null,
      "outputs": []
    },
    {
      "cell_type": "code",
      "metadata": {
        "id": "bNoZL5px2QJH"
      },
      "source": [
        "arr = [3,4, 3, 8, 5, 2, 1,0, 1]\n",
        "def subset(arr, t_sum, ans = []):\n",
        "  if len(arr) == 0:\n",
        "    if sum(ans) == t_sum:\n",
        "      print(ans)\n",
        "      return\n",
        "    return\n",
        "\n",
        "  ch = arr[0]\n",
        "  roq = arr[1:]\n",
        "  subset(roq,t_sum,ans+[ch])\n",
        "  subset(roq,t_sum,ans)\n",
        "\n"
      ],
      "execution_count": null,
      "outputs": []
    },
    {
      "cell_type": "code",
      "metadata": {
        "colab": {
          "base_uri": "https://localhost:8080/"
        },
        "id": "cFN-vYJyaEQQ",
        "outputId": "9a190d70-235b-4e69-fd3c-2c59bf2d2d6a"
      },
      "source": [
        "subset(arr,5)"
      ],
      "execution_count": null,
      "outputs": [
        {
          "output_type": "stream",
          "text": [
            "[3, 2, 0]\n",
            "[3, 2]\n",
            "[3, 1, 0, 1]\n",
            "[3, 1, 1]\n",
            "[4, 1, 0]\n",
            "[4, 1]\n",
            "[4, 0, 1]\n",
            "[4, 1]\n",
            "[3, 2, 0]\n",
            "[3, 2]\n",
            "[3, 1, 0, 1]\n",
            "[3, 1, 1]\n",
            "[5, 0]\n",
            "[5]\n"
          ],
          "name": "stdout"
        }
      ]
    },
    {
      "cell_type": "code",
      "metadata": {
        "id": "egjE0aw0aMT4",
        "colab": {
          "base_uri": "https://localhost:8080/"
        },
        "outputId": "7762ed13-c5c4-4d62-8636-b6289ca0f264"
      },
      "source": [
        "# flood fill\n",
        "arr = [[0,1,0,0,0,0,0],\n",
        "       [0,1,0,1,1,1,0],\n",
        "       [0,0,0,0,0,0,0],\n",
        "       [1,0,1,1,0,1,1],\n",
        "       [1,0,1,1,0,1,1],\n",
        "       [1,0,0,0,0,0,0]]\n",
        "visited = []\n",
        "\n",
        "\n",
        "for i in range(0,len(arr)):\n",
        "  visited.append(len(arr[0])*[False])\n",
        "def f_fill(arr,row,col,paths):\n",
        "\\\\\n",
        "  # print(arr[row][col])\n",
        "  # print('vis',visited[row][col])\n",
        "\n",
        "  if row < 0 or col<0 or row == len(arr) or col == len(arr[0]) or arr[row][col] ==1 or visited[row][col] == True:\n",
        "    return\n",
        "  if row == len(arr)-1 and col == len(arr[0])-1:\n",
        "    print(paths)\n",
        "    return\n",
        "\n",
        "  visited[row][col] = True\n",
        "  f_fill(arr, row-1, col, paths + \"t\")\n",
        "\n",
        "  f_fill(arr, row, col-1, paths + \"l\")\n",
        "  f_fill(arr, row+1, col, paths + \"d\")\n",
        "  f_fill(arr, row, col+1, paths + \"r\")\n",
        "\n",
        "  visited[row][col] =  False\n",
        "\n",
        "f_fill(arr,0,0,\"\")\n",
        "  "
      ],
      "execution_count": null,
      "outputs": [
        {
          "output_type": "stream",
          "text": [
            "\n",
            "0 0\n",
            "t\n",
            "-1 0\n",
            "l\n",
            "0 -1\n",
            "d\n",
            "1 0\n",
            "dt\n",
            "0 0\n",
            "dl\n",
            "1 -1\n",
            "dd\n",
            "2 0\n",
            "ddt\n",
            "1 0\n",
            "ddl\n",
            "2 -1\n",
            "ddd\n",
            "3 0\n",
            "ddr\n",
            "2 1\n",
            "ddrt\n",
            "1 1\n",
            "ddrl\n",
            "2 0\n",
            "ddrd\n",
            "3 1\n",
            "ddrdt\n",
            "2 1\n",
            "ddrdl\n",
            "3 0\n",
            "ddrdd\n",
            "4 1\n",
            "ddrddt\n",
            "3 1\n",
            "ddrddl\n",
            "4 0\n",
            "ddrddd\n",
            "5 1\n",
            "ddrdddt\n",
            "4 1\n",
            "ddrdddl\n",
            "5 0\n",
            "ddrdddd\n",
            "6 1\n",
            "ddrdddr\n",
            "5 2\n",
            "ddrdddrt\n",
            "4 2\n",
            "ddrdddrl\n",
            "5 1\n",
            "ddrdddrd\n",
            "6 2\n",
            "ddrdddrr\n",
            "5 3\n",
            "ddrdddrrt\n",
            "4 3\n",
            "ddrdddrrl\n",
            "5 2\n",
            "ddrdddrrd\n",
            "6 3\n",
            "ddrdddrrr\n",
            "5 4\n",
            "ddrdddrrrt\n",
            "4 4\n",
            "ddrdddrrrtt\n",
            "3 4\n",
            "ddrdddrrrttt\n",
            "2 4\n",
            "ddrdddrrrtttt\n",
            "1 4\n",
            "ddrdddrrrtttl\n",
            "2 3\n",
            "ddrdddrrrtttlt\n",
            "1 3\n",
            "ddrdddrrrtttll\n",
            "2 2\n",
            "ddrdddrrrtttllt\n",
            "1 2\n",
            "ddrdddrrrtttlltt\n",
            "0 2\n",
            "ddrdddrrrtttllttt\n",
            "-1 2\n",
            "ddrdddrrrtttllttl\n",
            "0 1\n",
            "ddrdddrrrtttllttd\n",
            "1 2\n",
            "ddrdddrrrtttllttr\n",
            "0 3\n",
            "ddrdddrrrtttllttrt\n",
            "-1 3\n",
            "ddrdddrrrtttllttrl\n",
            "0 2\n",
            "ddrdddrrrtttllttrd\n",
            "1 3\n",
            "ddrdddrrrtttllttrr\n",
            "0 4\n",
            "ddrdddrrrtttllttrrt\n",
            "-1 4\n",
            "ddrdddrrrtttllttrrl\n",
            "0 3\n",
            "ddrdddrrrtttllttrrd\n",
            "1 4\n",
            "ddrdddrrrtttllttrrr\n",
            "0 5\n",
            "ddrdddrrrtttllttrrrt\n",
            "-1 5\n",
            "ddrdddrrrtttllttrrrl\n",
            "0 4\n",
            "ddrdddrrrtttllttrrrd\n",
            "1 5\n",
            "ddrdddrrrtttllttrrrr\n",
            "0 6\n",
            "ddrdddrrrtttllttrrrrt\n",
            "-1 6\n",
            "ddrdddrrrtttllttrrrrl\n",
            "0 5\n",
            "ddrdddrrrtttllttrrrrd\n",
            "1 6\n",
            "ddrdddrrrtttllttrrrrdt\n",
            "0 6\n",
            "ddrdddrrrtttllttrrrrdl\n",
            "1 5\n",
            "ddrdddrrrtttllttrrrrdd\n",
            "2 6\n",
            "ddrdddrrrtttllttrrrrddt\n",
            "1 6\n",
            "ddrdddrrrtttllttrrrrddl\n",
            "2 5\n",
            "ddrdddrrrtttllttrrrrddlt\n",
            "1 5\n",
            "ddrdddrrrtttllttrrrrddll\n",
            "2 4\n",
            "ddrdddrrrtttllttrrrrddld\n",
            "3 5\n",
            "ddrdddrrrtttllttrrrrddlr\n",
            "2 6\n",
            "ddrdddrrrtttllttrrrrddd\n",
            "3 6\n",
            "ddrdddrrrtttllttrrrrddr\n",
            "2 7\n",
            "ddrdddrrrtttllttrrrrdr\n",
            "1 7\n",
            "ddrdddrrrtttllttrrrrr\n",
            "0 7\n",
            "ddrdddrrrtttlltl\n",
            "1 1\n",
            "ddrdddrrrtttlltd\n",
            "2 2\n",
            "ddrdddrrrtttlltr\n",
            "1 3\n",
            "ddrdddrrrtttlll\n",
            "2 1\n",
            "ddrdddrrrtttlld\n",
            "3 2\n",
            "ddrdddrrrtttllr\n",
            "2 3\n",
            "ddrdddrrrtttld\n",
            "3 3\n",
            "ddrdddrrrtttlr\n",
            "2 4\n",
            "ddrdddrrrtttd\n",
            "3 4\n",
            "ddrdddrrrtttr\n",
            "2 5\n",
            "ddrdddrrrtttrt\n",
            "1 5\n",
            "ddrdddrrrtttrl\n",
            "2 4\n",
            "ddrdddrrrtttrd\n",
            "3 5\n",
            "ddrdddrrrtttrr\n",
            "2 6\n",
            "ddrdddrrrtttrrt\n",
            "1 6\n",
            "ddrdddrrrtttrrtt\n",
            "0 6\n",
            "ddrdddrrrtttrrttt\n",
            "-1 6\n",
            "ddrdddrrrtttrrttl\n",
            "0 5\n",
            "ddrdddrrrtttrrttlt\n",
            "-1 5\n",
            "ddrdddrrrtttrrttll\n",
            "0 4\n",
            "ddrdddrrrtttrrttllt\n",
            "-1 4\n",
            "ddrdddrrrtttrrttlll\n",
            "0 3\n",
            "ddrdddrrrtttrrttlllt\n",
            "-1 3\n",
            "ddrdddrrrtttrrttllll\n",
            "0 2\n",
            "ddrdddrrrtttrrttllllt\n",
            "-1 2\n",
            "ddrdddrrrtttrrttlllll\n",
            "0 1\n",
            "ddrdddrrrtttrrttlllld\n",
            "1 2\n",
            "ddrdddrrrtttrrttlllldt\n",
            "0 2\n",
            "ddrdddrrrtttrrttlllldl\n",
            "1 1\n",
            "ddrdddrrrtttrrttlllldd\n",
            "2 2\n",
            "ddrdddrrrtttrrttllllddt\n",
            "1 2\n",
            "ddrdddrrrtttrrttllllddl\n",
            "2 1\n",
            "ddrdddrrrtttrrttllllddd\n",
            "3 2\n",
            "ddrdddrrrtttrrttllllddr\n",
            "2 3\n",
            "ddrdddrrrtttrrttllllddrt\n",
            "1 3\n",
            "ddrdddrrrtttrrttllllddrl\n",
            "2 2\n",
            "ddrdddrrrtttrrttllllddrd\n",
            "3 3\n",
            "ddrdddrrrtttrrttllllddrr\n",
            "2 4\n",
            "ddrdddrrrtttrrttlllldr\n",
            "1 3\n",
            "ddrdddrrrtttrrttllllr\n",
            "0 3\n",
            "ddrdddrrrtttrrttllld\n",
            "1 3\n",
            "ddrdddrrrtttrrttlllr\n",
            "0 4\n",
            "ddrdddrrrtttrrttlld\n",
            "1 4\n",
            "ddrdddrrrtttrrttllr\n",
            "0 5\n",
            "ddrdddrrrtttrrttld\n",
            "1 5\n",
            "ddrdddrrrtttrrttlr\n",
            "0 6\n",
            "ddrdddrrrtttrrttd\n",
            "1 6\n",
            "ddrdddrrrtttrrttr\n",
            "0 7\n",
            "ddrdddrrrtttrrtl\n",
            "1 5\n",
            "ddrdddrrrtttrrtd\n",
            "2 6\n",
            "ddrdddrrrtttrrtr\n",
            "1 7\n",
            "ddrdddrrrtttrrl\n",
            "2 5\n",
            "ddrdddrrrtttrrd\n",
            "3 6\n",
            "ddrdddrrrtttrrr\n",
            "2 7\n",
            "ddrdddrrrttl\n",
            "3 3\n",
            "ddrdddrrrttd\n",
            "4 4\n",
            "ddrdddrrrttr\n",
            "3 5\n",
            "ddrdddrrrtl\n",
            "4 3\n",
            "ddrdddrrrtd\n",
            "5 4\n",
            "ddrdddrrrtr\n",
            "4 5\n",
            "ddrdddrrrl\n",
            "5 3\n",
            "ddrdddrrrd\n",
            "6 4\n",
            "ddrdddrrrr\n",
            "5 5\n",
            "ddrdddrrrrt\n",
            "4 5\n",
            "ddrdddrrrrl\n",
            "5 4\n",
            "ddrdddrrrrd\n",
            "6 5\n",
            "ddrdddrrrrr\n",
            "5 6\n",
            "ddrdddrrrrr\n",
            "ddrddr\n",
            "4 2\n",
            "ddrdr\n",
            "3 2\n",
            "ddrr\n",
            "2 2\n",
            "ddrrt\n",
            "1 2\n",
            "ddrrtt\n",
            "0 2\n",
            "ddrrttt\n",
            "-1 2\n",
            "ddrrttl\n",
            "0 1\n",
            "ddrrttd\n",
            "1 2\n",
            "ddrrttr\n",
            "0 3\n",
            "ddrrttrt\n",
            "-1 3\n",
            "ddrrttrl\n",
            "0 2\n",
            "ddrrttrd\n",
            "1 3\n",
            "ddrrttrr\n",
            "0 4\n",
            "ddrrttrrt\n",
            "-1 4\n",
            "ddrrttrrl\n",
            "0 3\n",
            "ddrrttrrd\n",
            "1 4\n",
            "ddrrttrrr\n",
            "0 5\n",
            "ddrrttrrrt\n",
            "-1 5\n",
            "ddrrttrrrl\n",
            "0 4\n",
            "ddrrttrrrd\n",
            "1 5\n",
            "ddrrttrrrr\n",
            "0 6\n",
            "ddrrttrrrrt\n",
            "-1 6\n",
            "ddrrttrrrrl\n",
            "0 5\n",
            "ddrrttrrrrd\n",
            "1 6\n",
            "ddrrttrrrrdt\n",
            "0 6\n",
            "ddrrttrrrrdl\n",
            "1 5\n",
            "ddrrttrrrrdd\n",
            "2 6\n",
            "ddrrttrrrrddt\n",
            "1 6\n",
            "ddrrttrrrrddl\n",
            "2 5\n",
            "ddrrttrrrrddlt\n",
            "1 5\n",
            "ddrrttrrrrddll\n",
            "2 4\n",
            "ddrrttrrrrddllt\n",
            "1 4\n",
            "ddrrttrrrrddlll\n",
            "2 3\n",
            "ddrrttrrrrddlllt\n",
            "1 3\n",
            "ddrrttrrrrddllll\n",
            "2 2\n",
            "ddrrttrrrrddllld\n",
            "3 3\n",
            "ddrrttrrrrddlllr\n",
            "2 4\n",
            "ddrrttrrrrddlld\n",
            "3 4\n",
            "ddrrttrrrrddlldt\n",
            "2 4\n",
            "ddrrttrrrrddlldl\n",
            "3 3\n",
            "ddrrttrrrrddlldd\n",
            "4 4\n",
            "ddrrttrrrrddllddt\n",
            "3 4\n",
            "ddrrttrrrrddllddl\n",
            "4 3\n",
            "ddrrttrrrrddllddd\n",
            "5 4\n",
            "ddrrttrrrrddlldddt\n",
            "4 4\n",
            "ddrrttrrrrddlldddl\n",
            "5 3\n",
            "ddrrttrrrrddlldddlt\n",
            "4 3\n",
            "ddrrttrrrrddlldddll\n",
            "5 2\n",
            "ddrrttrrrrddlldddllt\n",
            "4 2\n",
            "ddrrttrrrrddlldddlll\n",
            "5 1\n",
            "ddrrttrrrrddlldddlllt\n",
            "4 1\n",
            "ddrrttrrrrddlldddllltt\n",
            "3 1\n",
            "ddrrttrrrrddlldddlllttt\n",
            "2 1\n",
            "ddrrttrrrrddlldddlllttl\n",
            "3 0\n",
            "ddrrttrrrrddlldddlllttd\n",
            "4 1\n",
            "ddrrttrrrrddlldddlllttr\n",
            "3 2\n",
            "ddrrttrrrrddlldddllltl\n",
            "4 0\n",
            "ddrrttrrrrddlldddllltd\n",
            "5 1\n",
            "ddrrttrrrrddlldddllltr\n",
            "4 2\n",
            "ddrrttrrrrddlldddllll\n",
            "5 0\n",
            "ddrrttrrrrddlldddllld\n",
            "6 1\n",
            "ddrrttrrrrddlldddlllr\n",
            "5 2\n",
            "ddrrttrrrrddlldddlld\n",
            "6 2\n",
            "ddrrttrrrrddlldddllr\n",
            "5 3\n",
            "ddrrttrrrrddlldddld\n",
            "6 3\n",
            "ddrrttrrrrddlldddlr\n",
            "5 4\n",
            "ddrrttrrrrddlldddd\n",
            "6 4\n",
            "ddrrttrrrrddlldddr\n",
            "5 5\n",
            "ddrrttrrrrddlldddrt\n",
            "4 5\n",
            "ddrrttrrrrddlldddrl\n",
            "5 4\n",
            "ddrrttrrrrddlldddrd\n",
            "6 5\n",
            "ddrrttrrrrddlldddrr\n",
            "5 6\n",
            "ddrrttrrrrddlldddrr\n",
            "ddrrttrrrrddllddr\n",
            "4 5\n",
            "ddrrttrrrrddlldr\n",
            "3 5\n",
            "ddrrttrrrrddllr\n",
            "2 5\n",
            "ddrrttrrrrddld\n",
            "3 5\n",
            "ddrrttrrrrddlr\n",
            "2 6\n",
            "ddrrttrrrrddd\n",
            "3 6\n",
            "ddrrttrrrrddr\n",
            "2 7\n",
            "ddrrttrrrrdr\n",
            "1 7\n",
            "ddrrttrrrrr\n",
            "0 7\n",
            "ddrrtl\n",
            "1 1\n",
            "ddrrtd\n",
            "2 2\n",
            "ddrrtr\n",
            "1 3\n",
            "ddrrl\n",
            "2 1\n",
            "ddrrd\n",
            "3 2\n",
            "ddrrr\n",
            "2 3\n",
            "ddrrrt\n",
            "1 3\n",
            "ddrrrl\n",
            "2 2\n",
            "ddrrrd\n",
            "3 3\n",
            "ddrrrr\n",
            "2 4\n",
            "ddrrrrt\n",
            "1 4\n",
            "ddrrrrl\n",
            "2 3\n",
            "ddrrrrd\n",
            "3 4\n",
            "ddrrrrdt\n",
            "2 4\n",
            "ddrrrrdl\n",
            "3 3\n",
            "ddrrrrdd\n",
            "4 4\n",
            "ddrrrrddt\n",
            "3 4\n",
            "ddrrrrddl\n",
            "4 3\n",
            "ddrrrrddd\n",
            "5 4\n",
            "ddrrrrdddt\n",
            "4 4\n",
            "ddrrrrdddl\n",
            "5 3\n",
            "ddrrrrdddlt\n",
            "4 3\n",
            "ddrrrrdddll\n",
            "5 2\n",
            "ddrrrrdddllt\n",
            "4 2\n",
            "ddrrrrdddlll\n",
            "5 1\n",
            "ddrrrrdddlllt\n",
            "4 1\n",
            "ddrrrrdddllltt\n",
            "3 1\n",
            "ddrrrrdddlllttt\n",
            "2 1\n",
            "ddrrrrdddlllttl\n",
            "3 0\n",
            "ddrrrrdddlllttd\n",
            "4 1\n",
            "ddrrrrdddlllttr\n",
            "3 2\n",
            "ddrrrrdddllltl\n",
            "4 0\n",
            "ddrrrrdddllltd\n",
            "5 1\n",
            "ddrrrrdddllltr\n",
            "4 2\n",
            "ddrrrrdddllll\n",
            "5 0\n",
            "ddrrrrdddllld\n",
            "6 1\n",
            "ddrrrrdddlllr\n",
            "5 2\n",
            "ddrrrrdddlld\n",
            "6 2\n",
            "ddrrrrdddllr\n",
            "5 3\n",
            "ddrrrrdddld\n",
            "6 3\n",
            "ddrrrrdddlr\n",
            "5 4\n",
            "ddrrrrdddd\n",
            "6 4\n",
            "ddrrrrdddr\n",
            "5 5\n",
            "ddrrrrdddrt\n",
            "4 5\n",
            "ddrrrrdddrl\n",
            "5 4\n",
            "ddrrrrdddrd\n",
            "6 5\n",
            "ddrrrrdddrr\n",
            "5 6\n",
            "ddrrrrdddrr\n",
            "ddrrrrddr\n",
            "4 5\n",
            "ddrrrrdr\n",
            "3 5\n",
            "ddrrrrr\n",
            "2 5\n",
            "ddrrrrrt\n",
            "1 5\n",
            "ddrrrrrl\n",
            "2 4\n",
            "ddrrrrrd\n",
            "3 5\n",
            "ddrrrrrr\n",
            "2 6\n",
            "ddrrrrrrt\n",
            "1 6\n",
            "ddrrrrrrtt\n",
            "0 6\n",
            "ddrrrrrrttt\n",
            "-1 6\n",
            "ddrrrrrrttl\n",
            "0 5\n",
            "ddrrrrrrttlt\n",
            "-1 5\n",
            "ddrrrrrrttll\n",
            "0 4\n",
            "ddrrrrrrttllt\n",
            "-1 4\n",
            "ddrrrrrrttlll\n",
            "0 3\n",
            "ddrrrrrrttlllt\n",
            "-1 3\n",
            "ddrrrrrrttllll\n",
            "0 2\n",
            "ddrrrrrrttllllt\n",
            "-1 2\n",
            "ddrrrrrrttlllll\n",
            "0 1\n",
            "ddrrrrrrttlllld\n",
            "1 2\n",
            "ddrrrrrrttlllldt\n",
            "0 2\n",
            "ddrrrrrrttlllldl\n",
            "1 1\n",
            "ddrrrrrrttlllldd\n",
            "2 2\n",
            "ddrrrrrrttlllldr\n",
            "1 3\n",
            "ddrrrrrrttllllr\n",
            "0 3\n",
            "ddrrrrrrttllld\n",
            "1 3\n",
            "ddrrrrrrttlllr\n",
            "0 4\n",
            "ddrrrrrrttlld\n",
            "1 4\n",
            "ddrrrrrrttllr\n",
            "0 5\n",
            "ddrrrrrrttld\n",
            "1 5\n",
            "ddrrrrrrttlr\n",
            "0 6\n",
            "ddrrrrrrttd\n",
            "1 6\n",
            "ddrrrrrrttr\n",
            "0 7\n",
            "ddrrrrrrtl\n",
            "1 5\n",
            "ddrrrrrrtd\n",
            "2 6\n",
            "ddrrrrrrtr\n",
            "1 7\n",
            "ddrrrrrrl\n",
            "2 5\n",
            "ddrrrrrrd\n",
            "3 6\n",
            "ddrrrrrrr\n",
            "2 7\n",
            "dr\n",
            "1 1\n",
            "r\n",
            "0 1\n"
          ],
          "name": "stdout"
        }
      ]
    },
    {
      "cell_type": "code",
      "metadata": {
        "id": "ymI8_HYg3NUD"
      },
      "source": [
        ""
      ],
      "execution_count": null,
      "outputs": []
    },
    {
      "cell_type": "code",
      "metadata": {
        "colab": {
          "base_uri": "https://localhost:8080/"
        },
        "id": "B15A3h8p0tMI",
        "outputId": "3e7e371b-3bd4-47bb-cfc8-f2059535b8ec"
      },
      "source": [
        "abc = [None] * len(arr) \n",
        "for i in range(0,len(arr)):\n",
        "  gef =  [None] * len(arr[0])\n",
        "  abc[i] =gef\n",
        "abc"
      ],
      "execution_count": null,
      "outputs": [
        {
          "output_type": "execute_result",
          "data": {
            "text/plain": [
              "[[None, None, None, None, None, None, None],\n",
              " [None, None, None, None, None, None, None],\n",
              " [None, None, None, None, None, None, None],\n",
              " [None, None, None, None, None, None, None],\n",
              " [None, None, None, None, None, None, None],\n",
              " [None, None, None, None, None, None, None]]"
            ]
          },
          "metadata": {
            "tags": []
          },
          "execution_count": 63
        }
      ]
    },
    {
      "cell_type": "code",
      "metadata": {
        "colab": {
          "base_uri": "https://localhost:8080/"
        },
        "id": "CihMsyv11-YL",
        "outputId": "ce95251c-9053-47a4-aba6-ea75524c8f1a"
      },
      "source": [
        "abc = []\n",
        "for i in range(0,len(arr)):\n",
        "  abc.append(len(arr[0])*[False])\n",
        "abc"
      ],
      "execution_count": null,
      "outputs": [
        {
          "output_type": "execute_result",
          "data": {
            "text/plain": [
              "[[False, False, False, False, False, False, False],\n",
              " [False, False, False, False, False, False, False],\n",
              " [False, False, False, False, False, False, False],\n",
              " [False, False, False, False, False, False, False],\n",
              " [False, False, False, False, False, False, False],\n",
              " [False, False, False, False, False, False, False]]"
            ]
          },
          "metadata": {
            "tags": []
          },
          "execution_count": 21
        }
      ]
    },
    {
      "cell_type": "code",
      "metadata": {
        "colab": {
          "base_uri": "https://localhost:8080/",
          "height": 340
        },
        "id": "9OFKXVyEyhs-",
        "outputId": "4dad5665-6709-4b38-9f50-2b4348cc4945"
      },
      "source": [
        "f_fill(arr,0,0,\"\")"
      ],
      "execution_count": null,
      "outputs": [
        {
          "output_type": "error",
          "ename": "RecursionError",
          "evalue": "ignored",
          "traceback": [
            "\u001b[0;31m---------------------------------------------------------------------------\u001b[0m",
            "\u001b[0;31mRecursionError\u001b[0m                            Traceback (most recent call last)",
            "\u001b[0;32m<ipython-input-25-09ab479f5f23>\u001b[0m in \u001b[0;36m<module>\u001b[0;34m()\u001b[0m\n\u001b[0;32m----> 1\u001b[0;31m \u001b[0mf_fill\u001b[0m\u001b[0;34m(\u001b[0m\u001b[0marr\u001b[0m\u001b[0;34m,\u001b[0m\u001b[0;36m0\u001b[0m\u001b[0;34m,\u001b[0m\u001b[0;36m0\u001b[0m\u001b[0;34m,\u001b[0m\u001b[0;34m\"\"\u001b[0m\u001b[0;34m)\u001b[0m\u001b[0;34m\u001b[0m\u001b[0;34m\u001b[0m\u001b[0m\n\u001b[0m",
            "\u001b[0;32m<ipython-input-24-32d49ccfcbc6>\u001b[0m in \u001b[0;36mf_fill\u001b[0;34m(arr, row, col, paths)\u001b[0m\n\u001b[1;32m     20\u001b[0m   \u001b[0mf_fill\u001b[0m\u001b[0;34m(\u001b[0m\u001b[0marr\u001b[0m\u001b[0;34m,\u001b[0m \u001b[0mrow\u001b[0m\u001b[0;34m-\u001b[0m\u001b[0;36m1\u001b[0m\u001b[0;34m,\u001b[0m \u001b[0mcol\u001b[0m\u001b[0;34m,\u001b[0m \u001b[0mpaths\u001b[0m \u001b[0;34m+\u001b[0m \u001b[0;34m\"t\"\u001b[0m\u001b[0;34m)\u001b[0m\u001b[0;34m\u001b[0m\u001b[0;34m\u001b[0m\u001b[0m\n\u001b[1;32m     21\u001b[0m   \u001b[0mf_fill\u001b[0m\u001b[0;34m(\u001b[0m\u001b[0marr\u001b[0m\u001b[0;34m,\u001b[0m \u001b[0mrow\u001b[0m\u001b[0;34m,\u001b[0m \u001b[0mcol\u001b[0m\u001b[0;34m-\u001b[0m\u001b[0;36m1\u001b[0m\u001b[0;34m,\u001b[0m \u001b[0mpaths\u001b[0m \u001b[0;34m+\u001b[0m \u001b[0;34m\"l\"\u001b[0m\u001b[0;34m)\u001b[0m\u001b[0;34m\u001b[0m\u001b[0;34m\u001b[0m\u001b[0m\n\u001b[0;32m---> 22\u001b[0;31m   \u001b[0mf_fill\u001b[0m\u001b[0;34m(\u001b[0m\u001b[0marr\u001b[0m\u001b[0;34m,\u001b[0m \u001b[0mrow\u001b[0m\u001b[0;34m+\u001b[0m\u001b[0;36m1\u001b[0m\u001b[0;34m,\u001b[0m \u001b[0mcol\u001b[0m\u001b[0;34m,\u001b[0m \u001b[0mpaths\u001b[0m \u001b[0;34m+\u001b[0m \u001b[0;34m\"d\"\u001b[0m\u001b[0;34m)\u001b[0m\u001b[0;34m\u001b[0m\u001b[0;34m\u001b[0m\u001b[0m\n\u001b[0m\u001b[1;32m     23\u001b[0m   \u001b[0mf_fill\u001b[0m\u001b[0;34m(\u001b[0m\u001b[0marr\u001b[0m\u001b[0;34m,\u001b[0m \u001b[0mrow1\u001b[0m\u001b[0;34m,\u001b[0m \u001b[0mcol\u001b[0m\u001b[0;34m+\u001b[0m\u001b[0;36m1\u001b[0m\u001b[0;34m,\u001b[0m \u001b[0mpaths\u001b[0m \u001b[0;34m+\u001b[0m \u001b[0;34m\"r\"\u001b[0m\u001b[0;34m)\u001b[0m\u001b[0;34m\u001b[0m\u001b[0;34m\u001b[0m\u001b[0m\n\u001b[1;32m     24\u001b[0m   \u001b[0mvisited\u001b[0m\u001b[0;34m[\u001b[0m\u001b[0mrow\u001b[0m\u001b[0;34m]\u001b[0m\u001b[0;34m[\u001b[0m\u001b[0mcol\u001b[0m\u001b[0;34m]\u001b[0m \u001b[0;34m=\u001b[0m  \u001b[0;32mFalse\u001b[0m\u001b[0;34m\u001b[0m\u001b[0;34m\u001b[0m\u001b[0m\n",
            "\u001b[0;32m<ipython-input-24-32d49ccfcbc6>\u001b[0m in \u001b[0;36mf_fill\u001b[0;34m(arr, row, col, paths)\u001b[0m\n\u001b[1;32m     18\u001b[0m \u001b[0;34m\u001b[0m\u001b[0m\n\u001b[1;32m     19\u001b[0m   \u001b[0mvisited\u001b[0m\u001b[0;34m[\u001b[0m\u001b[0mrow\u001b[0m\u001b[0;34m]\u001b[0m\u001b[0;34m[\u001b[0m\u001b[0mcol\u001b[0m\u001b[0;34m]\u001b[0m \u001b[0;34m=\u001b[0m \u001b[0;32mTrue\u001b[0m\u001b[0;34m\u001b[0m\u001b[0;34m\u001b[0m\u001b[0m\n\u001b[0;32m---> 20\u001b[0;31m   \u001b[0mf_fill\u001b[0m\u001b[0;34m(\u001b[0m\u001b[0marr\u001b[0m\u001b[0;34m,\u001b[0m \u001b[0mrow\u001b[0m\u001b[0;34m-\u001b[0m\u001b[0;36m1\u001b[0m\u001b[0;34m,\u001b[0m \u001b[0mcol\u001b[0m\u001b[0;34m,\u001b[0m \u001b[0mpaths\u001b[0m \u001b[0;34m+\u001b[0m \u001b[0;34m\"t\"\u001b[0m\u001b[0;34m)\u001b[0m\u001b[0;34m\u001b[0m\u001b[0;34m\u001b[0m\u001b[0m\n\u001b[0m\u001b[1;32m     21\u001b[0m   \u001b[0mf_fill\u001b[0m\u001b[0;34m(\u001b[0m\u001b[0marr\u001b[0m\u001b[0;34m,\u001b[0m \u001b[0mrow\u001b[0m\u001b[0;34m,\u001b[0m \u001b[0mcol\u001b[0m\u001b[0;34m-\u001b[0m\u001b[0;36m1\u001b[0m\u001b[0;34m,\u001b[0m \u001b[0mpaths\u001b[0m \u001b[0;34m+\u001b[0m \u001b[0;34m\"l\"\u001b[0m\u001b[0;34m)\u001b[0m\u001b[0;34m\u001b[0m\u001b[0;34m\u001b[0m\u001b[0m\n\u001b[1;32m     22\u001b[0m   \u001b[0mf_fill\u001b[0m\u001b[0;34m(\u001b[0m\u001b[0marr\u001b[0m\u001b[0;34m,\u001b[0m \u001b[0mrow\u001b[0m\u001b[0;34m+\u001b[0m\u001b[0;36m1\u001b[0m\u001b[0;34m,\u001b[0m \u001b[0mcol\u001b[0m\u001b[0;34m,\u001b[0m \u001b[0mpaths\u001b[0m \u001b[0;34m+\u001b[0m \u001b[0;34m\"d\"\u001b[0m\u001b[0;34m)\u001b[0m\u001b[0;34m\u001b[0m\u001b[0;34m\u001b[0m\u001b[0m\n",
            "... last 2 frames repeated, from the frame below ...\n",
            "\u001b[0;32m<ipython-input-24-32d49ccfcbc6>\u001b[0m in \u001b[0;36mf_fill\u001b[0;34m(arr, row, col, paths)\u001b[0m\n\u001b[1;32m     20\u001b[0m   \u001b[0mf_fill\u001b[0m\u001b[0;34m(\u001b[0m\u001b[0marr\u001b[0m\u001b[0;34m,\u001b[0m \u001b[0mrow\u001b[0m\u001b[0;34m-\u001b[0m\u001b[0;36m1\u001b[0m\u001b[0;34m,\u001b[0m \u001b[0mcol\u001b[0m\u001b[0;34m,\u001b[0m \u001b[0mpaths\u001b[0m \u001b[0;34m+\u001b[0m \u001b[0;34m\"t\"\u001b[0m\u001b[0;34m)\u001b[0m\u001b[0;34m\u001b[0m\u001b[0;34m\u001b[0m\u001b[0m\n\u001b[1;32m     21\u001b[0m   \u001b[0mf_fill\u001b[0m\u001b[0;34m(\u001b[0m\u001b[0marr\u001b[0m\u001b[0;34m,\u001b[0m \u001b[0mrow\u001b[0m\u001b[0;34m,\u001b[0m \u001b[0mcol\u001b[0m\u001b[0;34m-\u001b[0m\u001b[0;36m1\u001b[0m\u001b[0;34m,\u001b[0m \u001b[0mpaths\u001b[0m \u001b[0;34m+\u001b[0m \u001b[0;34m\"l\"\u001b[0m\u001b[0;34m)\u001b[0m\u001b[0;34m\u001b[0m\u001b[0;34m\u001b[0m\u001b[0m\n\u001b[0;32m---> 22\u001b[0;31m   \u001b[0mf_fill\u001b[0m\u001b[0;34m(\u001b[0m\u001b[0marr\u001b[0m\u001b[0;34m,\u001b[0m \u001b[0mrow\u001b[0m\u001b[0;34m+\u001b[0m\u001b[0;36m1\u001b[0m\u001b[0;34m,\u001b[0m \u001b[0mcol\u001b[0m\u001b[0;34m,\u001b[0m \u001b[0mpaths\u001b[0m \u001b[0;34m+\u001b[0m \u001b[0;34m\"d\"\u001b[0m\u001b[0;34m)\u001b[0m\u001b[0;34m\u001b[0m\u001b[0;34m\u001b[0m\u001b[0m\n\u001b[0m\u001b[1;32m     23\u001b[0m   \u001b[0mf_fill\u001b[0m\u001b[0;34m(\u001b[0m\u001b[0marr\u001b[0m\u001b[0;34m,\u001b[0m \u001b[0mrow1\u001b[0m\u001b[0;34m,\u001b[0m \u001b[0mcol\u001b[0m\u001b[0;34m+\u001b[0m\u001b[0;36m1\u001b[0m\u001b[0;34m,\u001b[0m \u001b[0mpaths\u001b[0m \u001b[0;34m+\u001b[0m \u001b[0;34m\"r\"\u001b[0m\u001b[0;34m)\u001b[0m\u001b[0;34m\u001b[0m\u001b[0;34m\u001b[0m\u001b[0m\n\u001b[1;32m     24\u001b[0m   \u001b[0mvisited\u001b[0m\u001b[0;34m[\u001b[0m\u001b[0mrow\u001b[0m\u001b[0;34m]\u001b[0m\u001b[0;34m[\u001b[0m\u001b[0mcol\u001b[0m\u001b[0;34m]\u001b[0m \u001b[0;34m=\u001b[0m  \u001b[0;32mFalse\u001b[0m\u001b[0;34m\u001b[0m\u001b[0;34m\u001b[0m\u001b[0m\n",
            "\u001b[0;31mRecursionError\u001b[0m: maximum recursion depth exceeded in comparison"
          ]
        }
      ]
    },
    {
      "cell_type": "code",
      "metadata": {
        "id": "qWfh3bMiy_id",
        "colab": {
          "base_uri": "https://localhost:8080/",
          "height": 473
        },
        "outputId": "c7dae214-7574-404e-a5c0-029a1e53329d"
      },
      "source": [
        "n = int(input())\n",
        "l=[]\n",
        "print(\"enter numbers\")\n",
        "for i in range(n):\n",
        "    l.append(input())\n",
        "print(l)\n",
        "print(len(l))\n",
        "def func1(n):\n",
        "  k=n\n",
        "  print(l[n-1])\n",
        "  k=k-1\n",
        "  func1(k-1)\n",
        " \n",
        "func1(3)"
      ],
      "execution_count": null,
      "outputs": [
        {
          "output_type": "stream",
          "text": [
            "1\n",
            "enter numbers\n",
            "1 2 3\n",
            "['1 2 3']\n",
            "1\n"
          ],
          "name": "stdout"
        },
        {
          "output_type": "error",
          "ename": "IndexError",
          "evalue": "ignored",
          "traceback": [
            "\u001b[0;31m---------------------------------------------------------------------------\u001b[0m",
            "\u001b[0;31mIndexError\u001b[0m                                Traceback (most recent call last)",
            "\u001b[0;32m<ipython-input-1-f20e8e11a2e6>\u001b[0m in \u001b[0;36m<module>\u001b[0;34m()\u001b[0m\n\u001b[1;32m     12\u001b[0m   \u001b[0mfunc1\u001b[0m\u001b[0;34m(\u001b[0m\u001b[0mk\u001b[0m\u001b[0;34m-\u001b[0m\u001b[0;36m1\u001b[0m\u001b[0;34m)\u001b[0m\u001b[0;34m\u001b[0m\u001b[0;34m\u001b[0m\u001b[0m\n\u001b[1;32m     13\u001b[0m \u001b[0;34m\u001b[0m\u001b[0m\n\u001b[0;32m---> 14\u001b[0;31m \u001b[0mfunc1\u001b[0m\u001b[0;34m(\u001b[0m\u001b[0;36m3\u001b[0m\u001b[0;34m)\u001b[0m\u001b[0;34m\u001b[0m\u001b[0;34m\u001b[0m\u001b[0m\n\u001b[0m",
            "\u001b[0;32m<ipython-input-1-f20e8e11a2e6>\u001b[0m in \u001b[0;36mfunc1\u001b[0;34m(n)\u001b[0m\n\u001b[1;32m      8\u001b[0m \u001b[0;32mdef\u001b[0m \u001b[0mfunc1\u001b[0m\u001b[0;34m(\u001b[0m\u001b[0mn\u001b[0m\u001b[0;34m)\u001b[0m\u001b[0;34m:\u001b[0m\u001b[0;34m\u001b[0m\u001b[0;34m\u001b[0m\u001b[0m\n\u001b[1;32m      9\u001b[0m   \u001b[0mk\u001b[0m\u001b[0;34m=\u001b[0m\u001b[0mn\u001b[0m\u001b[0;34m\u001b[0m\u001b[0;34m\u001b[0m\u001b[0m\n\u001b[0;32m---> 10\u001b[0;31m   \u001b[0mprint\u001b[0m\u001b[0;34m(\u001b[0m\u001b[0ml\u001b[0m\u001b[0;34m[\u001b[0m\u001b[0mn\u001b[0m\u001b[0;34m-\u001b[0m\u001b[0;36m1\u001b[0m\u001b[0;34m]\u001b[0m\u001b[0;34m)\u001b[0m\u001b[0;34m\u001b[0m\u001b[0;34m\u001b[0m\u001b[0m\n\u001b[0m\u001b[1;32m     11\u001b[0m   \u001b[0mk\u001b[0m\u001b[0;34m=\u001b[0m\u001b[0mk\u001b[0m\u001b[0;34m-\u001b[0m\u001b[0;36m1\u001b[0m\u001b[0;34m\u001b[0m\u001b[0;34m\u001b[0m\u001b[0m\n\u001b[1;32m     12\u001b[0m   \u001b[0mfunc1\u001b[0m\u001b[0;34m(\u001b[0m\u001b[0mk\u001b[0m\u001b[0;34m-\u001b[0m\u001b[0;36m1\u001b[0m\u001b[0;34m)\u001b[0m\u001b[0;34m\u001b[0m\u001b[0;34m\u001b[0m\u001b[0m\n",
            "\u001b[0;31mIndexError\u001b[0m: list index out of range"
          ]
        }
      ]
    },
    {
      "cell_type": "code",
      "metadata": {
        "colab": {
          "base_uri": "https://localhost:8080/"
        },
        "id": "CAftsRC27FRs",
        "outputId": "ef5d59a3-aa0e-497f-d153-9f9e0a6ca758"
      },
      "source": [
        "#first index\n",
        "l=[15,11,40,4,4,9]\n",
        "def fi(n,i):\n",
        "  if l[i]==n:\n",
        "    # print(i)\n",
        "    return i\n",
        "  elif l[i] !=n:\n",
        "    a = fi(n,i+1)\n",
        "    return a\n",
        "  else:\n",
        "    return -1\n",
        "\n",
        "print(fi(4,0))"
      ],
      "execution_count": null,
      "outputs": [
        {
          "output_type": "stream",
          "text": [
            "3\n",
            "3\n"
          ],
          "name": "stdout"
        }
      ]
    },
    {
      "cell_type": "code",
      "metadata": {
        "colab": {
          "base_uri": "https://localhost:8080/",
          "height": 532
        },
        "id": "yqTRmWAe01HG",
        "outputId": "7cbf8e53-d6d3-481d-89f6-6f8cdf07989d"
      },
      "source": [
        " \n",
        "l = [1,2,3]\n",
        "def func1(n):\n",
        "  k=n\n",
        "  print('key', n-1)\n",
        "  print(l[n-1])\n",
        "  k=k-1\n",
        "  func1(k-1)\n",
        " \n",
        "func1(3)"
      ],
      "execution_count": null,
      "outputs": [
        {
          "output_type": "stream",
          "text": [
            "key 2\n",
            "3\n",
            "key 0\n",
            "1\n",
            "key -2\n",
            "2\n",
            "key -4\n"
          ],
          "name": "stdout"
        },
        {
          "output_type": "error",
          "ename": "IndexError",
          "evalue": "ignored",
          "traceback": [
            "\u001b[0;31m---------------------------------------------------------------------------\u001b[0m",
            "\u001b[0;31mIndexError\u001b[0m                                Traceback (most recent call last)",
            "\u001b[0;32m<ipython-input-8-d20ea6f840d8>\u001b[0m in \u001b[0;36m<module>\u001b[0;34m()\u001b[0m\n\u001b[1;32m      8\u001b[0m  \u001b[0mfunc1\u001b[0m\u001b[0;34m(\u001b[0m\u001b[0mk\u001b[0m\u001b[0;34m-\u001b[0m\u001b[0;36m1\u001b[0m\u001b[0;34m)\u001b[0m\u001b[0;34m\u001b[0m\u001b[0;34m\u001b[0m\u001b[0m\n\u001b[1;32m      9\u001b[0m \u001b[0;34m\u001b[0m\u001b[0m\n\u001b[0;32m---> 10\u001b[0;31m \u001b[0mfunc1\u001b[0m\u001b[0;34m(\u001b[0m\u001b[0;36m3\u001b[0m\u001b[0;34m)\u001b[0m\u001b[0;34m\u001b[0m\u001b[0;34m\u001b[0m\u001b[0m\n\u001b[0m",
            "\u001b[0;32m<ipython-input-8-d20ea6f840d8>\u001b[0m in \u001b[0;36mfunc1\u001b[0;34m(n)\u001b[0m\n\u001b[1;32m      6\u001b[0m  \u001b[0mprint\u001b[0m\u001b[0;34m(\u001b[0m\u001b[0ml\u001b[0m\u001b[0;34m[\u001b[0m\u001b[0mn\u001b[0m\u001b[0;34m-\u001b[0m\u001b[0;36m1\u001b[0m\u001b[0;34m]\u001b[0m\u001b[0;34m)\u001b[0m\u001b[0;34m\u001b[0m\u001b[0;34m\u001b[0m\u001b[0m\n\u001b[1;32m      7\u001b[0m  \u001b[0mk\u001b[0m\u001b[0;34m=\u001b[0m\u001b[0mk\u001b[0m\u001b[0;34m-\u001b[0m\u001b[0;36m1\u001b[0m\u001b[0;34m\u001b[0m\u001b[0;34m\u001b[0m\u001b[0m\n\u001b[0;32m----> 8\u001b[0;31m  \u001b[0mfunc1\u001b[0m\u001b[0;34m(\u001b[0m\u001b[0mk\u001b[0m\u001b[0;34m-\u001b[0m\u001b[0;36m1\u001b[0m\u001b[0;34m)\u001b[0m\u001b[0;34m\u001b[0m\u001b[0;34m\u001b[0m\u001b[0m\n\u001b[0m\u001b[1;32m      9\u001b[0m \u001b[0;34m\u001b[0m\u001b[0m\n\u001b[1;32m     10\u001b[0m \u001b[0mfunc1\u001b[0m\u001b[0;34m(\u001b[0m\u001b[0;36m3\u001b[0m\u001b[0;34m)\u001b[0m\u001b[0;34m\u001b[0m\u001b[0;34m\u001b[0m\u001b[0m\n",
            "\u001b[0;32m<ipython-input-8-d20ea6f840d8>\u001b[0m in \u001b[0;36mfunc1\u001b[0;34m(n)\u001b[0m\n\u001b[1;32m      6\u001b[0m  \u001b[0mprint\u001b[0m\u001b[0;34m(\u001b[0m\u001b[0ml\u001b[0m\u001b[0;34m[\u001b[0m\u001b[0mn\u001b[0m\u001b[0;34m-\u001b[0m\u001b[0;36m1\u001b[0m\u001b[0;34m]\u001b[0m\u001b[0;34m)\u001b[0m\u001b[0;34m\u001b[0m\u001b[0;34m\u001b[0m\u001b[0m\n\u001b[1;32m      7\u001b[0m  \u001b[0mk\u001b[0m\u001b[0;34m=\u001b[0m\u001b[0mk\u001b[0m\u001b[0;34m-\u001b[0m\u001b[0;36m1\u001b[0m\u001b[0;34m\u001b[0m\u001b[0;34m\u001b[0m\u001b[0m\n\u001b[0;32m----> 8\u001b[0;31m  \u001b[0mfunc1\u001b[0m\u001b[0;34m(\u001b[0m\u001b[0mk\u001b[0m\u001b[0;34m-\u001b[0m\u001b[0;36m1\u001b[0m\u001b[0;34m)\u001b[0m\u001b[0;34m\u001b[0m\u001b[0;34m\u001b[0m\u001b[0m\n\u001b[0m\u001b[1;32m      9\u001b[0m \u001b[0;34m\u001b[0m\u001b[0m\n\u001b[1;32m     10\u001b[0m \u001b[0mfunc1\u001b[0m\u001b[0;34m(\u001b[0m\u001b[0;36m3\u001b[0m\u001b[0;34m)\u001b[0m\u001b[0;34m\u001b[0m\u001b[0;34m\u001b[0m\u001b[0m\n",
            "\u001b[0;32m<ipython-input-8-d20ea6f840d8>\u001b[0m in \u001b[0;36mfunc1\u001b[0;34m(n)\u001b[0m\n\u001b[1;32m      6\u001b[0m  \u001b[0mprint\u001b[0m\u001b[0;34m(\u001b[0m\u001b[0ml\u001b[0m\u001b[0;34m[\u001b[0m\u001b[0mn\u001b[0m\u001b[0;34m-\u001b[0m\u001b[0;36m1\u001b[0m\u001b[0;34m]\u001b[0m\u001b[0;34m)\u001b[0m\u001b[0;34m\u001b[0m\u001b[0;34m\u001b[0m\u001b[0m\n\u001b[1;32m      7\u001b[0m  \u001b[0mk\u001b[0m\u001b[0;34m=\u001b[0m\u001b[0mk\u001b[0m\u001b[0;34m-\u001b[0m\u001b[0;36m1\u001b[0m\u001b[0;34m\u001b[0m\u001b[0;34m\u001b[0m\u001b[0m\n\u001b[0;32m----> 8\u001b[0;31m  \u001b[0mfunc1\u001b[0m\u001b[0;34m(\u001b[0m\u001b[0mk\u001b[0m\u001b[0;34m-\u001b[0m\u001b[0;36m1\u001b[0m\u001b[0;34m)\u001b[0m\u001b[0;34m\u001b[0m\u001b[0;34m\u001b[0m\u001b[0m\n\u001b[0m\u001b[1;32m      9\u001b[0m \u001b[0;34m\u001b[0m\u001b[0m\n\u001b[1;32m     10\u001b[0m \u001b[0mfunc1\u001b[0m\u001b[0;34m(\u001b[0m\u001b[0;36m3\u001b[0m\u001b[0;34m)\u001b[0m\u001b[0;34m\u001b[0m\u001b[0;34m\u001b[0m\u001b[0m\n",
            "\u001b[0;32m<ipython-input-8-d20ea6f840d8>\u001b[0m in \u001b[0;36mfunc1\u001b[0;34m(n)\u001b[0m\n\u001b[1;32m      4\u001b[0m  \u001b[0mk\u001b[0m\u001b[0;34m=\u001b[0m\u001b[0mn\u001b[0m\u001b[0;34m\u001b[0m\u001b[0;34m\u001b[0m\u001b[0m\n\u001b[1;32m      5\u001b[0m  \u001b[0mprint\u001b[0m\u001b[0;34m(\u001b[0m\u001b[0;34m'key'\u001b[0m\u001b[0;34m,\u001b[0m \u001b[0mn\u001b[0m\u001b[0;34m-\u001b[0m\u001b[0;36m1\u001b[0m\u001b[0;34m)\u001b[0m\u001b[0;34m\u001b[0m\u001b[0;34m\u001b[0m\u001b[0m\n\u001b[0;32m----> 6\u001b[0;31m  \u001b[0mprint\u001b[0m\u001b[0;34m(\u001b[0m\u001b[0ml\u001b[0m\u001b[0;34m[\u001b[0m\u001b[0mn\u001b[0m\u001b[0;34m-\u001b[0m\u001b[0;36m1\u001b[0m\u001b[0;34m]\u001b[0m\u001b[0;34m)\u001b[0m\u001b[0;34m\u001b[0m\u001b[0;34m\u001b[0m\u001b[0m\n\u001b[0m\u001b[1;32m      7\u001b[0m  \u001b[0mk\u001b[0m\u001b[0;34m=\u001b[0m\u001b[0mk\u001b[0m\u001b[0;34m-\u001b[0m\u001b[0;36m1\u001b[0m\u001b[0;34m\u001b[0m\u001b[0;34m\u001b[0m\u001b[0m\n\u001b[1;32m      8\u001b[0m  \u001b[0mfunc1\u001b[0m\u001b[0;34m(\u001b[0m\u001b[0mk\u001b[0m\u001b[0;34m-\u001b[0m\u001b[0;36m1\u001b[0m\u001b[0;34m)\u001b[0m\u001b[0;34m\u001b[0m\u001b[0;34m\u001b[0m\u001b[0m\n",
            "\u001b[0;31mIndexError\u001b[0m: list index out of range"
          ]
        }
      ]
    },
    {
      "cell_type": "code",
      "metadata": {
        "colab": {
          "base_uri": "https://localhost:8080/",
          "height": 129
        },
        "id": "Bb_xoolAsqzX",
        "outputId": "60c56f27-e61c-44f0-ff70-629ec2b12787"
      },
      "source": [
        "res_list = []\n",
        "for i in range(1,101):\n",
        "  for j in range(2,i):\n",
        "    if i%j != 0:\n",
        "  \n",
        "  \n",
        "  res_list.append(i)\n",
        "res_list"
      ],
      "execution_count": null,
      "outputs": [
        {
          "output_type": "error",
          "ename": "IndentationError",
          "evalue": "ignored",
          "traceback": [
            "\u001b[0;36m  File \u001b[0;32m\"<ipython-input-16-89c11dbef3d7>\"\u001b[0;36m, line \u001b[0;32m7\u001b[0m\n\u001b[0;31m    res_list.append(i)\u001b[0m\n\u001b[0m    ^\u001b[0m\n\u001b[0;31mIndentationError\u001b[0m\u001b[0;31m:\u001b[0m expected an indented block\n"
          ]
        }
      ]
    },
    {
      "cell_type": "code",
      "metadata": {
        "colab": {
          "base_uri": "https://localhost:8080/"
        },
        "id": "0QSqU934tO2J",
        "outputId": "f68a60a0-6af6-4c8b-b32f-e4d7764d1bff"
      },
      "source": [
        "i=12\n",
        "all([True if i%j != 0 else False for j in range(2,i) ])"
      ],
      "execution_count": null,
      "outputs": [
        {
          "output_type": "execute_result",
          "data": {
            "text/plain": [
              "False"
            ]
          },
          "metadata": {
            "tags": []
          },
          "execution_count": 30
        }
      ]
    },
    {
      "cell_type": "code",
      "metadata": {
        "colab": {
          "base_uri": "https://localhost:8080/"
        },
        "id": "rU-D5hycneuv",
        "outputId": "9e37e971-4ec7-4424-d52f-343e83d1d050"
      },
      "source": [
        "# List Comprehension\n",
        "\n",
        "# prime number\n",
        "def prime_number(startnumb, endnumb):\n",
        "  return [i for i in range(startnumb,endnumb +1) if all([True if i%j != 0 else False for j in range(2,i) ]) == True]\n",
        "\n",
        "prime_number(1,101)\n"
      ],
      "execution_count": null,
      "outputs": [
        {
          "output_type": "execute_result",
          "data": {
            "text/plain": [
              "[1,\n",
              " 2,\n",
              " 3,\n",
              " 5,\n",
              " 7,\n",
              " 11,\n",
              " 13,\n",
              " 17,\n",
              " 19,\n",
              " 23,\n",
              " 29,\n",
              " 31,\n",
              " 37,\n",
              " 41,\n",
              " 43,\n",
              " 47,\n",
              " 53,\n",
              " 59,\n",
              " 61,\n",
              " 67,\n",
              " 71,\n",
              " 73,\n",
              " 79,\n",
              " 83,\n",
              " 89,\n",
              " 97,\n",
              " 101]"
            ]
          },
          "metadata": {
            "tags": []
          },
          "execution_count": 32
        }
      ]
    },
    {
      "cell_type": "code",
      "metadata": {
        "colab": {
          "base_uri": "https://localhost:8080/",
          "height": 129
        },
        "id": "IEBYdrGvprUE",
        "outputId": "99e0f1aa-1add-44db-a149-c5cb603353ad"
      },
      "source": [
        "def running_sum(arr):\n",
        "  [sum([arr [j] for j in range(i+1)]) i for i in range(0,len(arr))]"
      ],
      "execution_count": null,
      "outputs": [
        {
          "output_type": "error",
          "ename": "SyntaxError",
          "evalue": "ignored",
          "traceback": [
            "\u001b[0;36m  File \u001b[0;32m\"<ipython-input-57-702e7c51170f>\"\u001b[0;36m, line \u001b[0;32m2\u001b[0m\n\u001b[0;31m    [sum([arr [j] for j in range(i+1)]) [i for i in range(0,len(arr))]\u001b[0m\n\u001b[0m                                             ^\u001b[0m\n\u001b[0;31mSyntaxError\u001b[0m\u001b[0;31m:\u001b[0m invalid syntax\n"
          ]
        }
      ]
    },
    {
      "cell_type": "code",
      "metadata": {
        "colab": {
          "base_uri": "https://localhost:8080/"
        },
        "id": "C9sWm24I3XK7",
        "outputId": "6261f7eb-9477-4500-a58c-2704093228b8"
      },
      "source": [
        "[arr [j] for j in range(5+1)]"
      ],
      "execution_count": null,
      "outputs": [
        {
          "output_type": "execute_result",
          "data": {
            "text/plain": [
              "[0, 2, 5, 6, 7, 9]"
            ]
          },
          "metadata": {
            "tags": []
          },
          "execution_count": 52
        }
      ]
    },
    {
      "cell_type": "code",
      "metadata": {
        "colab": {
          "base_uri": "https://localhost:8080/"
        },
        "id": "FIrDcIOGr1Cc",
        "outputId": "8633cfc0-593b-4513-afc2-0f54b94a95f4"
      },
      "source": [
        "arr= [0,2,5,6,7,9,10]\n",
        "res_list= []\n",
        "for i in range(0,len(arr)):\n",
        "  # print(i)\n",
        "  ele = 0\n",
        "  for j in range(i+1):\n",
        "    # print(arr[j])\n",
        "    ele +=  arr[j]\n",
        "  res_list.append(ele)\n",
        "res_list"
      ],
      "execution_count": null,
      "outputs": [
        {
          "output_type": "execute_result",
          "data": {
            "text/plain": [
              "[0, 2, 7, 13, 20, 29, 39]"
            ]
          },
          "metadata": {
            "tags": []
          },
          "execution_count": 46
        }
      ]
    },
    {
      "cell_type": "code",
      "metadata": {
        "id": "aWIngf_GzImh"
      },
      "source": [
        ""
      ],
      "execution_count": null,
      "outputs": []
    },
    {
      "cell_type": "code",
      "metadata": {
        "colab": {
          "base_uri": "https://localhost:8080/"
        },
        "id": "GCHygZHa1TT9",
        "outputId": "9315c8f0-b301-46aa-fe16-1d50333ce955"
      },
      "source": [
        "[ arr[:i+1] for i in range(len(arr))]"
      ],
      "execution_count": null,
      "outputs": [
        {
          "output_type": "execute_result",
          "data": {
            "text/plain": [
              "[[0],\n",
              " [0, 2],\n",
              " [0, 2, 5],\n",
              " [0, 2, 5, 6],\n",
              " [0, 2, 5, 6, 7],\n",
              " [0, 2, 5, 6, 7, 9],\n",
              " [0, 2, 5, 6, 7, 9, 10]]"
            ]
          },
          "metadata": {
            "tags": []
          },
          "execution_count": 54
        }
      ]
    },
    {
      "cell_type": "code",
      "metadata": {
        "id": "hw4ldCcN4Z-B"
      },
      "source": [
        ""
      ],
      "execution_count": null,
      "outputs": []
    }
  ]
}