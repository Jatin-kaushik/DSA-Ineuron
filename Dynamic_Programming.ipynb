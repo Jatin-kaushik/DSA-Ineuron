{
  "nbformat": 4,
  "nbformat_minor": 0,
  "metadata": {
    "colab": {
      "name": "Dynamic Programming.ipynb",
      "provenance": [],
      "authorship_tag": "ABX9TyNMIyZKTpyBZ4RproJs63e9",
      "include_colab_link": true
    },
    "kernelspec": {
      "name": "python3",
      "display_name": "Python 3"
    },
    "language_info": {
      "name": "python"
    }
  },
  "cells": [
    {
      "cell_type": "markdown",
      "metadata": {
        "id": "view-in-github",
        "colab_type": "text"
      },
      "source": [
        "<a href=\"https://colab.research.google.com/github/Jatin-kaushik/DSA-Ineuron/blob/main/Dynamic_Programming.ipynb\" target=\"_parent\"><img src=\"https://colab.research.google.com/assets/colab-badge.svg\" alt=\"Open In Colab\"/></a>"
      ]
    },
    {
      "cell_type": "markdown",
      "metadata": {
        "id": "SoAxlza5HDVM"
      },
      "source": [
        "# Dynamic Programming"
      ]
    },
    {
      "cell_type": "code",
      "metadata": {
        "colab": {
          "base_uri": "https://localhost:8080/"
        },
        "id": "zZpmubX6HBa5",
        "outputId": "d49fcc27-2bc6-4d9b-bb5f-010004522779"
      },
      "source": [
        "# climb stair problem count of answrs\n",
        "def stair_path_tab(n):\n",
        "  dp = [None]*(n+1)\n",
        "  # print(dp)\n",
        "  dp[0] =1\n",
        "  for i in range(1,n+1):\n",
        "    # print(i)\n",
        "    if i ==1:\n",
        "      dp[i] = dp[i-1]\n",
        "    elif i ==2:\n",
        "      dp[2] = dp[i-1]+ dp[i-2]\n",
        "    else:\n",
        "      dp[i] = dp[i-3] + dp[i-2] + dp[i-1]\n",
        "    # print(dp)\n",
        "  return dp[n]\n",
        "\n",
        "stair_path_tab(5)\n"
      ],
      "execution_count": null,
      "outputs": [
        {
          "output_type": "execute_result",
          "data": {
            "text/plain": [
              "13"
            ]
          },
          "metadata": {
            "tags": []
          },
          "execution_count": 23
        }
      ]
    },
    {
      "cell_type": "code",
      "metadata": {
        "colab": {
          "base_uri": "https://localhost:8080/"
        },
        "id": "ZzifeSP7HFgI",
        "outputId": "7c7f6e20-f52f-4db5-e7b1-3f7a5adceb18"
      },
      "source": [
        "qb = [None]*6 #memoization\n",
        "def stair_path_memoi(n,qb):\n",
        "  if n == 0:\n",
        "    return 1\n",
        "  elif n<0:\n",
        "    return 0\n",
        "  nm1 =  stair_path_memoi(n-1,qb)\n",
        "  nm2 =  stair_path_memoi(n-2,qb)\n",
        "  nm3 =  stair_path_memoi(n-3,qb)\n",
        "  count =  nm1+nm2+nm3\n",
        "  qb[n] = count\n",
        "  return qb[n]\n",
        "\n",
        "n = 5\n",
        "\n",
        "stair_path_memoi(n,[None]*(n+1))"
      ],
      "execution_count": null,
      "outputs": [
        {
          "output_type": "execute_result",
          "data": {
            "text/plain": [
              "13"
            ]
          },
          "metadata": {
            "tags": []
          },
          "execution_count": 3
        }
      ]
    },
    {
      "cell_type": "code",
      "metadata": {
        "id": "yxQlFL3IIDx1"
      },
      "source": [
        "[].append(8)"
      ],
      "execution_count": null,
      "outputs": []
    },
    {
      "cell_type": "code",
      "metadata": {
        "id": "Hfl5s0kmIEdM",
        "colab": {
          "base_uri": "https://localhost:8080/"
        },
        "outputId": "16230322-e551-42d4-8d03-7a27a51923fc"
      },
      "source": [
        "qb = [None]*6 #memoization with paths\n",
        "def stair_path_memoi(n,qb):\n",
        "  if qb[n] != None:\n",
        "    return qb[n]\n",
        "  if n == 0:\n",
        "    return [\"\"]\n",
        "  elif n<0:\n",
        "    return []\n",
        "  # print(n)\n",
        "  nm1 =  [elem + \"1\" for elem in stair_path_memoi(n-1,qb)]\n",
        "  nm2 =  [elem + \"2\" for elem in stair_path_memoi(n-2,qb)]\n",
        "  nm3 =  [elem + \"3\" for elem in stair_path_memoi(n-3,qb)]\n",
        "  qb[n] = nm1 +nm2 +nm3\n",
        "  return qb[n]\n",
        "\n",
        "stair_path_memoi(n, [None]*(n+1))"
      ],
      "execution_count": null,
      "outputs": [
        {
          "output_type": "execute_result",
          "data": {
            "text/plain": [
              "['11111',\n",
              " '2111',\n",
              " '1211',\n",
              " '311',\n",
              " '1121',\n",
              " '221',\n",
              " '131',\n",
              " '1112',\n",
              " '212',\n",
              " '122',\n",
              " '32',\n",
              " '113',\n",
              " '23']"
            ]
          },
          "metadata": {
            "tags": []
          },
          "execution_count": 13
        }
      ]
    },
    {
      "cell_type": "code",
      "metadata": {
        "id": "f13ob61SKwVw",
        "colab": {
          "base_uri": "https://localhost:8080/"
        },
        "outputId": "b68ca2a7-b7f3-4beb-80c8-724e9022381f"
      },
      "source": [
        "# climb stair problem count of answrs Show answrs\n",
        "def stair_path_tab(n):\n",
        "  dp = [None]*(n+1)\n",
        "  # print(dp)\n",
        "  dp[0] =[\"\"]\n",
        "  for i in range(1,n+1):\n",
        "    # print(i)\n",
        "    if i ==1:\n",
        "      dp[i] = [i +\"1\" for i in dp[i-1]]\n",
        "    elif i ==2:\n",
        "      dp[i] = [j +\"2\" for j in dp[i-2]]+ [i+\"1\" for i in dp[i-1]]\n",
        "    else:\n",
        "      dp[i] = [k +\"3\" for k in dp[i-3]] + [j +\"2\" for j in dp[i-2]] + [i+ \"1\" for i in dp[i-1]]\n",
        "    # print(dp)\n",
        "  return dp[n]\n",
        "\n",
        "stair_path_tab(5)\n"
      ],
      "execution_count": null,
      "outputs": [
        {
          "output_type": "execute_result",
          "data": {
            "text/plain": [
              "['23',\n",
              " '113',\n",
              " '32',\n",
              " '122',\n",
              " '212',\n",
              " '1112',\n",
              " '131',\n",
              " '221',\n",
              " '1121',\n",
              " '311',\n",
              " '1211',\n",
              " '2111',\n",
              " '11111']"
            ]
          },
          "metadata": {
            "tags": []
          },
          "execution_count": 15
        }
      ]
    },
    {
      "cell_type": "code",
      "metadata": {
        "id": "6e_KTJxWONmw",
        "colab": {
          "base_uri": "https://localhost:8080/"
        },
        "outputId": "17d5bfd1-187b-425d-b3ca-1b0e831aed67"
      },
      "source": [
        "#climb stairs with variable jump\n",
        "arr = [3,3,0,2,2,3]\n",
        "def stair_v(arr, dp):\n",
        "  for i in range(len(arr)-1, -1, -1):\n",
        "    for j in range(1,arr[i]+1):\n",
        "      print(i,j)\n",
        "      if i + j < len(dp):\n",
        "        dp[i] += dp[i+j]\n",
        "        print(dp)\n",
        "  return dp[0]\n",
        "\n",
        "dp= [0]*(len(arr)+1)\n",
        "dp[len(arr)] = 1\n",
        "stair_v(arr,dp)\n"
      ],
      "execution_count": null,
      "outputs": [
        {
          "output_type": "stream",
          "text": [
            "5 1\n",
            "[0, 0, 0, 0, 0, 1, 1]\n",
            "5 2\n",
            "5 3\n",
            "4 1\n",
            "[0, 0, 0, 0, 1, 1, 1]\n",
            "4 2\n",
            "[0, 0, 0, 0, 2, 1, 1]\n",
            "3 1\n",
            "[0, 0, 0, 2, 2, 1, 1]\n",
            "3 2\n",
            "[0, 0, 0, 3, 2, 1, 1]\n",
            "1 1\n",
            "[0, 0, 0, 3, 2, 1, 1]\n",
            "1 2\n",
            "[0, 3, 0, 3, 2, 1, 1]\n",
            "1 3\n",
            "[0, 5, 0, 3, 2, 1, 1]\n",
            "0 1\n",
            "[5, 5, 0, 3, 2, 1, 1]\n",
            "0 2\n",
            "[5, 5, 0, 3, 2, 1, 1]\n",
            "0 3\n",
            "[8, 5, 0, 3, 2, 1, 1]\n"
          ],
          "name": "stdout"
        },
        {
          "output_type": "execute_result",
          "data": {
            "text/plain": [
              "8"
            ]
          },
          "metadata": {
            "tags": []
          },
          "execution_count": 14
        }
      ]
    },
    {
      "cell_type": "code",
      "metadata": {
        "colab": {
          "base_uri": "https://localhost:8080/"
        },
        "id": "mmbYae0PXgzQ",
        "outputId": "2e52d7b7-75dc-43fb-a8c9-1677f245ba1c"
      },
      "source": [
        "#climb stairs with minimal jump\n",
        "arr = [3,3,0,2,2,3]\n",
        "def stair_v_min(arr, dp):\n",
        "  for i in range(len(arr)-1, -1, -1):\n",
        "    if arr[i] > 0:\n",
        "      min_val = float('inf')\n",
        "      for move_size in range(1,arr[i]+1):\n",
        "        if i+move_size< len(dp):\n",
        "          if dp[i+move_size] != None:\n",
        "            min_val = min(min_val, dp[i+move_size])\n",
        "      if min != float('inf'):\n",
        "        dp[i] = min_val+1\n",
        "      else:\n",
        "        dp[i] = None\n",
        "\n",
        "  return dp[0]\n",
        "\n",
        "\n",
        "dp= [None]*(len(arr)+1)\n",
        "dp[len(arr)] = 0\n",
        "stair_v_min(arr,dp)\n",
        "print(dp)"
      ],
      "execution_count": null,
      "outputs": [
        {
          "output_type": "stream",
          "text": [
            "[3, 2, None, 2, 1, 1, 0]\n"
          ],
          "name": "stdout"
        }
      ]
    },
    {
      "cell_type": "code",
      "metadata": {
        "colab": {
          "base_uri": "https://localhost:8080/"
        },
        "id": "DxkUKodMXk6o",
        "outputId": "1f07dbb8-c0f6-4ae9-a28a-c11d941d64bb"
      },
      "source": [
        "import sys\n",
        "#climb stairs with minimal jump\n",
        "arr = [3,3,0,2,2,3]\n",
        "def stair_v_min(arr, dp):\n",
        "  for i in range(len(arr)-1, -1, -1):\n",
        "    if arr[i] > 0:\n",
        "      minval =sys.maxsize\n",
        "\n",
        "      for move_size in range(1,arr[i]+1):\n",
        "        if i+move_size< len(dp):\n",
        "          if dp[i+move_size] != None:\n",
        "            # print(min,dp[i+move_size])\n",
        "            minval = min(minval, dp[i+move_size])\n",
        "      if min != float('inf'):\n",
        "        dp[i] = minval+1\n",
        "      else:\n",
        "        dp[i] = None\n",
        "\n",
        "  return dp[0]\n",
        "\n",
        "\n",
        "dp= [None]*(len(arr)+1)\n",
        "dp[len(arr)] = 0\n",
        "stair_v_min(arr,dp)"
      ],
      "execution_count": null,
      "outputs": [
        {
          "output_type": "execute_result",
          "data": {
            "text/plain": [
              "3"
            ]
          },
          "metadata": {
            "tags": []
          },
          "execution_count": 18
        }
      ]
    },
    {
      "cell_type": "code",
      "metadata": {
        "id": "SouELYKRYMsf",
        "colab": {
          "base_uri": "https://localhost:8080/"
        },
        "outputId": "b1cc8b6e-c860-4de3-93fd-ead3a68ba09c"
      },
      "source": [
        "#min cost maze path\n",
        "arr= [[2,0,1,4,9],\n",
        "      [1,2,0,8,9],\n",
        "      [2,3,6,8,9],\n",
        "      [1,5,6,0,8],\n",
        "      [0,1,1,3,4]]\n",
        "def maze_path_cost(arr,dp):\n",
        "  for i in range(len(dp)-1,-1,-1):\n",
        "    for j in range(len(dp[i])-1,-1,-1):\n",
        "      # print(arr[i][j])\n",
        "      if i == len(dp) -1 and j == len(dp[i])-1:\n",
        "        dp[i][j] = arr[i][j]\n",
        "      elif i ==len(dp)-1:\n",
        "        dp[i][j] = dp[i][j+1]+ arr[i][j]\n",
        "      elif j ==len(dp[i])-1:\n",
        "        dp[i][j] = dp[i+1][j]+ arr[i][j]\n",
        "      else:\n",
        "        dp[i][j] =  min(dp[i+1][j], dp[i][j+1])\n",
        "  return dp[0][0]\n",
        "\n",
        "\n",
        "\n",
        "dp = []\n",
        "for i in range(len(arr)):\n",
        "  dp.append([None]*5)\n",
        "maze_path_cost(arr,dp)\n",
        "# print(dp)"
      ],
      "execution_count": null,
      "outputs": [
        {
          "output_type": "execute_result",
          "data": {
            "text/plain": [
              "7"
            ]
          },
          "metadata": {
            "tags": []
          },
          "execution_count": 39
        }
      ]
    },
    {
      "cell_type": "code",
      "metadata": {
        "colab": {
          "base_uri": "https://localhost:8080/"
        },
        "id": "jwnd35eseJY4",
        "outputId": "72beba9f-6c8a-493c-a71b-3d031eeee9d5"
      },
      "source": [
        "print(dp)\n",
        "len(dp)"
      ],
      "execution_count": null,
      "outputs": [
        {
          "output_type": "stream",
          "text": [
            "[[None, None, None, None, None], [None, None, None, None, None], [None, None, None, None, None], [None, None, None, None, None], [None, None, None, None, None]]\n"
          ],
          "name": "stdout"
        },
        {
          "output_type": "execute_result",
          "data": {
            "text/plain": [
              "5"
            ]
          },
          "metadata": {
            "tags": []
          },
          "execution_count": 32
        }
      ]
    },
    {
      "cell_type": "code",
      "metadata": {
        "id": "eP9m5SSgeWR5"
      },
      "source": [
        "for i in range(10,-1,):\n",
        "  print(i)"
      ],
      "execution_count": null,
      "outputs": []
    },
    {
      "cell_type": "code",
      "metadata": {
        "id": "B_5eaHbvpmE6"
      },
      "source": [
        ""
      ],
      "execution_count": null,
      "outputs": []
    }
  ]
}