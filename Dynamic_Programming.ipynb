{
  "nbformat": 4,
  "nbformat_minor": 0,
  "metadata": {
    "colab": {
      "name": "Dynamic Programming.ipynb",
      "provenance": [],
      "collapsed_sections": [],
      "authorship_tag": "ABX9TyO5beOFYcDrktSnN+aGZQFe",
      "include_colab_link": true
    },
    "kernelspec": {
      "display_name": "Python 3",
      "name": "python3"
    },
    "language_info": {
      "name": "python"
    }
  },
  "cells": [
    {
      "cell_type": "markdown",
      "metadata": {
        "id": "view-in-github",
        "colab_type": "text"
      },
      "source": [
        "<a href=\"https://colab.research.google.com/github/Jatin-kaushik/DSA-Practice-Learning/blob/main/Dynamic_Programming.ipynb\" target=\"_parent\"><img src=\"https://colab.research.google.com/assets/colab-badge.svg\" alt=\"Open In Colab\"/></a>"
      ]
    },
    {
      "cell_type": "markdown",
      "metadata": {
        "id": "SoAxlza5HDVM"
      },
      "source": [
        "# Dynamic Programming"
      ]
    },
    {
      "cell_type": "code",
      "metadata": {
        "colab": {
          "base_uri": "https://localhost:8080/"
        },
        "id": "zZpmubX6HBa5",
        "outputId": "d49fcc27-2bc6-4d9b-bb5f-010004522779"
      },
      "source": [
        "# climb stair problem count of answrs\n",
        "def stair_path_tab(n):\n",
        "  dp = [None]*(n+1)\n",
        "  # print(dp)\n",
        "  dp[0] =1\n",
        "  for i in range(1,n+1):\n",
        "    # print(i)\n",
        "    if i ==1:\n",
        "      dp[i] = dp[i-1]\n",
        "    elif i ==2:\n",
        "      dp[2] = dp[i-1]+ dp[i-2]\n",
        "    else:\n",
        "      dp[i] = dp[i-3] + dp[i-2] + dp[i-1]\n",
        "    # print(dp)\n",
        "  return dp[n]\n",
        "\n",
        "stair_path_tab(5)\n"
      ],
      "execution_count": null,
      "outputs": [
        {
          "output_type": "execute_result",
          "data": {
            "text/plain": [
              "13"
            ]
          },
          "metadata": {
            "tags": []
          },
          "execution_count": 23
        }
      ]
    },
    {
      "cell_type": "code",
      "metadata": {
        "colab": {
          "base_uri": "https://localhost:8080/"
        },
        "id": "ZzifeSP7HFgI",
        "outputId": "7c7f6e20-f52f-4db5-e7b1-3f7a5adceb18"
      },
      "source": [
        "qb = [None]*6 #memoization\n",
        "def stair_path_memoi(n,qb):\n",
        "  if n == 0:\n",
        "    return 1\n",
        "  elif n<0:\n",
        "    return 0\n",
        "  nm1 =  stair_path_memoi(n-1,qb)\n",
        "  nm2 =  stair_path_memoi(n-2,qb)\n",
        "  nm3 =  stair_path_memoi(n-3,qb)\n",
        "  count =  nm1+nm2+nm3\n",
        "  qb[n] = count\n",
        "  return qb[n]\n",
        "\n",
        "n = 5\n",
        "\n",
        "stair_path_memoi(n,[None]*(n+1))"
      ],
      "execution_count": null,
      "outputs": [
        {
          "output_type": "execute_result",
          "data": {
            "text/plain": [
              "13"
            ]
          },
          "metadata": {
            "tags": []
          },
          "execution_count": 3
        }
      ]
    },
    {
      "cell_type": "code",
      "metadata": {
        "id": "yxQlFL3IIDx1"
      },
      "source": [
        "[].append(8)"
      ],
      "execution_count": null,
      "outputs": []
    },
    {
      "cell_type": "code",
      "metadata": {
        "colab": {
          "base_uri": "https://localhost:8080/"
        },
        "id": "Hfl5s0kmIEdM",
        "outputId": "16230322-e551-42d4-8d03-7a27a51923fc"
      },
      "source": [
        "qb = [None]*6 #memoization with paths\n",
        "def stair_path_memoi(n,qb):\n",
        "  if qb[n] != None:\n",
        "    return qb[n]\n",
        "  if n == 0:\n",
        "    return [\"\"]\n",
        "  elif n<0:\n",
        "    return []\n",
        "  # print(n)\n",
        "  nm1 =  [elem + \"1\" for elem in stair_path_memoi(n-1,qb)]\n",
        "  nm2 =  [elem + \"2\" for elem in stair_path_memoi(n-2,qb)]\n",
        "  nm3 =  [elem + \"3\" for elem in stair_path_memoi(n-3,qb)]\n",
        "  qb[n] = nm1 +nm2 +nm3\n",
        "  return qb[n]\n",
        "\n",
        "stair_path_memoi(n, [None]*(n+1))"
      ],
      "execution_count": null,
      "outputs": [
        {
          "output_type": "execute_result",
          "data": {
            "text/plain": [
              "['11111',\n",
              " '2111',\n",
              " '1211',\n",
              " '311',\n",
              " '1121',\n",
              " '221',\n",
              " '131',\n",
              " '1112',\n",
              " '212',\n",
              " '122',\n",
              " '32',\n",
              " '113',\n",
              " '23']"
            ]
          },
          "metadata": {
            "tags": []
          },
          "execution_count": 13
        }
      ]
    },
    {
      "cell_type": "code",
      "metadata": {
        "colab": {
          "base_uri": "https://localhost:8080/"
        },
        "id": "f13ob61SKwVw",
        "outputId": "b68ca2a7-b7f3-4beb-80c8-724e9022381f"
      },
      "source": [
        "# climb stair problem count of answrs Show answrs\n",
        "def stair_path_tab(n):\n",
        "  dp = [None]*(n+1)\n",
        "  # print(dp)\n",
        "  dp[0] =[\"\"]\n",
        "  for i in range(1,n+1):\n",
        "    # print(i)\n",
        "    if i ==1:\n",
        "      dp[i] = [i +\"1\" for i in dp[i-1]]\n",
        "    elif i ==2:\n",
        "      dp[i] = [j +\"2\" for j in dp[i-2]]+ [i+\"1\" for i in dp[i-1]]\n",
        "    else:\n",
        "      dp[i] = [k +\"3\" for k in dp[i-3]] + [j +\"2\" for j in dp[i-2]] + [i+ \"1\" for i in dp[i-1]]\n",
        "    # print(dp)\n",
        "  return dp[n]\n",
        "\n",
        "stair_path_tab(5)\n"
      ],
      "execution_count": null,
      "outputs": [
        {
          "output_type": "execute_result",
          "data": {
            "text/plain": [
              "['23',\n",
              " '113',\n",
              " '32',\n",
              " '122',\n",
              " '212',\n",
              " '1112',\n",
              " '131',\n",
              " '221',\n",
              " '1121',\n",
              " '311',\n",
              " '1211',\n",
              " '2111',\n",
              " '11111']"
            ]
          },
          "metadata": {
            "tags": []
          },
          "execution_count": 15
        }
      ]
    },
    {
      "cell_type": "code",
      "metadata": {
        "colab": {
          "base_uri": "https://localhost:8080/"
        },
        "id": "6e_KTJxWONmw",
        "outputId": "17d5bfd1-187b-425d-b3ca-1b0e831aed67"
      },
      "source": [
        "#climb stairs with variable jump\n",
        "arr = [3,3,0,2,2,3]\n",
        "def stair_v(arr, dp):\n",
        "  for i in range(len(arr)-1, -1, -1):\n",
        "    for j in range(1,arr[i]+1):\n",
        "      print(i,j)\n",
        "      if i + j < len(dp):\n",
        "        dp[i] += dp[i+j]\n",
        "        print(dp)\n",
        "  return dp[0]\n",
        "\n",
        "dp= [0]*(len(arr)+1)\n",
        "dp[len(arr)] = 1\n",
        "stair_v(arr,dp)\n"
      ],
      "execution_count": null,
      "outputs": [
        {
          "output_type": "stream",
          "text": [
            "5 1\n",
            "[0, 0, 0, 0, 0, 1, 1]\n",
            "5 2\n",
            "5 3\n",
            "4 1\n",
            "[0, 0, 0, 0, 1, 1, 1]\n",
            "4 2\n",
            "[0, 0, 0, 0, 2, 1, 1]\n",
            "3 1\n",
            "[0, 0, 0, 2, 2, 1, 1]\n",
            "3 2\n",
            "[0, 0, 0, 3, 2, 1, 1]\n",
            "1 1\n",
            "[0, 0, 0, 3, 2, 1, 1]\n",
            "1 2\n",
            "[0, 3, 0, 3, 2, 1, 1]\n",
            "1 3\n",
            "[0, 5, 0, 3, 2, 1, 1]\n",
            "0 1\n",
            "[5, 5, 0, 3, 2, 1, 1]\n",
            "0 2\n",
            "[5, 5, 0, 3, 2, 1, 1]\n",
            "0 3\n",
            "[8, 5, 0, 3, 2, 1, 1]\n"
          ],
          "name": "stdout"
        },
        {
          "output_type": "execute_result",
          "data": {
            "text/plain": [
              "8"
            ]
          },
          "metadata": {
            "tags": []
          },
          "execution_count": 14
        }
      ]
    },
    {
      "cell_type": "code",
      "metadata": {
        "colab": {
          "base_uri": "https://localhost:8080/"
        },
        "id": "mmbYae0PXgzQ",
        "outputId": "2e52d7b7-75dc-43fb-a8c9-1677f245ba1c"
      },
      "source": [
        "#climb stairs with minimal jump\n",
        "arr = [3,3,0,2,2,3]\n",
        "def stair_v_min(arr, dp):\n",
        "  for i in range(len(arr)-1, -1, -1):\n",
        "    if arr[i] > 0:\n",
        "      min_val = float('inf')\n",
        "      for move_size in range(1,arr[i]+1):\n",
        "        if i+move_size< len(dp):\n",
        "          if dp[i+move_size] != None:\n",
        "            min_val = min(min_val, dp[i+move_size])\n",
        "      if min != float('inf'):\n",
        "        dp[i] = min_val+1\n",
        "      else:\n",
        "        dp[i] = None\n",
        "\n",
        "  return dp[0]\n",
        "\n",
        "\n",
        "dp= [None]*(len(arr)+1)\n",
        "dp[len(arr)] = 0\n",
        "stair_v_min(arr,dp)\n",
        "print(dp)"
      ],
      "execution_count": null,
      "outputs": [
        {
          "output_type": "stream",
          "text": [
            "[3, 2, None, 2, 1, 1, 0]\n"
          ],
          "name": "stdout"
        }
      ]
    },
    {
      "cell_type": "code",
      "metadata": {
        "colab": {
          "base_uri": "https://localhost:8080/"
        },
        "id": "DxkUKodMXk6o",
        "outputId": "1f07dbb8-c0f6-4ae9-a28a-c11d941d64bb"
      },
      "source": [
        "import sys\n",
        "#climb stairs with minimal jump\n",
        "arr = [3,3,0,2,2,3]\n",
        "def stair_v_min(arr, dp):\n",
        "  for i in range(len(arr)-1, -1, -1):\n",
        "    if arr[i] > 0:\n",
        "      minval =sys.maxsize\n",
        "\n",
        "      for move_size in range(1,arr[i]+1):\n",
        "        if i+move_size< len(dp):\n",
        "          if dp[i+move_size] != None:\n",
        "            # print(min,dp[i+move_size])\n",
        "            minval = min(minval, dp[i+move_size])\n",
        "      if min != float('inf'):\n",
        "        dp[i] = minval+1\n",
        "      else:\n",
        "        dp[i] = None\n",
        "\n",
        "  return dp[0]\n",
        "\n",
        "\n",
        "dp= [None]*(len(arr)+1)\n",
        "dp[len(arr)] = 0\n",
        "stair_v_min(arr,dp)"
      ],
      "execution_count": null,
      "outputs": [
        {
          "output_type": "execute_result",
          "data": {
            "text/plain": [
              "3"
            ]
          },
          "metadata": {
            "tags": []
          },
          "execution_count": 18
        }
      ]
    },
    {
      "cell_type": "code",
      "metadata": {
        "colab": {
          "base_uri": "https://localhost:8080/"
        },
        "id": "SouELYKRYMsf",
        "outputId": "b1cc8b6e-c860-4de3-93fd-ead3a68ba09c"
      },
      "source": [
        "#min cost maze path\n",
        "arr= [[2,0,1,4,9],\n",
        "      [1,2,0,8,9],\n",
        "      [2,3,6,8,9],\n",
        "      [1,5,6,0,8],\n",
        "      [0,1,1,3,4]]\n",
        "def maze_path_cost(arr,dp):\n",
        "  for i in range(len(dp)-1,-1,-1):\n",
        "    for j in range(len(dp[i])-1,-1,-1):\n",
        "      # print(arr[i][j])\n",
        "      if i == len(dp) -1 and j == len(dp[i])-1:\n",
        "        dp[i][j] = arr[i][j]\n",
        "      elif i ==len(dp)-1:\n",
        "        dp[i][j] = dp[i][j+1]+ arr[i][j]\n",
        "      elif j ==len(dp[i])-1:\n",
        "        dp[i][j] = dp[i+1][j]+ arr[i][j]\n",
        "      else:\n",
        "        dp[i][j] =  min(dp[i+1][j], dp[i][j+1])\n",
        "  return dp[0][0]\n",
        "\n",
        "\n",
        "\n",
        "dp = []\n",
        "for i in range(len(arr)):\n",
        "  dp.append([None]*5)\n",
        "maze_path_cost(arr,dp)\n",
        "# print(dp)"
      ],
      "execution_count": null,
      "outputs": [
        {
          "output_type": "execute_result",
          "data": {
            "text/plain": [
              "7"
            ]
          },
          "metadata": {
            "tags": []
          },
          "execution_count": 39
        }
      ]
    },
    {
      "cell_type": "code",
      "metadata": {
        "colab": {
          "base_uri": "https://localhost:8080/"
        },
        "id": "jwnd35eseJY4",
        "outputId": "f9830541-3f92-4b0d-be58-fa1c775de45c"
      },
      "source": [
        "#goldmine\n",
        "arr= [[0,1,4,2,8,2],\n",
        "      [4,3,6,5,0,4],\n",
        "      [1,2,4,1,4,6],\n",
        "      [2,0,7,3,2,2],\n",
        "      [3,1,5,9,2,4],\n",
        "      [2,7,0,8,5,1]]\n",
        "\n",
        "def goldmine(arr,dp):\n",
        "  for j in range(len(dp[0])-1,-1,-1):\n",
        "    for i in range(len(dp)-1,-1,-1):\n",
        "      # print(arr[i][j])\n",
        "      if j == len(dp[i])-1: #last col\n",
        "        dp[i][j] = arr[i][j]\n",
        "      elif i == 0: #first row\n",
        "        dp[i][j] = arr[i][j] + max(dp[i][j+1], dp[i+1][j+1])\n",
        "      elif i == len(dp[i])-1: #last row\n",
        "        dp[i][j] = arr[i][j] + max(dp[i][j+1], dp[i-1][j+1])\n",
        "      else: #roI\n",
        "        dp[i][j] = arr[i][j] + max(dp[i][j+1], dp[i-1][j+1], dp[i+1][j+1])\n",
        "  \n",
        "  max_gold =  dp[0][0]\n",
        "  for i in range(1, len(dp)):\n",
        "    if dp[i][0] > max_gold:\n",
        "      max_gold = dp[i][0]\n",
        "\n",
        "  return max_gold\n",
        "\n",
        "\n",
        "\n",
        "dp = []\n",
        "for i in range(len(arr)):\n",
        "  dp.append([None]*len(arr))\n",
        "# print(dp)\n",
        "goldmine(arr,dp)"
      ],
      "execution_count": null,
      "outputs": [
        {
          "output_type": "execute_result",
          "data": {
            "text/plain": [
              "33"
            ]
          },
          "metadata": {
            "tags": []
          },
          "execution_count": 13
        }
      ]
    },
    {
      "cell_type": "code",
      "metadata": {
        "colab": {
          "base_uri": "https://localhost:8080/"
        },
        "id": "eP9m5SSgeWR5",
        "outputId": "b6533f97-7a26-4a18-cf6c-2df3cc252c61"
      },
      "source": [
        "# target Sum subset\n",
        "def target_sum_subset(arr, dp, target_sum):\n",
        "  for i in range(len(dp)):\n",
        "    for j in range(len(dp[i])):\n",
        "      if i == 0  and j == 0 :\n",
        "        dp[i][j] = True\n",
        "      elif i== 0:\n",
        "        dp[i][j] = False\n",
        "      elif j == 0:\n",
        "        dp[i][j] = True\n",
        "      else:\n",
        "        if dp[i-1][j] == True: #if vo nahi aaya...\n",
        "          dp[i][j] = True\n",
        "        else: #vo aya target sum is greater than it's position in array...\n",
        "          val = arr[i-1] #target...\n",
        "          if j >= val: #target alwys greater than position...\n",
        "            if dp[i-1][j-val] == True: #vo aya and prev team ko remaining score dedia...\n",
        "              dp[i][j] = True\n",
        "            else:\n",
        "              dp[i][j] = False\n",
        "\n",
        "  return dp\n",
        "\n",
        "\n",
        "arr = [4,2,7,1,2]\n",
        "target_sum = 10\n",
        "dp = []\n",
        "for i in range(len(arr)+1):\n",
        "  dp.append([None]* (target_sum +1))\n",
        "target_sum_subset(arr, dp, target_sum)"
      ],
      "execution_count": null,
      "outputs": [
        {
          "output_type": "execute_result",
          "data": {
            "text/plain": [
              "[[True, False, False, False, False, False, False, False, False, False, False],\n",
              " [True, None, None, None, True, False, False, False, False, False, False],\n",
              " [True, None, True, False, True, False, True, False, False, False, False],\n",
              " [True, None, True, None, True, None, True, True, False, True, False],\n",
              " [True, True, True, True, True, True, True, True, True, True, True],\n",
              " [True, True, True, True, True, True, True, True, True, True, True]]"
            ]
          },
          "metadata": {
            "tags": []
          },
          "execution_count": 1
        }
      ]
    },
    {
      "cell_type": "code",
      "metadata": {
        "colab": {
          "base_uri": "https://localhost:8080/"
        },
        "id": "B_5eaHbvpmE6",
        "outputId": "5297c138-d4f1-4c27-9b8e-00b877bdd9b3"
      },
      "source": [
        "#Coin change Combination\n",
        "\n",
        "def coin_change(arr,amt,dp):\n",
        "  for i in range(len(arr)): #coins fixed first one try to answr...\n",
        "    # print(arr[i])\n",
        "    for j in range(arr[i],len(dp)):\n",
        "      dp[j] += dp[j-arr[i]]\n",
        "  return dp[amt]\n",
        "\n",
        "arr = [2,3,5]\n",
        "amt = 7\n",
        "dp = [0]*(amt +1) \n",
        "dp[0] = 1\n",
        "# print(dp)\n",
        "coin_change(arr,amt,dp)\n"
      ],
      "execution_count": null,
      "outputs": [
        {
          "output_type": "execute_result",
          "data": {
            "text/plain": [
              "2"
            ]
          },
          "metadata": {
            "tags": []
          },
          "execution_count": 9
        }
      ]
    },
    {
      "cell_type": "code",
      "metadata": {
        "colab": {
          "base_uri": "https://localhost:8080/"
        },
        "id": "tYQwuaIEqbd1",
        "outputId": "9d5ee138-a3b8-45e5-dc4f-55ea2dde2a3e"
      },
      "source": [
        "#coin change Permutation\n",
        "\n",
        "def coin_change_perm(coins,trgt,dp):\n",
        "  for amt in range(1,len(dp)):\n",
        "    for coin in coins:\n",
        "      if coin <=  amt:\n",
        "        ramt = amt - coin\n",
        "        dp[amt] += dp[ramt]\n",
        "  return dp[trgt]\n",
        "\n",
        "coins = [2,3,5,6]\n",
        "trgt = 10\n",
        "dp = [0]*(trgt +1) \n",
        "dp[0] = 1\n",
        "# print(dp)\n",
        "coin_change_perm(coins,trgt,dp)"
      ],
      "execution_count": null,
      "outputs": [
        {
          "output_type": "execute_result",
          "data": {
            "text/plain": [
              "17"
            ]
          },
          "metadata": {
            "tags": []
          },
          "execution_count": 8
        }
      ]
    },
    {
      "cell_type": "code",
      "metadata": {
        "colab": {
          "base_uri": "https://localhost:8080/"
        },
        "id": "jXISfK0FrGMc",
        "outputId": "ed089302-c561-468a-d661-da82d07ce047"
      },
      "source": [
        "dp"
      ],
      "execution_count": null,
      "outputs": [
        {
          "output_type": "execute_result",
          "data": {
            "text/plain": [
              "[1, 0, 0, 1, 3, 5, 8, 11]"
            ]
          },
          "metadata": {
            "tags": []
          },
          "execution_count": 6
        }
      ]
    },
    {
      "cell_type": "code",
      "metadata": {
        "colab": {
          "base_uri": "https://localhost:8080/"
        },
        "id": "BBAy4iEvSHvl",
        "outputId": "45a55bbd-2640-496e-a7a7-8ef36681f83d"
      },
      "source": [
        "# Zero One Knapsack\n",
        "\n",
        "def knapsack(weight, val, max_wt, dp):\n",
        "  for i in range(len(dp)):\n",
        "    for j in range(len(dp[i])):\n",
        "      if i ==0  or j ==0:\n",
        "        dp[i][j] = 0\n",
        "      else:\n",
        "        current_wt = weight[i-1]\n",
        "        current_val = val[i-1]\n",
        "        if j<current_wt:\n",
        "          c_val = dp[i-1][j]\n",
        "          dp[i][j] = c_val\n",
        "        else:\n",
        "          c_val = current_val + dp[i-1][j-current_wt]\n",
        "          p_val = dp[i-1][j]\n",
        "          dp[i][j] = max(c_val,p_val)\n",
        "\n",
        "  return dp[len(weight)][max_wt]\n",
        "\n",
        "\n",
        "      \n",
        "      \n",
        "\n",
        "weight = [2,5,1,3,4]\n",
        "val = [15,14,10,45,30]\n",
        "max_wt = 7\n",
        "dp = []\n",
        "for i in range(len(weight)+1):\n",
        "  dp.append([None] * (max_wt+1))\n",
        "knapsack(weight, val, max_wt, dp)"
      ],
      "execution_count": null,
      "outputs": [
        {
          "output_type": "execute_result",
          "data": {
            "text/plain": [
              "75"
            ]
          },
          "metadata": {
            "tags": []
          },
          "execution_count": 12
        }
      ]
    },
    {
      "cell_type": "code",
      "metadata": {
        "colab": {
          "base_uri": "https://localhost:8080/"
        },
        "id": "FhDS2s3THBM6",
        "outputId": "4a429996-5156-4664-c16f-2022edf55e59"
      },
      "source": [
        "dp"
      ],
      "execution_count": null,
      "outputs": [
        {
          "output_type": "execute_result",
          "data": {
            "text/plain": [
              "[[0, 0, 0, 0, 0, 0, 0, 0],\n",
              " [0, 0, 15, 15, 15, 15, 15, 15],\n",
              " [0, 0, 15, 15, 15, 15, 15, 29],\n",
              " [0, 10, 15, 25, 25, 25, 25, 29],\n",
              " [0, 10, 15, 45, 55, 60, 70, 70],\n",
              " [0, 10, 15, 45, 55, 60, 70, 75]]"
            ]
          },
          "metadata": {
            "tags": []
          },
          "execution_count": 13
        }
      ]
    },
    {
      "cell_type": "code",
      "metadata": {
        "colab": {
          "background_save": true
        },
        "id": "l71LiZTQSA_c"
      },
      "source": [
        "# target Sum subset submitted\n",
        "def target_sum_subset(arr, dp, target_sum):\n",
        "  for i in range(len(dp)):\n",
        "    for j in range(len(dp[i])):\n",
        "      if i == 0  and j == 0 :\n",
        "        dp[i][j] = True\n",
        "      elif i== 0:\n",
        "        dp[i][j] = False\n",
        "      elif j == 0:\n",
        "        dp[i][j] = True\n",
        "      else:\n",
        "        if dp[i-1][j] == True: #if vo nahi aaya...\n",
        "          dp[i][j] = True\n",
        "        else: #vo aya target sum is greater than it's position in array...\n",
        "          val = arr[i-1] #target...\n",
        "          if j >= val: #target alwys greater than position...\n",
        "            if dp[i-1][j-val] == True: #vo aya and prev team ko remaining score dedia...\n",
        "              dp[i][j] = True\n",
        "            else:\n",
        "              dp[i][j] = False\n",
        "\n",
        "  return dp\n",
        "\n",
        "n =  int(input())\n",
        "\n",
        "arr = [int(input()) for i in range(n)]\n",
        "target_sum = int(input())\n",
        "dp = []\n",
        "for i in range(len(arr)+1):\n",
        "  dp.append([None]* (target_sum +1))\n",
        "if (target_sum_subset(arr, dp, target_sum)[n][target_sum]) == True:\n",
        "    print(\"true\")\n",
        "else:\n",
        "    print(\"false\")"
      ],
      "execution_count": null,
      "outputs": []
    },
    {
      "cell_type": "code",
      "metadata": {
        "colab": {
          "background_save": true
        },
        "id": "QwAgMEXJXvep",
        "outputId": "d83da09a-f67c-46c6-8fd7-281a50e72407"
      },
      "source": [
        "# Zero One Knapsack Submitted\n",
        "\n",
        "def knapsack(weight, val, max_wt, dp):\n",
        "  for i in range(len(dp)):\n",
        "    for j in range(len(dp[i])):\n",
        "      if i ==0  or j ==0:\n",
        "        dp[i][j] = 0\n",
        "      else:\n",
        "        current_wt = weight[i-1]\n",
        "        current_val = val[i-1]\n",
        "        if j<current_wt:\n",
        "          c_val = dp[i-1][j]\n",
        "          dp[i][j] = c_val\n",
        "        else:\n",
        "          c_val = current_val + dp[i-1][j-current_wt]\n",
        "          p_val = dp[i-1][j]\n",
        "          dp[i][j] = max(c_val,p_val)\n",
        "\n",
        "  return dp[len(weight)][max_wt]\n",
        "\n",
        "n = int(input())\n",
        "val_arr = input().split(\" \")\n",
        "val = []\n",
        "for i in val_arr:\n",
        "    try:\n",
        "        val.append(int(i))\n",
        "    except:\n",
        "        pass\n",
        "\n",
        "w_arr = input().split(\" \")\n",
        "weight = []\n",
        "for i in w_arr:\n",
        "    try:\n",
        "        weight.append(int(i))\n",
        "    except:\n",
        "        pass\n",
        "\n",
        "max_wt = int(input())\n",
        "dp = []\n",
        "for i in range(len(weight)+1):\n",
        "  dp.append([None] * (max_wt+1))\n",
        "print(knapsack(weight, val, max_wt, dp))"
      ],
      "execution_count": null,
      "outputs": [
        {
          "output_type": "error",
          "ename": "KeyboardInterrupt",
          "evalue": "ignored",
          "traceback": [
            "\u001b[0;31m---------------------------------------------------------------------------\u001b[0m",
            "\u001b[0;31mKeyboardInterrupt\u001b[0m                         Traceback (most recent call last)",
            "\u001b[0;32m/usr/local/lib/python3.7/dist-packages/ipykernel/kernelbase.py\u001b[0m in \u001b[0;36m_input_request\u001b[0;34m(self, prompt, ident, parent, password)\u001b[0m\n\u001b[1;32m    728\u001b[0m             \u001b[0;32mtry\u001b[0m\u001b[0;34m:\u001b[0m\u001b[0;34m\u001b[0m\u001b[0;34m\u001b[0m\u001b[0m\n\u001b[0;32m--> 729\u001b[0;31m                 \u001b[0mident\u001b[0m\u001b[0;34m,\u001b[0m \u001b[0mreply\u001b[0m \u001b[0;34m=\u001b[0m \u001b[0mself\u001b[0m\u001b[0;34m.\u001b[0m\u001b[0msession\u001b[0m\u001b[0;34m.\u001b[0m\u001b[0mrecv\u001b[0m\u001b[0;34m(\u001b[0m\u001b[0mself\u001b[0m\u001b[0;34m.\u001b[0m\u001b[0mstdin_socket\u001b[0m\u001b[0;34m,\u001b[0m \u001b[0;36m0\u001b[0m\u001b[0;34m)\u001b[0m\u001b[0;34m\u001b[0m\u001b[0;34m\u001b[0m\u001b[0m\n\u001b[0m\u001b[1;32m    730\u001b[0m             \u001b[0;32mexcept\u001b[0m \u001b[0mException\u001b[0m\u001b[0;34m:\u001b[0m\u001b[0;34m\u001b[0m\u001b[0;34m\u001b[0m\u001b[0m\n",
            "\u001b[0;32m/usr/local/lib/python3.7/dist-packages/jupyter_client/session.py\u001b[0m in \u001b[0;36mrecv\u001b[0;34m(self, socket, mode, content, copy)\u001b[0m\n\u001b[1;32m    802\u001b[0m         \u001b[0;32mtry\u001b[0m\u001b[0;34m:\u001b[0m\u001b[0;34m\u001b[0m\u001b[0;34m\u001b[0m\u001b[0m\n\u001b[0;32m--> 803\u001b[0;31m             \u001b[0mmsg_list\u001b[0m \u001b[0;34m=\u001b[0m \u001b[0msocket\u001b[0m\u001b[0;34m.\u001b[0m\u001b[0mrecv_multipart\u001b[0m\u001b[0;34m(\u001b[0m\u001b[0mmode\u001b[0m\u001b[0;34m,\u001b[0m \u001b[0mcopy\u001b[0m\u001b[0;34m=\u001b[0m\u001b[0mcopy\u001b[0m\u001b[0;34m)\u001b[0m\u001b[0;34m\u001b[0m\u001b[0;34m\u001b[0m\u001b[0m\n\u001b[0m\u001b[1;32m    804\u001b[0m         \u001b[0;32mexcept\u001b[0m \u001b[0mzmq\u001b[0m\u001b[0;34m.\u001b[0m\u001b[0mZMQError\u001b[0m \u001b[0;32mas\u001b[0m \u001b[0me\u001b[0m\u001b[0;34m:\u001b[0m\u001b[0;34m\u001b[0m\u001b[0;34m\u001b[0m\u001b[0m\n",
            "\u001b[0;32m/usr/local/lib/python3.7/dist-packages/zmq/sugar/socket.py\u001b[0m in \u001b[0;36mrecv_multipart\u001b[0;34m(self, flags, copy, track)\u001b[0m\n\u001b[1;32m    582\u001b[0m         \"\"\"\n\u001b[0;32m--> 583\u001b[0;31m         \u001b[0mparts\u001b[0m \u001b[0;34m=\u001b[0m \u001b[0;34m[\u001b[0m\u001b[0mself\u001b[0m\u001b[0;34m.\u001b[0m\u001b[0mrecv\u001b[0m\u001b[0;34m(\u001b[0m\u001b[0mflags\u001b[0m\u001b[0;34m,\u001b[0m \u001b[0mcopy\u001b[0m\u001b[0;34m=\u001b[0m\u001b[0mcopy\u001b[0m\u001b[0;34m,\u001b[0m \u001b[0mtrack\u001b[0m\u001b[0;34m=\u001b[0m\u001b[0mtrack\u001b[0m\u001b[0;34m)\u001b[0m\u001b[0;34m]\u001b[0m\u001b[0;34m\u001b[0m\u001b[0;34m\u001b[0m\u001b[0m\n\u001b[0m\u001b[1;32m    584\u001b[0m         \u001b[0;31m# have first part already, only loop while more to receive\u001b[0m\u001b[0;34m\u001b[0m\u001b[0;34m\u001b[0m\u001b[0;34m\u001b[0m\u001b[0m\n",
            "\u001b[0;32mzmq/backend/cython/socket.pyx\u001b[0m in \u001b[0;36mzmq.backend.cython.socket.Socket.recv\u001b[0;34m()\u001b[0m\n",
            "\u001b[0;32mzmq/backend/cython/socket.pyx\u001b[0m in \u001b[0;36mzmq.backend.cython.socket.Socket.recv\u001b[0;34m()\u001b[0m\n",
            "\u001b[0;32mzmq/backend/cython/socket.pyx\u001b[0m in \u001b[0;36mzmq.backend.cython.socket._recv_copy\u001b[0;34m()\u001b[0m\n",
            "\u001b[0;32m/usr/local/lib/python3.7/dist-packages/zmq/backend/cython/checkrc.pxd\u001b[0m in \u001b[0;36mzmq.backend.cython.checkrc._check_rc\u001b[0;34m()\u001b[0m\n",
            "\u001b[0;31mKeyboardInterrupt\u001b[0m: ",
            "\nDuring handling of the above exception, another exception occurred:\n",
            "\u001b[0;31mKeyboardInterrupt\u001b[0m                         Traceback (most recent call last)",
            "\u001b[0;32m<ipython-input-14-16d993e01ca5>\u001b[0m in \u001b[0;36m<module>\u001b[0;34m()\u001b[0m\n\u001b[1;32m     19\u001b[0m   \u001b[0;32mreturn\u001b[0m \u001b[0mdp\u001b[0m\u001b[0;34m[\u001b[0m\u001b[0mlen\u001b[0m\u001b[0;34m(\u001b[0m\u001b[0mweight\u001b[0m\u001b[0;34m)\u001b[0m\u001b[0;34m]\u001b[0m\u001b[0;34m[\u001b[0m\u001b[0mmax_wt\u001b[0m\u001b[0;34m]\u001b[0m\u001b[0;34m\u001b[0m\u001b[0;34m\u001b[0m\u001b[0m\n\u001b[1;32m     20\u001b[0m \u001b[0;34m\u001b[0m\u001b[0m\n\u001b[0;32m---> 21\u001b[0;31m \u001b[0mn\u001b[0m \u001b[0;34m=\u001b[0m \u001b[0mint\u001b[0m\u001b[0;34m(\u001b[0m\u001b[0minput\u001b[0m\u001b[0;34m(\u001b[0m\u001b[0;34m)\u001b[0m\u001b[0;34m)\u001b[0m\u001b[0;34m\u001b[0m\u001b[0;34m\u001b[0m\u001b[0m\n\u001b[0m\u001b[1;32m     22\u001b[0m \u001b[0mval_arr\u001b[0m \u001b[0;34m=\u001b[0m \u001b[0minput\u001b[0m\u001b[0;34m(\u001b[0m\u001b[0;34m)\u001b[0m\u001b[0;34m.\u001b[0m\u001b[0msplit\u001b[0m\u001b[0;34m(\u001b[0m\u001b[0;34m\" \"\u001b[0m\u001b[0;34m)\u001b[0m\u001b[0;34m\u001b[0m\u001b[0;34m\u001b[0m\u001b[0m\n\u001b[1;32m     23\u001b[0m \u001b[0mval\u001b[0m \u001b[0;34m=\u001b[0m \u001b[0;34m[\u001b[0m\u001b[0;34m]\u001b[0m\u001b[0;34m\u001b[0m\u001b[0;34m\u001b[0m\u001b[0m\n",
            "\u001b[0;32m/usr/local/lib/python3.7/dist-packages/ipykernel/kernelbase.py\u001b[0m in \u001b[0;36mraw_input\u001b[0;34m(self, prompt)\u001b[0m\n\u001b[1;32m    702\u001b[0m             \u001b[0mself\u001b[0m\u001b[0;34m.\u001b[0m\u001b[0m_parent_ident\u001b[0m\u001b[0;34m,\u001b[0m\u001b[0;34m\u001b[0m\u001b[0;34m\u001b[0m\u001b[0m\n\u001b[1;32m    703\u001b[0m             \u001b[0mself\u001b[0m\u001b[0;34m.\u001b[0m\u001b[0m_parent_header\u001b[0m\u001b[0;34m,\u001b[0m\u001b[0;34m\u001b[0m\u001b[0;34m\u001b[0m\u001b[0m\n\u001b[0;32m--> 704\u001b[0;31m             \u001b[0mpassword\u001b[0m\u001b[0;34m=\u001b[0m\u001b[0;32mFalse\u001b[0m\u001b[0;34m,\u001b[0m\u001b[0;34m\u001b[0m\u001b[0;34m\u001b[0m\u001b[0m\n\u001b[0m\u001b[1;32m    705\u001b[0m         )\n\u001b[1;32m    706\u001b[0m \u001b[0;34m\u001b[0m\u001b[0m\n",
            "\u001b[0;32m/usr/local/lib/python3.7/dist-packages/ipykernel/kernelbase.py\u001b[0m in \u001b[0;36m_input_request\u001b[0;34m(self, prompt, ident, parent, password)\u001b[0m\n\u001b[1;32m    732\u001b[0m             \u001b[0;32mexcept\u001b[0m \u001b[0mKeyboardInterrupt\u001b[0m\u001b[0;34m:\u001b[0m\u001b[0;34m\u001b[0m\u001b[0;34m\u001b[0m\u001b[0m\n\u001b[1;32m    733\u001b[0m                 \u001b[0;31m# re-raise KeyboardInterrupt, to truncate traceback\u001b[0m\u001b[0;34m\u001b[0m\u001b[0;34m\u001b[0m\u001b[0;34m\u001b[0m\u001b[0m\n\u001b[0;32m--> 734\u001b[0;31m                 \u001b[0;32mraise\u001b[0m \u001b[0mKeyboardInterrupt\u001b[0m\u001b[0;34m\u001b[0m\u001b[0;34m\u001b[0m\u001b[0m\n\u001b[0m\u001b[1;32m    735\u001b[0m             \u001b[0;32melse\u001b[0m\u001b[0;34m:\u001b[0m\u001b[0;34m\u001b[0m\u001b[0;34m\u001b[0m\u001b[0m\n\u001b[1;32m    736\u001b[0m                 \u001b[0;32mbreak\u001b[0m\u001b[0;34m\u001b[0m\u001b[0;34m\u001b[0m\u001b[0m\n",
            "\u001b[0;31mKeyboardInterrupt\u001b[0m: "
          ]
        }
      ]
    },
    {
      "cell_type": "code",
      "metadata": {
        "id": "3qvr160ZXxv9",
        "colab": {
          "base_uri": "https://localhost:8080/"
        },
        "outputId": "019b3ae0-eb11-495f-b158-a71c4308ea96"
      },
      "source": [
        "# zero knapsack unbounded #elemnt will repeat\n",
        "\n",
        "def zero_knap_unboun(wt_arr, val_arr,bag_c,dp):\n",
        "  for bag_cap in range(1, bag_c +1):\n",
        "    max_val = 0\n",
        "    for j in range(len(wt_arr)):\n",
        "      if wt_arr[j]<= bag_cap:\n",
        "        rem_val = bag_cap - wt_arr[j]\n",
        "        rem_wt = dp[rem_val]\n",
        "        tot_val = rem_wt + val_arr[j]\n",
        "        # print(tot_val)\n",
        "        if tot_val > max_val:\n",
        "          max_val = tot_val\n",
        "    dp[bag_cap] = max_val\n",
        "  return dp[bag_c]\n",
        "\n",
        "wt_arr = [2,5,1,3,4]\n",
        "val_arr = [15,14,10,45,30]\n",
        "bag_c = 7\n",
        "dp = [0] * (bag_c +1)\n",
        "zero_knap_unboun(wt_arr, val_arr,bag_c,dp)\n"
      ],
      "execution_count": null,
      "outputs": [
        {
          "output_type": "execute_result",
          "data": {
            "text/plain": [
              "100"
            ]
          },
          "metadata": {
            "tags": []
          },
          "execution_count": 6
        }
      ]
    },
    {
      "cell_type": "code",
      "metadata": {
        "colab": {
          "base_uri": "https://localhost:8080/"
        },
        "id": "U5pqcp12lXUi",
        "outputId": "e3229cf9-1291-4ba1-f979-ec92fa486d38"
      },
      "source": [
        "wt_arr = [2,5,1,3,4]\n",
        "val_arr = [15,14,10,45,30]\n",
        "\n",
        "val_wt_ratio = [(wt_arr[i], val_arr[i], val_arr[i]/wt_arr[i]) for i in range(len(wt_arr))]\n",
        "val_wt_ratio = sorted(val_wt_ratio, key=lambda val_wt_ratio: val_wt_ratio[2],reverse=True) #sorted use new list but with merge sort algorithm\n",
        "val_wt_ratio\n"
      ],
      "execution_count": null,
      "outputs": [
        {
          "output_type": "execute_result",
          "data": {
            "text/plain": [
              "[(3, 45, 15.0), (1, 10, 10.0), (2, 15, 7.5), (4, 30, 7.5), (5, 14, 2.8)]"
            ]
          },
          "metadata": {
            "tags": []
          },
          "execution_count": 8
        }
      ]
    },
    {
      "cell_type": "code",
      "metadata": {
        "colab": {
          "base_uri": "https://localhost:8080/"
        },
        "id": "dhhcaLVGl33i",
        "outputId": "4900ee44-87fd-4efa-8d6d-f55577e70094"
      },
      "source": [
        "wt_arr = [2,5,1,3,4]\n",
        "val_arr = [15,14,10,45,30]\n",
        "\n",
        "val_wt_ratio = [(wt_arr[i], val_arr[i], val_arr[i]/wt_arr[i]) for i in range(len(wt_arr))] #sort don't use new list only apply merge sort algorithm\n",
        "val_wt_ratio.sort(key=lambda val_wt_ratio: val_wt_ratio[2],reverse=True)\n",
        "val_wt_ratio\n"
      ],
      "execution_count": null,
      "outputs": [
        {
          "output_type": "execute_result",
          "data": {
            "text/plain": [
              "[(3, 45, 15.0), (1, 10, 10.0), (2, 15, 7.5), (4, 30, 7.5), (5, 14, 2.8)]"
            ]
          },
          "metadata": {
            "tags": []
          },
          "execution_count": 21
        }
      ]
    },
    {
      "cell_type": "code",
      "metadata": {
        "id": "g9MruRBKTi3U",
        "colab": {
          "base_uri": "https://localhost:8080/"
        },
        "outputId": "38e6c774-66b0-48c2-f787-4074885d3e1c"
      },
      "source": [
        "# zero knapsack fraction\n",
        "def fractional_knapsack(wt_arr, val_arr, max_wt):\n",
        "  val_wt_ratio = [(wt_arr[i], val_arr[i], val_arr[i]/wt_arr[i]) for i in range(len(wt_arr))] \n",
        "  val_wt_ratio.sort(key=lambda val_wt_ratio: val_wt_ratio[2],reverse=True)\n",
        "  print(val_wt_ratio)\n",
        "  profit = 0\n",
        "  for i in range(len(val_wt_ratio)):\n",
        "    if val_wt_ratio[i][0] <= max_wt:\n",
        "      profit += val_wt_ratio[i][1]\n",
        "      max_wt =  max_wt - val_wt_ratio[i][0]\n",
        "    else:\n",
        "      r_amt = max_wt * val_wt_ratio[i][2]\n",
        "      profit += r_amt\n",
        "      return profit\n",
        "wt_arr = [2,5,1,3,4]\n",
        "val_arr = [15,14,10,45,30]\n",
        "max_wt = 7\n",
        "fractional_knapsack(wt_arr, val_arr, max_wt)"
      ],
      "execution_count": null,
      "outputs": [
        {
          "output_type": "stream",
          "text": [
            "[(3, 45, 15.0), (1, 10, 10.0), (2, 15, 7.5), (4, 30, 7.5), (5, 14, 2.8)]\n"
          ],
          "name": "stdout"
        },
        {
          "output_type": "execute_result",
          "data": {
            "text/plain": [
              "77.5"
            ]
          },
          "metadata": {
            "tags": []
          },
          "execution_count": 36
        }
      ]
    },
    {
      "cell_type": "code",
      "metadata": {
        "colab": {
          "base_uri": "https://localhost:8080/"
        },
        "id": "whwvVTStoQH0",
        "outputId": "e1915460-433d-40aa-f9eb-0c1816df2ed2"
      },
      "source": [
        "wt_arr = [9,3,6,8,3,6]\n",
        "val_arr = [6,33,10,28,42,7]\n",
        "max_wt = 4\n",
        "fractional_knapsack(wt_arr, val_arr, max_wt)"
      ],
      "execution_count": null,
      "outputs": [
        {
          "output_type": "stream",
          "text": [
            "[(3, 42, 14.0), (3, 33, 11.0), (8, 28, 3.5), (6, 10, 1.6666666666666667), (6, 7, 1.1666666666666667), (9, 6, 0.6666666666666666)]\n"
          ],
          "name": "stdout"
        },
        {
          "output_type": "execute_result",
          "data": {
            "text/plain": [
              "53.0"
            ]
          },
          "metadata": {
            "tags": []
          },
          "execution_count": 37
        }
      ]
    },
    {
      "cell_type": "code",
      "metadata": {
        "colab": {
          "base_uri": "https://localhost:8080/"
        },
        "id": "ASxt9r_2wtv_",
        "outputId": "dd3cb2db-2ac5-460e-b34c-703d806e1136"
      },
      "source": [
        "wt_arr = [7,2,5,9,3,2,1,10,3,3]\n",
        "val_arr = [33,14,50,9,8,11,6,40,2,15]\n",
        "max_wt = 5\n",
        "fractional_knapsack(wt_arr, val_arr, max_wt) "
      ],
      "execution_count": null,
      "outputs": [
        {
          "output_type": "stream",
          "text": [
            "[(5, 50, 10.0), (2, 14, 7.0), (1, 6, 6.0), (2, 11, 5.5), (3, 15, 5.0), (7, 33, 4.714285714285714), (10, 40, 4.0), (3, 8, 2.6666666666666665), (9, 9, 1.0), (3, 2, 0.6666666666666666)]\n",
            "0 50\n"
          ],
          "name": "stdout"
        },
        {
          "output_type": "execute_result",
          "data": {
            "text/plain": [
              "50"
            ]
          },
          "metadata": {
            "tags": []
          },
          "execution_count": 27
        }
      ]
    },
    {
      "cell_type": "code",
      "metadata": {
        "id": "mVqHT_501m5V"
      },
      "source": [
        "def fractional_knapsack(wt_arr, val_arr, max_wt): #submitted\n",
        "  val_wt_ratio = [(wt_arr[i], val_arr[i], val_arr[i]/wt_arr[i]) for i in range(len(wt_arr))] \n",
        "  val_wt_ratio.sort(key=lambda val_wt_ratio: val_wt_ratio[2],reverse=True)\n",
        "#   print(val_wt_ratio)\n",
        "  profit = 0\n",
        "  for i in range(len(val_wt_ratio)):\n",
        "    # print(val_wt_ratio[i])\n",
        "    if val_wt_ratio[i][0] <= max_wt:\n",
        "      profit += val_wt_ratio[i][1]\n",
        "      max_wt -= val_wt_ratio[i][0]\n",
        "    #   print(max_wt,profit)\n",
        "    else:\n",
        "      r_amt = max_wt * val_wt_ratio[i][2]\n",
        "      profit += r_amt\n",
        "      return(profit/1.0)\n",
        "\n",
        "n = int(input())\n",
        "val = input().split(\" \")\n",
        "val_arr = []\n",
        "for i in val:\n",
        "    try:\n",
        "        val_arr.append(int(i))\n",
        "    except:\n",
        "        pass\n",
        "\n",
        "w = input().split(\" \")\n",
        "wt_arr = []\n",
        "for i in w:\n",
        "    try:\n",
        "        wt_arr.append(int(i))\n",
        "    except:\n",
        "        pass\n",
        "\n",
        "max_wt = int(input())\n",
        "print(fractional_knapsack(wt_arr, val_arr, max_wt))"
      ],
      "execution_count": null,
      "outputs": []
    },
    {
      "cell_type": "code",
      "metadata": {
        "colab": {
          "base_uri": "https://localhost:8080/"
        },
        "id": "ukttBIXe3FdU",
        "outputId": "8a928670-cdca-4c3a-dc07-c98db9f960cf"
      },
      "source": [
        "# count binary string  2 consecutive zeroes...\n",
        "\n",
        "def bin_str(string_len):\n",
        "  old_c_zeros = 1\n",
        "  old_c_ones =  1 \n",
        "  for i in range(2,string_len+1):\n",
        "    new_c_zeros =  old_c_ones\n",
        "    new_c_ones  = old_c_ones + old_c_zeros\n",
        "\n",
        "    old_c_ones = new_c_ones\n",
        "    old_c_zeros = new_c_zeros\n",
        "\n",
        "  total_possible =  old_c_zeros + old_c_ones\n",
        "  return total_possible\n",
        "bin_str(6)"
      ],
      "execution_count": null,
      "outputs": [
        {
          "output_type": "execute_result",
          "data": {
            "text/plain": [
              "21"
            ]
          },
          "metadata": {
            "tags": []
          },
          "execution_count": 6
        }
      ]
    },
    {
      "cell_type": "code",
      "metadata": {
        "colab": {
          "base_uri": "https://localhost:8080/"
        },
        "id": "cTKqML-TZcUc",
        "outputId": "f47656b4-051a-4df7-a27b-fe1210c3228f"
      },
      "source": [
        "def bin_str(string_len):\n",
        "  dp0 = [0]*(string_len+1)\n",
        "  dp1 = [0]*(string_len+1)\n",
        "  dp0[1] = 1\n",
        "  dp1[1] = 1\n",
        "  for i in range(2,string_len+1):\n",
        "    dp1[i] = dp1[i-1] + dp0[i-1]\n",
        "    dp0[i] = dp1[i-1]\n",
        "  return dp0[string_len] + dp1[string_len]\n",
        "bin_str(6)"
      ],
      "execution_count": null,
      "outputs": [
        {
          "output_type": "execute_result",
          "data": {
            "text/plain": [
              "21"
            ]
          },
          "metadata": {
            "tags": []
          },
          "execution_count": 5
        }
      ]
    },
    {
      "cell_type": "code",
      "metadata": {
        "colab": {
          "base_uri": "https://localhost:8080/"
        },
        "id": "VVDwLCovardJ",
        "outputId": "0fdf5bdb-91e3-4207-8a55-50f3e4b9cd1b"
      },
      "source": [
        "# arrange Building\n",
        "def arr_buil(n):\n",
        "  dp = []\n",
        "  for i in range(2): #2 cases are possible B or S\n",
        "    dp.append([0]*(n+1))\n",
        "  dp[0][1] = 1 #Buil\n",
        "  dp[1][1] = 1 #space\n",
        "  for i in range(2,n+1):\n",
        "    dp[0][i] = dp[1][i-1] #build --> space\n",
        "    dp[1][i] = dp[1][i-1] + dp[0][i-1] #space --> Buil or space boths\n",
        "    # print(dp[0][i])\n",
        "    # print(dp[1][i])\n",
        "  total = dp[0][n] +dp[1][n]\n",
        "  return total*total\n",
        "arr_buil(6)\n"
      ],
      "execution_count": null,
      "outputs": [
        {
          "output_type": "execute_result",
          "data": {
            "text/plain": [
              "441"
            ]
          },
          "metadata": {
            "tags": []
          },
          "execution_count": 24
        }
      ]
    },
    {
      "cell_type": "code",
      "metadata": {
        "colab": {
          "base_uri": "https://localhost:8080/"
        },
        "id": "LVqJb3yqfAxL",
        "outputId": "f7d696a3-e0a7-44cd-ed0b-78d227c33bf9"
      },
      "source": [
        "def arr_buil(n):\n",
        "  old_B = 1\n",
        "  old_S = 1\n",
        "  for i in range(2,n+1):\n",
        "    new_B = old_S\n",
        "    new_S = old_B +old_S\n",
        "\n",
        "    old_S = new_S\n",
        "    old_B = new_B\n",
        "    # print(old_S)\n",
        "    # print(old_B)\n",
        "\n",
        "  total =  old_S + old_B\n",
        "  # print(old_B)\n",
        "  return total*total\n",
        "arr_buil(6)"
      ],
      "execution_count": null,
      "outputs": [
        {
          "output_type": "execute_result",
          "data": {
            "text/plain": [
              "441"
            ]
          },
          "metadata": {
            "tags": []
          },
          "execution_count": 23
        }
      ]
    },
    {
      "cell_type": "code",
      "metadata": {
        "colab": {
          "base_uri": "https://localhost:8080/"
        },
        "id": "mBU9Dq3ZhniO",
        "outputId": "47bb37b1-2111-4bc0-f2ba-35cf3b855d5f"
      },
      "source": [
        "#count_encodings\n",
        "\n",
        "def count_enc(n):\n",
        "  dp = [None]*len(n)\n",
        "  dp[0] =1\n",
        "  for i in range(1,len(n)):\n",
        "    # print(n[i])\n",
        "    if n[i-1] == '0' and n[i] == '0':\n",
        "      dp[i] = 0\n",
        "    elif n[i-1] == '0' and n[i] != '0':\n",
        "      dp[i] = dp[i-1]\n",
        "    elif n[i-1] != '0' and n[i] == '0':\n",
        "      if n[i-1] == \"1\" and n[i-1] == \"2\":\n",
        "        if i >=2:\n",
        "          dp[i] = dp[i-2]\n",
        "        else:\n",
        "          dp[i] = 1\n",
        "      else:\n",
        "        dp[i] = 0\n",
        "    else:\n",
        "      if int(n[i-1:i+1]) <= 26:\n",
        "        if i >=2:\n",
        "          dp[i] =dp[i-1] +dp[i-2]\n",
        "        else:\n",
        "          dp[i] =dp[i-1] + 1\n",
        "      else:\n",
        "        dp[i] =  dp[i-1]\n",
        "  return dp\n",
        "a= count_enc(\"21123\")\n",
        "print(a[-1])"
      ],
      "execution_count": null,
      "outputs": [
        {
          "output_type": "stream",
          "text": [
            "8\n"
          ],
          "name": "stdout"
        }
      ]
    },
    {
      "cell_type": "code",
      "metadata": {
        "colab": {
          "base_uri": "https://localhost:8080/"
        },
        "id": "d-GM4h9DHIqY",
        "outputId": "42ffe5c9-cd8c-49ff-8e41-7bb012cdef3e"
      },
      "source": [
        "#count a +b +c.... aab, abc, aabbbcc\n",
        "def count_subs(string):\n",
        "  a = 0\n",
        "  ab = 0\n",
        "  abc = 0\n",
        "  for i in range(len(string)):\n",
        "    char = string[i]\n",
        "    if char == 'a':\n",
        "      a = (2*a) + 1\n",
        "    elif char == 'b':\n",
        "      ab = (2*ab) + a\n",
        "    elif char == 'c':\n",
        "      abc = (2*abc) + ab\n",
        "  return abc\n",
        "count_subs('abcabc')\n",
        "    "
      ],
      "execution_count": null,
      "outputs": [
        {
          "output_type": "execute_result",
          "data": {
            "text/plain": [
              "7"
            ]
          },
          "metadata": {
            "tags": []
          },
          "execution_count": 4
        }
      ]
    },
    {
      "cell_type": "code",
      "metadata": {
        "id": "cKKH9fdfHMKu",
        "colab": {
          "base_uri": "https://localhost:8080/"
        },
        "outputId": "62b06c7e-9581-4195-b526-8feda476ca4e"
      },
      "source": [
        "# HOUSE PAINT n^2\n",
        "def house_p(n,arr):\n",
        "  dp = []\n",
        "  for i in range(n):\n",
        "    dp.append([None]*3)\n",
        "  dp[0] = arr[0]\n",
        "  # print(dp)\n",
        "  for i in range(1,n):\n",
        "    for j in range(len(dp[i])): #or 3 bcz there are only rgb options\n",
        "      if j == 0:\n",
        "        cost = arr[i][j] + min(dp[i-1][j+1], dp[i-1][j+2])\n",
        "        dp[i][j] = cost\n",
        "      elif j ==1:\n",
        "        cost = arr[i][j] + min(dp[i-1][j-1], dp[i-1][j+1])\n",
        "        dp[i][j] = cost\n",
        "      elif j == 2:\n",
        "        cost = arr[i][j] + min(dp[i-1][j-1], dp[i-1][j-2])\n",
        "        dp[i][j] = cost\n",
        "  return dp\n",
        "\n",
        "arr= [[1,5,7], #RGB\n",
        "      [5,8,4],\n",
        "      [3,2,9],\n",
        "      [1,2,4]]\n",
        "n = 4 #4 houses belong to 4 rows\n",
        "a = house_p(n,arr)\n",
        "print(min(a[n-1]))\n",
        "print(a)"
      ],
      "execution_count": null,
      "outputs": [
        {
          "output_type": "stream",
          "text": [
            "8\n",
            "[[1, 5, 7], [10, 9, 5], [8, 7, 18], [8, 10, 11]]\n"
          ],
          "name": "stdout"
        }
      ]
    },
    {
      "cell_type": "code",
      "metadata": {
        "colab": {
          "base_uri": "https://localhost:8080/"
        },
        "id": "ImEN81IT6jGf",
        "outputId": "21cf7a6d-5328-4df6-c151-d9a559ef9d05"
      },
      "source": [
        "# HOUSE PAINT n\n",
        "def house_p(n,arr):\n",
        "  dp = []\n",
        "  for i in range(n):\n",
        "    dp.append([None]*3)\n",
        "  dp[0] = arr[0]\n",
        "  # print(dp)\n",
        "  for i in range(1,n):\n",
        "    dp[i][0] = arr[i][0] + min(dp[i-1][1], dp[i-1][2])\n",
        "    dp[i][1] = arr[i][1] + min(dp[i-1][0], dp[i-1][2])\n",
        "    dp[i][2] = arr[i][2] + min(dp[i-1][0], dp[i-1][1])\n",
        "  return dp\n",
        "arr= [[1,5,7], #RGB\n",
        "      [5,8,4],\n",
        "      [3,2,9],\n",
        "      [1,2,4]]\n",
        "n = 4 #4 houses belong to 4 rows\n",
        "a = house_p(n,arr)\n",
        "print(min(a[n-1]))\n",
        "print(a)"
      ],
      "execution_count": null,
      "outputs": [
        {
          "output_type": "stream",
          "text": [
            "8\n",
            "[[1, 5, 7], [10, 9, 5], [8, 7, 18], [8, 10, 11]]\n"
          ],
          "name": "stdout"
        }
      ]
    },
    {
      "cell_type": "code",
      "metadata": {
        "colab": {
          "base_uri": "https://localhost:8080/",
          "height": 401
        },
        "id": "p9BjSgtl97Sv",
        "outputId": "cbdf7cff-be04-4d66-dc6f-efa3dfe30fa3"
      },
      "source": [
        "# HOUSE PAINT n^3 any color\n",
        "def house_p(n,arr):\n",
        "  dp = []\n",
        "  for i in range(n):\n",
        "    dp.append([None]*3)\n",
        "  dp[0] = arr[0]\n",
        "  # print(dp)\n",
        "  for i in range(1,n):\n",
        "    for j in range(len(dp[i])): #or 3 bcz there are only rgb options\n",
        "      min_v = float('inf')\n",
        "      # print(min_v)\n",
        "      for k in range(len(dp[i])):\n",
        "        if k!=j :\n",
        "          # print(dp[i-1][k])\n",
        "          if dp[i-1][k]< min_v:\n",
        "            min_v = dp[i-1][k]\n",
        "            print(min_v)\n",
        "    dp[i][j] = arr[i][j] + min_v\n",
        "  return dp\n",
        "\n",
        "arr= [[1,5,7], #RGB\n",
        "      [5,8,4],\n",
        "      [3,2,9],\n",
        "      [1,2,4]]\n",
        "n = 4 #4 houses belong to 4 rows\n",
        "a = house_p(n,arr)\n",
        "print(min(a[n-1]))\n",
        "print(a)"
      ],
      "execution_count": null,
      "outputs": [
        {
          "output_type": "stream",
          "text": [
            "5\n",
            "1\n",
            "1\n"
          ],
          "name": "stdout"
        },
        {
          "output_type": "error",
          "ename": "TypeError",
          "evalue": "ignored",
          "traceback": [
            "\u001b[0;31m---------------------------------------------------------------------------\u001b[0m",
            "\u001b[0;31mTypeError\u001b[0m                                 Traceback (most recent call last)",
            "\u001b[0;32m<ipython-input-32-2eeef65a7742>\u001b[0m in \u001b[0;36m<module>\u001b[0;34m()\u001b[0m\n\u001b[1;32m     24\u001b[0m       [1,2,4]]\n\u001b[1;32m     25\u001b[0m \u001b[0mn\u001b[0m \u001b[0;34m=\u001b[0m \u001b[0;36m4\u001b[0m \u001b[0;31m#4 houses belong to 4 rows\u001b[0m\u001b[0;34m\u001b[0m\u001b[0;34m\u001b[0m\u001b[0m\n\u001b[0;32m---> 26\u001b[0;31m \u001b[0ma\u001b[0m \u001b[0;34m=\u001b[0m \u001b[0mhouse_p\u001b[0m\u001b[0;34m(\u001b[0m\u001b[0mn\u001b[0m\u001b[0;34m,\u001b[0m\u001b[0marr\u001b[0m\u001b[0;34m)\u001b[0m\u001b[0;34m\u001b[0m\u001b[0;34m\u001b[0m\u001b[0m\n\u001b[0m\u001b[1;32m     27\u001b[0m \u001b[0mprint\u001b[0m\u001b[0;34m(\u001b[0m\u001b[0mmin\u001b[0m\u001b[0;34m(\u001b[0m\u001b[0ma\u001b[0m\u001b[0;34m[\u001b[0m\u001b[0mn\u001b[0m\u001b[0;34m-\u001b[0m\u001b[0;36m1\u001b[0m\u001b[0;34m]\u001b[0m\u001b[0;34m)\u001b[0m\u001b[0;34m)\u001b[0m\u001b[0;34m\u001b[0m\u001b[0;34m\u001b[0m\u001b[0m\n\u001b[1;32m     28\u001b[0m \u001b[0mprint\u001b[0m\u001b[0;34m(\u001b[0m\u001b[0ma\u001b[0m\u001b[0;34m)\u001b[0m\u001b[0;34m\u001b[0m\u001b[0;34m\u001b[0m\u001b[0m\n",
            "\u001b[0;32m<ipython-input-32-2eeef65a7742>\u001b[0m in \u001b[0;36mhouse_p\u001b[0;34m(n, arr)\u001b[0m\n\u001b[1;32m     13\u001b[0m         \u001b[0;32mif\u001b[0m \u001b[0mk\u001b[0m\u001b[0;34m!=\u001b[0m\u001b[0mj\u001b[0m \u001b[0;34m:\u001b[0m\u001b[0;34m\u001b[0m\u001b[0;34m\u001b[0m\u001b[0m\n\u001b[1;32m     14\u001b[0m           \u001b[0;31m# print(dp[i-1][k])\u001b[0m\u001b[0;34m\u001b[0m\u001b[0;34m\u001b[0m\u001b[0;34m\u001b[0m\u001b[0m\n\u001b[0;32m---> 15\u001b[0;31m           \u001b[0;32mif\u001b[0m \u001b[0mdp\u001b[0m\u001b[0;34m[\u001b[0m\u001b[0mi\u001b[0m\u001b[0;34m-\u001b[0m\u001b[0;36m1\u001b[0m\u001b[0;34m]\u001b[0m\u001b[0;34m[\u001b[0m\u001b[0mk\u001b[0m\u001b[0;34m]\u001b[0m\u001b[0;34m<\u001b[0m \u001b[0mmin_v\u001b[0m\u001b[0;34m:\u001b[0m\u001b[0;34m\u001b[0m\u001b[0;34m\u001b[0m\u001b[0m\n\u001b[0m\u001b[1;32m     16\u001b[0m             \u001b[0mmin_v\u001b[0m \u001b[0;34m=\u001b[0m \u001b[0mdp\u001b[0m\u001b[0;34m[\u001b[0m\u001b[0mi\u001b[0m\u001b[0;34m-\u001b[0m\u001b[0;36m1\u001b[0m\u001b[0;34m]\u001b[0m\u001b[0;34m[\u001b[0m\u001b[0mk\u001b[0m\u001b[0;34m]\u001b[0m\u001b[0;34m\u001b[0m\u001b[0;34m\u001b[0m\u001b[0m\n\u001b[1;32m     17\u001b[0m             \u001b[0mprint\u001b[0m\u001b[0;34m(\u001b[0m\u001b[0mmin_v\u001b[0m\u001b[0;34m)\u001b[0m\u001b[0;34m\u001b[0m\u001b[0;34m\u001b[0m\u001b[0m\n",
            "\u001b[0;31mTypeError\u001b[0m: '<' not supported between instances of 'NoneType' and 'float'"
          ]
        }
      ]
    },
    {
      "cell_type": "code",
      "metadata": {
        "colab": {
          "base_uri": "https://localhost:8080/"
        },
        "id": "GJ21fylGFwEa",
        "outputId": "c6262813-ab17-45dd-f1bf-8edc55781f87"
      },
      "source": [
        "# HOUSE PAINT n^2 any color\n",
        "def house_p(n,arr):\n",
        "  dp = []\n",
        "  for i in range(n):\n",
        "    dp.append([None]*len(arr[0]))\n",
        "  least =  float('inf')\n",
        "  sleast = float('inf')\n",
        "  for j in range(len(dp[0])):\n",
        "    dp[0][j] = arr[0][j]\n",
        "    if arr[0][j] <= least:\n",
        "      sleast= least\n",
        "      least = arr[0][j]\n",
        "    elif arr[0][j]<= sleast:\n",
        "      sleast = arr[0][j]\n",
        "\n",
        "  # print(dp)\n",
        "  for i in range(1,n):\n",
        "    nleast = float('inf')\n",
        "    nsleast = float('inf')\n",
        "    for j in range(len(dp[i])): #or 3 bcz there are only rgb options\n",
        "      if least == dp[i-1][j]:\n",
        "        dp[i][j] = arr[i][j] + sleast\n",
        "      else:\n",
        "        dp[i][j] = arr[i][j]+ least\n",
        "      if dp[i][j] <= nleast:\n",
        "        nsleast= nleast\n",
        "        nleast = dp[i][j]\n",
        "      elif dp[i][j]<= nsleast:\n",
        "        nsleast = dp[i][j]\n",
        "    least = nleast\n",
        "    sleast = nsleast     \n",
        "  return dp\n",
        "\n",
        "arr= [[1,5,7,2,3,4], #RGB\n",
        "      [5,8,4,3,6,1],\n",
        "      [3,2,9,7,2,3],\n",
        "      [1,2,4,9,1,7]]\n",
        "n = 4 #4 houses belong to 4 rows\n",
        "a = house_p(n,arr)\n",
        "print(min(a[n-1]))\n",
        "print(a)"
      ],
      "execution_count": null,
      "outputs": [
        {
          "output_type": "stream",
          "text": [
            "5\n",
            "[[1, 5, 7, 2, 3, 4], [7, 9, 5, 4, 7, 2], [5, 4, 11, 9, 4, 7], [5, 6, 8, 13, 5, 11]]\n"
          ],
          "name": "stdout"
        }
      ]
    },
    {
      "cell_type": "code",
      "metadata": {
        "colab": {
          "base_uri": "https://localhost:8080/"
        },
        "id": "9cUsdCTZ1128",
        "outputId": "7e4bc992-e09a-40fb-81af-3ed06fc35e1d"
      },
      "source": [
        "def paint_fence(n,k): #n = no. of fence\n",
        "  same =  k*1\n",
        "  diff = k*(k-1)\n",
        "  total = same+ diff\n",
        "  for i in range(3,n+1): # 1 is empty aand 2nd we filled so starting from 3 to n fences.\n",
        "    same = diff \n",
        "    diff =  total * (k-1)\n",
        "    total =  same + diff\n",
        "  return total\n",
        "paint_fence(8,3)"
      ],
      "execution_count": null,
      "outputs": [
        {
          "output_type": "execute_result",
          "data": {
            "text/plain": [
              "3672"
            ]
          },
          "metadata": {
            "tags": []
          },
          "execution_count": 10
        }
      ]
    },
    {
      "cell_type": "markdown",
      "metadata": {
        "id": "pmr22f53XjMN"
      },
      "source": [
        ""
      ]
    },
    {
      "cell_type": "markdown",
      "metadata": {
        "id": "GbD_lZZ0dOP1"
      },
      "source": [
        ""
      ]
    },
    {
      "cell_type": "code",
      "metadata": {
        "id": "P1B5ItWA3VW0",
        "colab": {
          "base_uri": "https://localhost:8080/"
        },
        "outputId": "d03bdd6a-a057-49d4-fd6a-f4cfe41f5e84"
      },
      "source": [
        "def tile(n): # 2*1 size n tiles\n",
        "  dp = [0]*(n+1)\n",
        "  dp[1] = 1\n",
        "  dp[2] = 2\n",
        "  for i in range(3,n+1):\n",
        "    dp[i] =  dp[i-1] + dp[i-2]\n",
        "  return dp\n",
        "tile(4)"
      ],
      "execution_count": null,
      "outputs": [
        {
          "output_type": "execute_result",
          "data": {
            "text/plain": [
              "[0, 1, 2, 3, 5]"
            ]
          },
          "metadata": {
            "tags": []
          },
          "execution_count": 1
        }
      ]
    },
    {
      "cell_type": "code",
      "metadata": {
        "id": "7KVeg0I0V4gB"
      },
      "source": [
        "def tile_size(n, m): #m*1 size tiles"
      ],
      "execution_count": null,
      "outputs": []
    },
    {
      "cell_type": "code",
      "metadata": {
        "colab": {
          "base_uri": "https://localhost:8080/"
        },
        "id": "kjdCfQsRYzIG",
        "outputId": "45a91f7e-4cd3-4fff-f4eb-cdc09fcca7a3"
      },
      "source": [
        "def friend_pair(n): #no permuations allowed\n",
        "  dp = [0] * (n+1)\n",
        "  dp[1] = 1\n",
        "  dp[2] = 2\n",
        "  for i in range(3,n+1):\n",
        "    dp[i] = dp[i-1] + (i-1)* dp[i-2]\n",
        "  return dp\n",
        "friend_pair(5)"
      ],
      "execution_count": null,
      "outputs": [
        {
          "output_type": "execute_result",
          "data": {
            "text/plain": [
              "[0, 1, 2, 4, 10, 26]"
            ]
          },
          "metadata": {
            "tags": []
          },
          "execution_count": 1
        }
      ]
    },
    {
      "cell_type": "code",
      "metadata": {
        "id": "LPzV_yHZZL23",
        "colab": {
          "base_uri": "https://localhost:8080/"
        },
        "outputId": "26850a96-f4e0-4451-bd35-77608992820d"
      },
      "source": [
        "def buynsell(arr): #One trans allowed\n",
        "  lsf = float('inf') #least so far\n",
        "  op = 0 #overall profit\n",
        "  pist = 0 #profit if sold today\n",
        "  for i in range(len(arr)):\n",
        "    if arr[i] < lsf:\n",
        "      lsf = arr[i]\n",
        "    pist =  arr[i] - lsf\n",
        "    if pist > op:\n",
        "      op = pist\n",
        "  return op\n",
        "\n",
        "arr = [1,2,3]\n",
        "buynsell(arr)"
      ],
      "execution_count": null,
      "outputs": [
        {
          "output_type": "execute_result",
          "data": {
            "text/plain": [
              "2"
            ]
          },
          "metadata": {
            "tags": []
          },
          "execution_count": 1
        }
      ]
    },
    {
      "cell_type": "code",
      "metadata": {
        "id": "UXIjTOpxmSpl",
        "colab": {
          "base_uri": "https://localhost:8080/"
        },
        "outputId": "5a21b6b9-e9cd-418a-ffb2-b0a375713371"
      },
      "source": [
        "def buynsell_inf(arr): #inf trans allowed bsbsbsbsbs not bbss and others\n",
        "  profit = 0 #overall profit\n",
        "  bd = 0 #buying date\n",
        "  sd = 0 #selling Date\n",
        "  for i in range(1,len(arr)):\n",
        "    if arr[i]>= arr[i-1]:\n",
        "      sd +=1\n",
        "    else:\n",
        "      profit += arr[sd]- arr[bd]\n",
        "      bd = sd = i\n",
        "  profit += arr[sd]- arr[bd]\n",
        "  return profit\n",
        "\n",
        "arr = [1,2,3,4,2,3,5,1,3]\n",
        "buynsell_inf(arr)"
      ],
      "execution_count": null,
      "outputs": [
        {
          "output_type": "execute_result",
          "data": {
            "text/plain": [
              "8"
            ]
          },
          "metadata": {
            "tags": []
          },
          "execution_count": 2
        }
      ]
    },
    {
      "cell_type": "code",
      "metadata": {
        "colab": {
          "base_uri": "https://localhost:8080/"
        },
        "id": "5eyBj-4DLDlj",
        "outputId": "b4daf165-86b1-49e2-d32f-ceac1c93b996"
      },
      "source": [
        "def buynsell_inf_fees(arr,fee): #inf trans allowed bsbsbsbsbs not bbss and others and fees at the time of sell\n",
        "  obsp = -arr[0] # old buy state profit eg : b1, b1s1b2 alwys in buy state.... so at day 1 it is in negative \n",
        "  ossp = 0 #old sell state profit eg : b1s1,b1s1b2s2.... alwys in complete state, so at day 1 no sell 0 profit\n",
        "  for i in range(1,len(arr)):\n",
        "    nbsp = 0\n",
        "    nspp = 0\n",
        "    if ossp - arr[i] > obsp: #new buy, If old sell profit - buy rate today is better\n",
        "      nbsp = ossp - arr[i]\n",
        "    else:\n",
        "      nbsp = obsp\n",
        "      \n",
        "    if obsp +arr[i] - fee > ossp: #new sell , If old buy rate + today sell rate - fee is better\n",
        "      nssp = obsp + arr[i] - fee\n",
        "    else:\n",
        "      nssp = ossp\n",
        "\n",
        "    obsp = nbsp\n",
        "    ossp = nssp\n",
        "  return ossp\n",
        "\n",
        "arr = [10,20,30]\n",
        "buynsell_inf_fees(arr,2)"
      ],
      "execution_count": null,
      "outputs": [
        {
          "output_type": "execute_result",
          "data": {
            "text/plain": [
              "18"
            ]
          },
          "metadata": {
            "tags": []
          },
          "execution_count": 6
        }
      ]
    },
    {
      "cell_type": "code",
      "metadata": {
        "colab": {
          "base_uri": "https://localhost:8080/"
        },
        "id": "gxC5QrT0anpl",
        "outputId": "3ea89de8-e763-4a20-a61f-a0b9f30ac4b0"
      },
      "source": [
        "def buynsell_inf_cooldown(arr): #inf trans allowed bscbscbscbscbs not bcbssc and others and 1 day cooldown after evry trans\n",
        "  obsp = -arr[0] # old buy state profit eg : b1, b1s1b2 alwys in buy state.... so at day 1 it is in negative \n",
        "  ossp = 0 #old sell state profit eg : b1s1,b1s1b2s2.... alwys in complete state, so at day 1 no sell 0 profit\n",
        "  ocsp = 0 # old cool down state profit eg bsc, after evry complete buy n sell 1 day cooldown is must\n",
        "  for i in range(1,len(arr)):\n",
        "    nbsp = 0\n",
        "    nssp = 0\n",
        "    ncsp = 0\n",
        "\n",
        "    if ocsp - arr[i] > obsp: #new buy, If old sell profit - buy rate today is better\n",
        "      nbsp = ocsp - arr[i]\n",
        "    else:\n",
        "      nbsp = obsp\n",
        "      \n",
        "    if obsp +arr[i] > ossp: #new sell , If old buy rate + today sell rate - fee is better\n",
        "      nssp = obsp + arr[i]\n",
        "    else:\n",
        "      nssp = ossp\n",
        "    \n",
        "    if ossp > ocsp: # new cooldown, if old ssp is better else old csp is better\n",
        "      ncsp = ossp\n",
        "    else:\n",
        "      ncsp = ocsp\n",
        "\n",
        "    obsp = nbsp\n",
        "    ossp = nssp\n",
        "    ocsp = ncsp\n",
        "  return ossp\n",
        "\n",
        "arr = [10,20,30]\n",
        "buynsell_inf_cooldown(arr)"
      ],
      "execution_count": null,
      "outputs": [
        {
          "output_type": "execute_result",
          "data": {
            "text/plain": [
              "20"
            ]
          },
          "metadata": {
            "tags": []
          },
          "execution_count": 3
        }
      ]
    },
    {
      "cell_type": "code",
      "metadata": {
        "colab": {
          "base_uri": "https://localhost:8080/"
        },
        "id": "2G0yNU21Hwo2",
        "outputId": "3f34ed67-769f-4000-ff39-0022cb48a210"
      },
      "source": [
        "#my approach\n",
        "def buynsell_two_trans(arr): #Only two trans allowed \n",
        "  dp = [0]*len(arr)\n",
        "  lb = arr[0] # least buy value\n",
        "  s= 0\n",
        "  for i in range(1,len(dp)):\n",
        "    if arr[i]<lb:\n",
        "      lb = arr[i]\n",
        "      dp[i] = 0\n",
        "    else:\n",
        "      dp[i] = arr[i] - lb\n",
        "  \n",
        "  first_max = float('-inf')\n",
        "  second_max = float('-inf')\n",
        "  first_ind = 0\n",
        "  for i in range(len(dp)):\n",
        "    if dp[i] > first_max:\n",
        "      first_max = dp[i]\n",
        "      first_ind = i\n",
        "  for i in range(len(dp)):\n",
        "    if dp[i] > second_max and first_ind != i:\n",
        "      second_max = dp[i]\n",
        "  return dp,(first_max + second_max)\n",
        "\n",
        "\n",
        "arr = [30,40,43,50,45,20,26,40,80,50,30,15,10,20,40,45,71,50,55]\n",
        "buynsell_two_trans(arr)"
      ],
      "execution_count": null,
      "outputs": [
        {
          "output_type": "execute_result",
          "data": {
            "text/plain": [
              "([0, 10, 13, 20, 15, 0, 6, 20, 60, 30, 10, 0, 0, 10, 30, 35, 61, 40, 45], 121)"
            ]
          },
          "metadata": {
            "tags": []
          },
          "execution_count": 34
        }
      ]
    },
    {
      "cell_type": "code",
      "metadata": {
        "colab": {
          "base_uri": "https://localhost:8080/"
        },
        "id": "YchYohvhbe--",
        "outputId": "ec531c12-b4d0-4c1f-a869-59ef365fa6a3"
      },
      "source": [
        "dp = buynsell_two_trans(arr)[0]\n",
        "first = float('-inf')\n",
        "first_ind = 0\n",
        "for i in range(len(dp)):\n",
        "  if dp[i] > first:\n",
        "    first = dp[i]\n",
        "    first_ind = i\n",
        "first, first_ind"
      ],
      "execution_count": null,
      "outputs": [
        {
          "output_type": "execute_result",
          "data": {
            "text/plain": [
              "(61, 16)"
            ]
          },
          "metadata": {
            "tags": []
          },
          "execution_count": 39
        }
      ]
    },
    {
      "cell_type": "code",
      "metadata": {
        "colab": {
          "base_uri": "https://localhost:8080/"
        },
        "id": "GkriQIr-lzP3",
        "outputId": "00a9925c-d856-4bdf-e7a8-b0fe5f5f2d22"
      },
      "source": [
        "dp"
      ],
      "execution_count": null,
      "outputs": [
        {
          "output_type": "execute_result",
          "data": {
            "text/plain": [
              "[0, 10, 13, 20, 15, 0, 6, 20, 60, 30, 10, 0, 0, 10, 30, 35, 61, 40, 45]"
            ]
          },
          "metadata": {
            "tags": []
          },
          "execution_count": 41
        }
      ]
    },
    {
      "cell_type": "code",
      "metadata": {
        "colab": {
          "base_uri": "https://localhost:8080/"
        },
        "id": "T6oZR2OHl5YJ",
        "outputId": "1fb793d9-7307-4237-ef6a-6bc0dda2403b"
      },
      "source": [
        "set(dp) #for unique value\n"
      ],
      "execution_count": null,
      "outputs": [
        {
          "output_type": "execute_result",
          "data": {
            "text/plain": [
              "{0, 6, 10, 13, 15, 20, 30, 35, 40, 45, 60, 61}"
            ]
          },
          "metadata": {
            "tags": []
          },
          "execution_count": 50
        }
      ]
    },
    {
      "cell_type": "code",
      "metadata": {
        "colab": {
          "base_uri": "https://localhost:8080/"
        },
        "id": "ia29CDh3bpCk",
        "outputId": "383cbf59-48e1-4af4-deac-32e7244b3cbf"
      },
      "source": [
        "second = float('-inf')\n",
        "seond_ind = 0\n",
        "for i in range(len(dp)):\n",
        "  if dp[i] > second and first_ind != i:\n",
        "    second = dp[i]\n",
        "    second_ind = i\n",
        "second, second_ind"
      ],
      "execution_count": null,
      "outputs": [
        {
          "output_type": "execute_result",
          "data": {
            "text/plain": [
              "(60, 8)"
            ]
          },
          "metadata": {
            "tags": []
          },
          "execution_count": 36
        }
      ]
    },
    {
      "cell_type": "code",
      "metadata": {
        "colab": {
          "base_uri": "https://localhost:8080/"
        },
        "id": "_Tpa0arlcXEM",
        "outputId": "63732cf9-1c99-4395-cae4-e0b340dc6afe"
      },
      "source": [
        "def buynselltwo(arr):\n",
        "  dp = [0]*len(arr)\n",
        "  dp[0] = 0 #b1s1 0 profit\n",
        "  lb = arr[0]\n",
        "  for i in range(1,len(arr)):\n",
        "    # print(lb,arr[i])\n",
        "    if arr[i]< lb:\n",
        "      lb = arr[i]\n",
        "      dp[i] = dp[i-1]\n",
        "    else:\n",
        "      if dp[i-1]> arr[i]-lb:\n",
        "        dp[i] = dp[i-1]\n",
        "      else:\n",
        "        dp[i] = arr[i]-lb\n",
        "  # print(dp) #complete dp\n",
        "  dp = list(set(dp)) #for unique value\n",
        "  # print(dp) # unique buy sell dp\n",
        "  return (dp, dp[-1]+ dp[-2])\n",
        "arr = [30,40,43,50,45,20,26,40,80,50,30,15,10,20,40,45,71,50,55]\n",
        "buynselltwo(arr)  \n"
      ],
      "execution_count": null,
      "outputs": [
        {
          "output_type": "execute_result",
          "data": {
            "text/plain": [
              "([0, 10, 13, 20, 60, 61], 121)"
            ]
          },
          "metadata": {
            "tags": []
          },
          "execution_count": 52
        }
      ]
    },
    {
      "cell_type": "code",
      "metadata": {
        "id": "uYv-6a_edGKg"
      },
      "source": [
        ""
      ],
      "execution_count": null,
      "outputs": []
    },
    {
      "cell_type": "code",
      "metadata": {
        "id": "tQv8aweDdJRt"
      },
      "source": [
        ""
      ],
      "execution_count": null,
      "outputs": []
    }
  ]
}