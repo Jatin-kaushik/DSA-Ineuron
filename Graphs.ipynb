{
  "nbformat": 4,
  "nbformat_minor": 0,
  "metadata": {
    "colab": {
      "name": "Graphs.ipynb",
      "provenance": [],
      "authorship_tag": "ABX9TyO5GBHz1gsUQ99adI2ev7UE",
      "include_colab_link": true
    },
    "kernelspec": {
      "name": "python3",
      "display_name": "Python 3"
    },
    "language_info": {
      "name": "python"
    }
  },
  "cells": [
    {
      "cell_type": "markdown",
      "metadata": {
        "id": "view-in-github",
        "colab_type": "text"
      },
      "source": [
        "<a href=\"https://colab.research.google.com/github/Jatin-kaushik/DSA-Practice-Learning/blob/main/Graphs.ipynb\" target=\"_parent\"><img src=\"https://colab.research.google.com/assets/colab-badge.svg\" alt=\"Open In Colab\"/></a>"
      ]
    },
    {
      "cell_type": "code",
      "metadata": {
        "id": "qwUdbp2AmIaB"
      },
      "source": [
        "class Edges:\n",
        "  def __init__(self, current_node, connected_node, weight):\n",
        "    self.current_node = current_node\n",
        "    self.connected_node = connected_node\n",
        "    self.weight = weight\n",
        "\n",
        "class Graph:\n",
        "  def __init__(self, members):\n",
        "    self.graph = {key: [] for key in members}\n",
        "  \n",
        "  def add_node(self,current_node, connected_node, weight = None):\n",
        "    edge =  Edges(current_node, connected_node, weight)\n",
        "    self.graph[edge.current_node].append(edge)\n",
        "\n",
        "  def __str__(self):\n",
        "    return str(self.graph)\n",
        "  \n",
        "  def dfs(self):\n",
        "    \n",
        "\n",
        "g1 = Graph([0,1,2,3,4,5])\n"
      ],
      "execution_count": null,
      "outputs": []
    },
    {
      "cell_type": "code",
      "metadata": {
        "id": "ik4HeZoKJN88"
      },
      "source": [
        "\n",
        "for v1,v2,w in val:\n",
        "  g1.add_node(v1,v2,w)"
      ],
      "execution_count": null,
      "outputs": []
    },
    {
      "cell_type": "code",
      "metadata": {
        "colab": {
          "base_uri": "https://localhost:8080/"
        },
        "id": "7eN8UZIW_cTN",
        "outputId": "28191e6c-4d3f-466b-b877-f2d738d5ab43"
      },
      "source": [
        "for k in g1.graph:\n",
        "  edges = g1.graph[k]\n",
        "  for i in edges:\n",
        "    print( i.current_node, i.connected_node, i.weight)"
      ],
      "execution_count": null,
      "outputs": [
        {
          "output_type": "stream",
          "text": [
            "0 1 10\n",
            "0 3 10\n",
            "1 2 10\n",
            "2 3 10\n",
            "3 4 10\n",
            "4 5 10\n",
            "4 6 10\n",
            "5 6 10\n"
          ],
          "name": "stdout"
        }
      ]
    },
    {
      "cell_type": "code",
      "metadata": {
        "colab": {
          "base_uri": "https://localhost:8080/"
        },
        "id": "SIgh6RxzCiBO",
        "outputId": "5f34216f-91b4-433e-8c61-6f6395ba58d8"
      },
      "source": [
        "print(g1)"
      ],
      "execution_count": null,
      "outputs": [
        {
          "output_type": "stream",
          "text": [
            "{0: [<__main__.Edges object at 0x7f6298cdca90>, <__main__.Edges object at 0x7f6298cdced0>], 1: [<__main__.Edges object at 0x7f6298cdc990>], 2: [<__main__.Edges object at 0x7f6298cdc9d0>], 3: [<__main__.Edges object at 0x7f6298cdcbd0>], 4: [<__main__.Edges object at 0x7f6298cdc890>, <__main__.Edges object at 0x7f6298cdc950>], 5: [<__main__.Edges object at 0x7f6298cdc550>]}\n"
          ],
          "name": "stdout"
        }
      ]
    },
    {
      "cell_type": "code",
      "metadata": {
        "id": "sjf8pDOkC6iF"
      },
      "source": [
        "graph = {0 : [[1,10], [3,10]],     \n",
        "          1 : [[2,10]],\n",
        "          2 : [[3,10]],\n",
        "          3 : [[4,10]],\n",
        "          4 : [[5,10], [6,10]],\n",
        "          5 : [[6, 10]]}"
      ],
      "execution_count": null,
      "outputs": []
    },
    {
      "cell_type": "code",
      "metadata": {
        "colab": {
          "base_uri": "https://localhost:8080/"
        },
        "id": "QGeKEP-wOP85",
        "outputId": "f1f24f33-09bb-46d3-ac30-37f163cce4f2"
      },
      "source": [
        "graph"
      ],
      "execution_count": null,
      "outputs": [
        {
          "output_type": "execute_result",
          "data": {
            "text/plain": [
              "{0: [[1, 10], [3, 10]],\n",
              " 1: [[2, 10]],\n",
              " 2: [[3, 10]],\n",
              " 3: [[4, 10]],\n",
              " 4: [[5, 10], [6, 10]],\n",
              " 5: [[6, 10]]}"
            ]
          },
          "metadata": {
            "tags": []
          },
          "execution_count": 42
        }
      ]
    },
    {
      "cell_type": "code",
      "metadata": {
        "colab": {
          "base_uri": "https://localhost:8080/",
          "height": 340
        },
        "id": "i9WIWQ6VOQ63",
        "outputId": "5abd43e7-a6f0-41b2-9e42-2fd9fb3ec209"
      },
      "source": [
        "def dfs(graph, s, d):\n",
        "  if s == d:\n",
        "    return True\n",
        "  n_edges = graph[s]\n",
        "\n",
        "  for i in range(len(n_edges)):\n",
        "      dfs(graph,n_edges[i][0], d)\n",
        "\n",
        "\n",
        "dfs(graph, 0,1)"
      ],
      "execution_count": null,
      "outputs": [
        {
          "output_type": "error",
          "ename": "KeyError",
          "evalue": "ignored",
          "traceback": [
            "\u001b[0;31m---------------------------------------------------------------------------\u001b[0m",
            "\u001b[0;31mKeyError\u001b[0m                                  Traceback (most recent call last)",
            "\u001b[0;32m<ipython-input-46-dc58fa1508b3>\u001b[0m in \u001b[0;36m<module>\u001b[0;34m()\u001b[0m\n\u001b[1;32m      7\u001b[0m \u001b[0;34m\u001b[0m\u001b[0m\n\u001b[1;32m      8\u001b[0m \u001b[0;34m\u001b[0m\u001b[0m\n\u001b[0;32m----> 9\u001b[0;31m \u001b[0mdfs\u001b[0m\u001b[0;34m(\u001b[0m\u001b[0mgraph\u001b[0m\u001b[0;34m,\u001b[0m \u001b[0;36m0\u001b[0m\u001b[0;34m,\u001b[0m\u001b[0;36m1\u001b[0m\u001b[0;34m)\u001b[0m\u001b[0;34m\u001b[0m\u001b[0;34m\u001b[0m\u001b[0m\n\u001b[0m",
            "\u001b[0;32m<ipython-input-46-dc58fa1508b3>\u001b[0m in \u001b[0;36mdfs\u001b[0;34m(graph, s, d)\u001b[0m\n\u001b[1;32m      4\u001b[0m   \u001b[0mn_edges\u001b[0m \u001b[0;34m=\u001b[0m \u001b[0mgraph\u001b[0m\u001b[0;34m[\u001b[0m\u001b[0ms\u001b[0m\u001b[0;34m]\u001b[0m\u001b[0;34m\u001b[0m\u001b[0;34m\u001b[0m\u001b[0m\n\u001b[1;32m      5\u001b[0m   \u001b[0;32mfor\u001b[0m \u001b[0mi\u001b[0m \u001b[0;32min\u001b[0m \u001b[0mrange\u001b[0m\u001b[0;34m(\u001b[0m\u001b[0mlen\u001b[0m\u001b[0;34m(\u001b[0m\u001b[0mn_edges\u001b[0m\u001b[0;34m)\u001b[0m\u001b[0;34m)\u001b[0m\u001b[0;34m:\u001b[0m\u001b[0;34m\u001b[0m\u001b[0;34m\u001b[0m\u001b[0m\n\u001b[0;32m----> 6\u001b[0;31m       \u001b[0mdfs\u001b[0m\u001b[0;34m(\u001b[0m\u001b[0mgraph\u001b[0m\u001b[0;34m,\u001b[0m\u001b[0mn_edges\u001b[0m\u001b[0;34m[\u001b[0m\u001b[0mi\u001b[0m\u001b[0;34m]\u001b[0m\u001b[0;34m[\u001b[0m\u001b[0;36m0\u001b[0m\u001b[0;34m]\u001b[0m\u001b[0;34m,\u001b[0m \u001b[0md\u001b[0m\u001b[0;34m)\u001b[0m\u001b[0;34m\u001b[0m\u001b[0;34m\u001b[0m\u001b[0m\n\u001b[0m\u001b[1;32m      7\u001b[0m \u001b[0;34m\u001b[0m\u001b[0m\n\u001b[1;32m      8\u001b[0m \u001b[0;34m\u001b[0m\u001b[0m\n",
            "\u001b[0;32m<ipython-input-46-dc58fa1508b3>\u001b[0m in \u001b[0;36mdfs\u001b[0;34m(graph, s, d)\u001b[0m\n\u001b[1;32m      4\u001b[0m   \u001b[0mn_edges\u001b[0m \u001b[0;34m=\u001b[0m \u001b[0mgraph\u001b[0m\u001b[0;34m[\u001b[0m\u001b[0ms\u001b[0m\u001b[0;34m]\u001b[0m\u001b[0;34m\u001b[0m\u001b[0;34m\u001b[0m\u001b[0m\n\u001b[1;32m      5\u001b[0m   \u001b[0;32mfor\u001b[0m \u001b[0mi\u001b[0m \u001b[0;32min\u001b[0m \u001b[0mrange\u001b[0m\u001b[0;34m(\u001b[0m\u001b[0mlen\u001b[0m\u001b[0;34m(\u001b[0m\u001b[0mn_edges\u001b[0m\u001b[0;34m)\u001b[0m\u001b[0;34m)\u001b[0m\u001b[0;34m:\u001b[0m\u001b[0;34m\u001b[0m\u001b[0;34m\u001b[0m\u001b[0m\n\u001b[0;32m----> 6\u001b[0;31m       \u001b[0mdfs\u001b[0m\u001b[0;34m(\u001b[0m\u001b[0mgraph\u001b[0m\u001b[0;34m,\u001b[0m\u001b[0mn_edges\u001b[0m\u001b[0;34m[\u001b[0m\u001b[0mi\u001b[0m\u001b[0;34m]\u001b[0m\u001b[0;34m[\u001b[0m\u001b[0;36m0\u001b[0m\u001b[0;34m]\u001b[0m\u001b[0;34m,\u001b[0m \u001b[0md\u001b[0m\u001b[0;34m)\u001b[0m\u001b[0;34m\u001b[0m\u001b[0;34m\u001b[0m\u001b[0m\n\u001b[0m\u001b[1;32m      7\u001b[0m \u001b[0;34m\u001b[0m\u001b[0m\n\u001b[1;32m      8\u001b[0m \u001b[0;34m\u001b[0m\u001b[0m\n",
            "\u001b[0;32m<ipython-input-46-dc58fa1508b3>\u001b[0m in \u001b[0;36mdfs\u001b[0;34m(graph, s, d)\u001b[0m\n\u001b[1;32m      4\u001b[0m   \u001b[0mn_edges\u001b[0m \u001b[0;34m=\u001b[0m \u001b[0mgraph\u001b[0m\u001b[0;34m[\u001b[0m\u001b[0ms\u001b[0m\u001b[0;34m]\u001b[0m\u001b[0;34m\u001b[0m\u001b[0;34m\u001b[0m\u001b[0m\n\u001b[1;32m      5\u001b[0m   \u001b[0;32mfor\u001b[0m \u001b[0mi\u001b[0m \u001b[0;32min\u001b[0m \u001b[0mrange\u001b[0m\u001b[0;34m(\u001b[0m\u001b[0mlen\u001b[0m\u001b[0;34m(\u001b[0m\u001b[0mn_edges\u001b[0m\u001b[0;34m)\u001b[0m\u001b[0;34m)\u001b[0m\u001b[0;34m:\u001b[0m\u001b[0;34m\u001b[0m\u001b[0;34m\u001b[0m\u001b[0m\n\u001b[0;32m----> 6\u001b[0;31m       \u001b[0mdfs\u001b[0m\u001b[0;34m(\u001b[0m\u001b[0mgraph\u001b[0m\u001b[0;34m,\u001b[0m\u001b[0mn_edges\u001b[0m\u001b[0;34m[\u001b[0m\u001b[0mi\u001b[0m\u001b[0;34m]\u001b[0m\u001b[0;34m[\u001b[0m\u001b[0;36m0\u001b[0m\u001b[0;34m]\u001b[0m\u001b[0;34m,\u001b[0m \u001b[0md\u001b[0m\u001b[0;34m)\u001b[0m\u001b[0;34m\u001b[0m\u001b[0;34m\u001b[0m\u001b[0m\n\u001b[0m\u001b[1;32m      7\u001b[0m \u001b[0;34m\u001b[0m\u001b[0m\n\u001b[1;32m      8\u001b[0m \u001b[0;34m\u001b[0m\u001b[0m\n",
            "\u001b[0;32m<ipython-input-46-dc58fa1508b3>\u001b[0m in \u001b[0;36mdfs\u001b[0;34m(graph, s, d)\u001b[0m\n\u001b[1;32m      4\u001b[0m   \u001b[0mn_edges\u001b[0m \u001b[0;34m=\u001b[0m \u001b[0mgraph\u001b[0m\u001b[0;34m[\u001b[0m\u001b[0ms\u001b[0m\u001b[0;34m]\u001b[0m\u001b[0;34m\u001b[0m\u001b[0;34m\u001b[0m\u001b[0m\n\u001b[1;32m      5\u001b[0m   \u001b[0;32mfor\u001b[0m \u001b[0mi\u001b[0m \u001b[0;32min\u001b[0m \u001b[0mrange\u001b[0m\u001b[0;34m(\u001b[0m\u001b[0mlen\u001b[0m\u001b[0;34m(\u001b[0m\u001b[0mn_edges\u001b[0m\u001b[0;34m)\u001b[0m\u001b[0;34m)\u001b[0m\u001b[0;34m:\u001b[0m\u001b[0;34m\u001b[0m\u001b[0;34m\u001b[0m\u001b[0m\n\u001b[0;32m----> 6\u001b[0;31m       \u001b[0mdfs\u001b[0m\u001b[0;34m(\u001b[0m\u001b[0mgraph\u001b[0m\u001b[0;34m,\u001b[0m\u001b[0mn_edges\u001b[0m\u001b[0;34m[\u001b[0m\u001b[0mi\u001b[0m\u001b[0;34m]\u001b[0m\u001b[0;34m[\u001b[0m\u001b[0;36m0\u001b[0m\u001b[0;34m]\u001b[0m\u001b[0;34m,\u001b[0m \u001b[0md\u001b[0m\u001b[0;34m)\u001b[0m\u001b[0;34m\u001b[0m\u001b[0;34m\u001b[0m\u001b[0m\n\u001b[0m\u001b[1;32m      7\u001b[0m \u001b[0;34m\u001b[0m\u001b[0m\n\u001b[1;32m      8\u001b[0m \u001b[0;34m\u001b[0m\u001b[0m\n",
            "\u001b[0;32m<ipython-input-46-dc58fa1508b3>\u001b[0m in \u001b[0;36mdfs\u001b[0;34m(graph, s, d)\u001b[0m\n\u001b[1;32m      2\u001b[0m   \u001b[0;32mif\u001b[0m \u001b[0ms\u001b[0m \u001b[0;34m==\u001b[0m \u001b[0md\u001b[0m\u001b[0;34m:\u001b[0m\u001b[0;34m\u001b[0m\u001b[0;34m\u001b[0m\u001b[0m\n\u001b[1;32m      3\u001b[0m     \u001b[0;32mreturn\u001b[0m \u001b[0;32mTrue\u001b[0m\u001b[0;34m\u001b[0m\u001b[0;34m\u001b[0m\u001b[0m\n\u001b[0;32m----> 4\u001b[0;31m   \u001b[0mn_edges\u001b[0m \u001b[0;34m=\u001b[0m \u001b[0mgraph\u001b[0m\u001b[0;34m[\u001b[0m\u001b[0ms\u001b[0m\u001b[0;34m]\u001b[0m\u001b[0;34m\u001b[0m\u001b[0;34m\u001b[0m\u001b[0m\n\u001b[0m\u001b[1;32m      5\u001b[0m   \u001b[0;32mfor\u001b[0m \u001b[0mi\u001b[0m \u001b[0;32min\u001b[0m \u001b[0mrange\u001b[0m\u001b[0;34m(\u001b[0m\u001b[0mlen\u001b[0m\u001b[0;34m(\u001b[0m\u001b[0mn_edges\u001b[0m\u001b[0;34m)\u001b[0m\u001b[0;34m)\u001b[0m\u001b[0;34m:\u001b[0m\u001b[0;34m\u001b[0m\u001b[0;34m\u001b[0m\u001b[0m\n\u001b[1;32m      6\u001b[0m       \u001b[0mdfs\u001b[0m\u001b[0;34m(\u001b[0m\u001b[0mgraph\u001b[0m\u001b[0;34m,\u001b[0m\u001b[0mn_edges\u001b[0m\u001b[0;34m[\u001b[0m\u001b[0mi\u001b[0m\u001b[0;34m]\u001b[0m\u001b[0;34m[\u001b[0m\u001b[0;36m0\u001b[0m\u001b[0;34m]\u001b[0m\u001b[0;34m,\u001b[0m \u001b[0md\u001b[0m\u001b[0;34m)\u001b[0m\u001b[0;34m\u001b[0m\u001b[0;34m\u001b[0m\u001b[0m\n",
            "\u001b[0;31mKeyError\u001b[0m: 6"
          ]
        }
      ]
    },
    {
      "cell_type": "code",
      "metadata": {
        "id": "Rhsz34K6PjEN"
      },
      "source": [
        ""
      ],
      "execution_count": null,
      "outputs": []
    },
    {
      "cell_type": "code",
      "metadata": {
        "id": "axcDJLUIRRL7"
      },
      "source": [
        ""
      ],
      "execution_count": null,
      "outputs": []
    },
    {
      "cell_type": "code",
      "metadata": {
        "colab": {
          "base_uri": "https://localhost:8080/"
        },
        "id": "v7GyoL60RRJI",
        "outputId": "f5cec71a-250f-4dc3-8198-bb119692cacb"
      },
      "source": [
        "m = 8\n",
        "\n",
        "graph = {key : [] for key in range((m))}\n",
        "graph"
      ],
      "execution_count": null,
      "outputs": [
        {
          "output_type": "execute_result",
          "data": {
            "text/plain": [
              "{0: [], 1: [], 2: [], 3: [], 4: [], 5: [], 6: [], 7: []}"
            ]
          },
          "metadata": {
            "tags": []
          },
          "execution_count": 8
        }
      ]
    },
    {
      "cell_type": "code",
      "metadata": {
        "colab": {
          "base_uri": "https://localhost:8080/"
        },
        "id": "zb-LfNDDfn6j",
        "outputId": "4ef94c68-f74f-4bc4-aca9-9b81dd5450af"
      },
      "source": [
        "val = \"0 1 10,1 2 10,2 3 10,0 3 10,3 4 10,4 5 10,5 6 10,4 6 10\"\n",
        "val = [list(map(int,i.split(\" \"))) for i in val.split(\",\")]\n",
        "val"
      ],
      "execution_count": null,
      "outputs": [
        {
          "output_type": "execute_result",
          "data": {
            "text/plain": [
              "[[0, 1, 10],\n",
              " [1, 2, 10],\n",
              " [2, 3, 10],\n",
              " [0, 3, 10],\n",
              " [3, 4, 10],\n",
              " [4, 5, 10],\n",
              " [5, 6, 10],\n",
              " [4, 6, 10]]"
            ]
          },
          "metadata": {
            "tags": []
          },
          "execution_count": 6
        }
      ]
    },
    {
      "cell_type": "code",
      "metadata": {
        "id": "yxYBGaYxRRGZ"
      },
      "source": [
        "# m \n",
        "# val\n",
        "# src\n",
        "# dest\n",
        "val = \"0 1 10,1 2 10,2 3 10,0 3 10,3 4 10,4 5 10,5 6 10,4 6 10\"\n",
        "val = [list(map(int,i.split(\" \"))) for i in val.split(\",\")]\n",
        "for i in val:\n",
        "  # print(i)\n",
        "  graph[i[0]].append(i[1:])\n",
        "  graph[i[1]].append([i[0], i[2]])\n"
      ],
      "execution_count": null,
      "outputs": []
    },
    {
      "cell_type": "code",
      "metadata": {
        "colab": {
          "base_uri": "https://localhost:8080/"
        },
        "id": "F9-8lk3ySFga",
        "outputId": "c4bd800d-6904-4625-f277-fa3e19a40786"
      },
      "source": [
        "graph"
      ],
      "execution_count": null,
      "outputs": [
        {
          "output_type": "execute_result",
          "data": {
            "text/plain": [
              "{0: [[1, 10], [3, 10]],\n",
              " 1: [[0, 10], [2, 10]],\n",
              " 2: [[1, 10], [3, 10]],\n",
              " 3: [[2, 10], [0, 10], [4, 10]],\n",
              " 4: [[3, 10], [5, 10], [6, 10]],\n",
              " 5: [[4, 10], [6, 10]],\n",
              " 6: [[5, 10], [4, 10]],\n",
              " 7: []}"
            ]
          },
          "metadata": {
            "tags": []
          },
          "execution_count": 10
        }
      ]
    },
    {
      "cell_type": "code",
      "metadata": {
        "colab": {
          "base_uri": "https://localhost:8080/"
        },
        "id": "-J9N-jLFilGG",
        "outputId": "119e4dd1-eecb-4a14-d71c-ec8d18dd1388"
      },
      "source": [
        "graph[0]"
      ],
      "execution_count": null,
      "outputs": [
        {
          "output_type": "execute_result",
          "data": {
            "text/plain": [
              "[[1, 10], [3, 10]]"
            ]
          },
          "metadata": {
            "tags": []
          },
          "execution_count": 14
        }
      ]
    },
    {
      "cell_type": "code",
      "metadata": {
        "colab": {
          "base_uri": "https://localhost:8080/"
        },
        "id": "oArP4BuqSqqX",
        "outputId": "6140d2ad-9923-4285-ddcd-f30ec60d69d2"
      },
      "source": [
        "def dfs(graph, s ,d, visited):\n",
        "  if s == d:\n",
        "    return True\n",
        "  n_edge =  graph[s]\n",
        "  if s not in visited:\n",
        "    visited.add(s)\n",
        "    for i in n_edge:\n",
        "      res = dfs(graph, i[0], d, visited)\n",
        "      if res == True:\n",
        "        return res\n",
        "    return False\n",
        "visited = set()\n",
        "dfs(graph,0, 7, visited)"
      ],
      "execution_count": null,
      "outputs": [
        {
          "output_type": "execute_result",
          "data": {
            "text/plain": [
              "False"
            ]
          },
          "metadata": {
            "tags": []
          },
          "execution_count": 15
        }
      ]
    },
    {
      "cell_type": "code",
      "metadata": {
        "colab": {
          "base_uri": "https://localhost:8080/"
        },
        "id": "r9_lN3p9TJO5",
        "outputId": "e73b986e-6a64-4d72-8516-9564577b77eb"
      },
      "source": [
        "res= []\n",
        "def dfs_psf(graph, s, d, visited, psf):\n",
        "  if s== d:\n",
        "    res.append(psf)\n",
        "    return\n",
        "  n_edge = graph[s]\n",
        "  if s not in visited:\n",
        "    visited.add(s)\n",
        "    for i in n_edge:\n",
        "      dfs_psf(graph,i[0], d, visited, psf + str(i[0]))\n",
        "    visited.remove(s)\n",
        "\n",
        "visited = set()\n",
        "dfs_psf(graph, 0, 6, visited, psf  = str(0))\n",
        "res"
      ],
      "execution_count": null,
      "outputs": [
        {
          "output_type": "execute_result",
          "data": {
            "text/plain": [
              "['0123456', '012346', '03456', '0346']"
            ]
          },
          "metadata": {
            "tags": []
          },
          "execution_count": 17
        }
      ]
    },
    {
      "cell_type": "code",
      "metadata": {
        "id": "j6E5fHN0f-9t",
        "colab": {
          "base_uri": "https://localhost:8080/"
        },
        "outputId": "809f0af3-a9c7-46ba-a77d-558f0cf21373"
      },
      "source": [
        "from heapq import heappush, heappop\n",
        "def multisolver(graph, s, d, k, visited, heap, cf_comp, psf, wsf):\n",
        "  global min_cost, max_cost, floor_cost, ceil_cost\n",
        "  if s == d:\n",
        "    print(psf,wsf)\n",
        "    if wsf <min_cost:\n",
        "      min_cost = wsf\n",
        "      res_dict['min_cost'] = (psf,wsf)\n",
        "    if wsf > max_cost:\n",
        "      max_cost = wsf\n",
        "      res_dict['max_cost'] = (psf,wsf)\n",
        "    if wsf > cf_comp and wsf < floor_cost:\n",
        "      floor_cost  = wsf\n",
        "      res_dict['floor_cost'] = (psf,wsf)\n",
        "    if wsf < cf_comp and wsf > ceil_cost:\n",
        "      ceil_cost  = wsf\n",
        "      res_dict['ceil_cost'] = (psf,wsf)\n",
        "    if len(heap)>=k:\n",
        "      if heap[0][0] < wsf:\n",
        "        heappop(heap)\n",
        "        heappush(heap,(wsf,psf))\n",
        "    else:\n",
        "      heappush(heap,(wsf, psf))\n",
        "    res_dict['kth_largest'] = heap[0]\n",
        "    return\n",
        "\n",
        "\n",
        "  neighbours = graph[s]\n",
        "  if s not in visited:\n",
        "    visited.add(s)\n",
        "    for i in neighbours:\n",
        "      multisolver(graph,i[0], d, k, visited, heap, cf_comp, psf + str(i[0]), wsf + i[1])\n",
        "    visited.remove(s)\n",
        "\n",
        "min_cost = float('inf')\n",
        "max_cost =  float('-inf')\n",
        "ceil_cost = float('-inf')\n",
        "floor_cost = float('inf')\n",
        "# kth_larg = \n",
        "heap = []\n",
        "res_dict = {}\n",
        "visited =  set()\n",
        "s = 0\n",
        "d= 6\n",
        "k = 3\n",
        "psf = str(s)\n",
        "wsf = 0\n",
        "cf_comp = 42\n",
        "multisolver(graph, s, d, k, visited, heap, cf_comp, psf, f)ws"
      ],
      "execution_count": null,
      "outputs": [
        {
          "output_type": "stream",
          "text": [
            "0123456 60\n",
            "012346 50\n",
            "03456 40\n",
            "0346 30\n"
          ],
          "name": "stdout"
        }
      ]
    },
    {
      "cell_type": "code",
      "metadata": {
        "colab": {
          "base_uri": "https://localhost:8080/"
        },
        "id": "fdFBVNNaM8cI",
        "outputId": "25566986-f623-480b-bb65-67f30089fb6d"
      },
      "source": [
        "res_dict"
      ],
      "execution_count": null,
      "outputs": [
        {
          "output_type": "execute_result",
          "data": {
            "text/plain": [
              "{'ceil_cost': ('03456', 40),\n",
              " 'floor_cost': ('012346', 50),\n",
              " 'kth_largest': (40, '03456'),\n",
              " 'max_cost': ('0123456', 60),\n",
              " 'min_cost': ('0346', 30)}"
            ]
          },
          "metadata": {
            "tags": []
          },
          "execution_count": 26
        }
      ]
    },
    {
      "cell_type": "code",
      "metadata": {
        "colab": {
          "base_uri": "https://localhost:8080/"
        },
        "id": "QMAhmo-2O1mI",
        "outputId": "9ac4cc93-bd23-46f5-8bf7-5937d4355701"
      },
      "source": [
        "#Get Connected Components Of A Graph\n",
        "m = 7\n",
        "graph = {key : [] for key in range((m))}\n",
        "graph"
      ],
      "execution_count": null,
      "outputs": [
        {
          "output_type": "execute_result",
          "data": {
            "text/plain": [
              "{0: [], 1: [], 2: [], 3: [], 4: [], 5: [], 6: []}"
            ]
          },
          "metadata": {
            "tags": []
          },
          "execution_count": 1
        }
      ]
    },
    {
      "cell_type": "code",
      "metadata": {
        "id": "Ech1da2TSHQX"
      },
      "source": [
        "# m \n",
        "# val\n",
        "# src\n",
        "# dest\n",
        "val = \"0 1 10,2 3 10,4 5 10,5 6 10,4 6 10\"\n",
        "val = [list(map(int,i.split(\" \"))) for i in val.split(\",\")]\n",
        "for i in val:\n",
        "  # print(i)\n",
        "  graph[i[0]].append(i[1:])\n",
        "  graph[i[1]].append([i[0], i[2]])\n"
      ],
      "execution_count": null,
      "outputs": []
    },
    {
      "cell_type": "code",
      "metadata": {
        "colab": {
          "base_uri": "https://localhost:8080/"
        },
        "id": "01SzASTQcckN",
        "outputId": "bc5b52b2-5aa4-49a7-b8aa-023b1965bb3c"
      },
      "source": [
        "graph"
      ],
      "execution_count": null,
      "outputs": [
        {
          "output_type": "execute_result",
          "data": {
            "text/plain": [
              "{0: [[1, 10]],\n",
              " 1: [[0, 10]],\n",
              " 2: [[3, 10]],\n",
              " 3: [[2, 10]],\n",
              " 4: [[5, 10], [6, 10]],\n",
              " 5: [[4, 10], [6, 10]],\n",
              " 6: [[5, 10], [4, 10]]}"
            ]
          },
          "metadata": {
            "tags": []
          },
          "execution_count": 3
        }
      ]
    },
    {
      "cell_type": "code",
      "metadata": {
        "colab": {
          "base_uri": "https://localhost:8080/"
        },
        "id": "SKk2FXEvcdxt",
        "outputId": "e1f2eca1-6e50-464f-c999-2a8306114749"
      },
      "source": [
        "def allconnected(graph, src, visited, path): Q\n",
        "  neighbour =  graph[src]\n",
        "  visited.add(src)\n",
        "  path.append(src)\n",
        "  for i in neighbour:\n",
        "    if i[0] not in visited:\n",
        "      allconnected(graph, i[0], visited, path)\n",
        "\n",
        "\n",
        "\n",
        "visited = set()\n",
        "res_list = []\n",
        "for i in graph.keys():\n",
        "  if i not in visited:\n",
        "    path = []\n",
        "    allconnected(graph, i, visited, path)\n",
        "    res_list.append(path)\n",
        "\n",
        "res_list"
      ],
      "execution_count": null,
      "outputs": [
        {
          "output_type": "execute_result",
          "data": {
            "text/plain": [
              "[[0, 1], [2, 3], [4, 5, 6]]"
            ]
          },
          "metadata": {
            "tags": []
          },
          "execution_count": 11
        }
      ]
    },
    {
      "cell_type": "code",
      "metadata": {
        "colab": {
          "base_uri": "https://localhost:8080/"
        },
        "id": "YK7p2XlldH8q",
        "outputId": "58867767-df19-4523-8f21-8de4eeaecbda"
      },
      "source": [
        "graph.keys"
      ],
      "execution_count": null,
      "outputs": [
        {
          "output_type": "execute_result",
          "data": {
            "text/plain": [
              "<function dict.keys>"
            ]
          },
          "metadata": {
            "tags": []
          },
          "execution_count": 4
        }
      ]
    },
    {
      "cell_type": "code",
      "metadata": {
        "id": "mADiP8f2dJoN"
      },
      "source": [
        "# Is Graph Connected\n",
        "graph1 = {0: [[1, 10], [3, 10]],\n",
        " 1: [[0, 10], [2, 10]],\n",
        " 2: [[1, 10], [3, 10]],\n",
        " 3: [[2, 10], [0, 10], [4, 10]],\n",
        " 4: [[3, 10], [5, 10], [6, 10]],\n",
        " 5: [[4, 10], [6, 10]],\n",
        " 6: [[5, 10], [4, 10]]}"
      ],
      "execution_count": null,
      "outputs": []
    },
    {
      "cell_type": "code",
      "metadata": {
        "colab": {
          "base_uri": "https://localhost:8080/"
        },
        "id": "DLT9cKLHgpD2",
        "outputId": "e9be54d2-fa1f-47e4-9804-299b5aa45cd5"
      },
      "source": [
        "def isconnected(graph, src, visited, path): #is graph connected means only 1 comp in res list\n",
        "  neighbour =  graph[src]\n",
        "  visited.add(src)\n",
        "  path.append(src)\n",
        "  for i in neighbour:\n",
        "    if i[0] not in visited:\n",
        "      isconnected(graph, i[0], visited, path)\n",
        "\n",
        "\n",
        "graph = graph1\n",
        "# print(graph)\n",
        "visited = set()\n",
        "res_list = []\n",
        "for i in graph.keys():\n",
        "  if i not in visited:\n",
        "    path = []\n",
        "    isconnected(graph, i, visited, path)\n",
        "    res_list.append(path)\n",
        "\n",
        "if len(res_list) == 1:\n",
        "  print(True)\n",
        "else:\n",
        "  print(False)"
      ],
      "execution_count": null,
      "outputs": [
        {
          "output_type": "stream",
          "text": [
            "True\n"
          ],
          "name": "stdout"
        }
      ]
    },
    {
      "cell_type": "code",
      "metadata": {
        "colab": {
          "base_uri": "https://localhost:8080/",
          "height": 248
        },
        "id": "NWShH2EKg_Sx",
        "outputId": "89eb726f-1713-41a1-c357-1781a57651c2"
      },
      "source": [
        "# Number Of Islands\n",
        "map = \"0 0 1 1 1 1 1 1, 0 0 1 1 1 1 1 1, 1 1 1 1 1 1 1 0, 1 1 0 0 0 1 1 0, 1 1 1 1 0 1 1 0, 1 1 1 1 0 1 1 0, 1 1 1 1 1 1 1 0, 1 1 1 1 1 1 1 0\"\n",
        "n = int(input())\n",
        "map = []\n",
        "for i in range(n):\n",
        "  res=  list(map(int, input().strip().split())) \n",
        "  map.append(res)"
      ],
      "execution_count": null,
      "outputs": [
        {
          "output_type": "stream",
          "text": [
            "1\n",
            "0 0 1 1 1 1 1 1\n"
          ],
          "name": "stdout"
        },
        {
          "output_type": "error",
          "ename": "TypeError",
          "evalue": "ignored",
          "traceback": [
            "\u001b[0;31m---------------------------------------------------------------------------\u001b[0m",
            "\u001b[0;31mTypeError\u001b[0m                                 Traceback (most recent call last)",
            "\u001b[0;32m<ipython-input-12-c564186c58c5>\u001b[0m in \u001b[0;36m<module>\u001b[0;34m()\u001b[0m\n\u001b[1;32m      4\u001b[0m \u001b[0mmap\u001b[0m \u001b[0;34m=\u001b[0m \u001b[0;34m[\u001b[0m\u001b[0;34m]\u001b[0m\u001b[0;34m\u001b[0m\u001b[0;34m\u001b[0m\u001b[0m\n\u001b[1;32m      5\u001b[0m \u001b[0;32mfor\u001b[0m \u001b[0mi\u001b[0m \u001b[0;32min\u001b[0m \u001b[0mrange\u001b[0m\u001b[0;34m(\u001b[0m\u001b[0mn\u001b[0m\u001b[0;34m)\u001b[0m\u001b[0;34m:\u001b[0m\u001b[0;34m\u001b[0m\u001b[0;34m\u001b[0m\u001b[0m\n\u001b[0;32m----> 6\u001b[0;31m   \u001b[0mres\u001b[0m\u001b[0;34m=\u001b[0m  \u001b[0mlist\u001b[0m\u001b[0;34m(\u001b[0m\u001b[0mmap\u001b[0m\u001b[0;34m(\u001b[0m\u001b[0mint\u001b[0m\u001b[0;34m,\u001b[0m \u001b[0minput\u001b[0m\u001b[0;34m(\u001b[0m\u001b[0;34m)\u001b[0m\u001b[0;34m.\u001b[0m\u001b[0mstrip\u001b[0m\u001b[0;34m(\u001b[0m\u001b[0;34m)\u001b[0m\u001b[0;34m.\u001b[0m\u001b[0msplit\u001b[0m\u001b[0;34m(\u001b[0m\u001b[0;34m)\u001b[0m\u001b[0;34m)\u001b[0m\u001b[0;34m)\u001b[0m\u001b[0;34m\u001b[0m\u001b[0;34m\u001b[0m\u001b[0m\n\u001b[0m\u001b[1;32m      7\u001b[0m   \u001b[0mmap\u001b[0m\u001b[0;34m.\u001b[0m\u001b[0mappend\u001b[0m\u001b[0;34m(\u001b[0m\u001b[0mres\u001b[0m\u001b[0;34m)\u001b[0m\u001b[0;34m\u001b[0m\u001b[0;34m\u001b[0m\u001b[0m\n",
            "\u001b[0;31mTypeError\u001b[0m: 'list' object is not callable"
          ]
        }
      ]
    },
    {
      "cell_type": "code",
      "metadata": {
        "colab": {
          "base_uri": "https://localhost:8080/"
        },
        "id": "YdVVFsezdCqk",
        "outputId": "fc826cd1-fd4b-4d7d-8b0a-02d93eca41bd"
      },
      "source": [
        "def island(map, i, j, visited):\n",
        "  if i < 0 or j < 0 or i>= len(map) or j >= len(map[i]) or map[i][j] == 1 or visited[i][j] == True:\n",
        "    return\n",
        "  visited[i][j] = True\n",
        "  island(map, i , j-1, visited) #towards left\n",
        "  island(map, i , j+1, visited) #towards right\n",
        "  island(map, i-1 , j, visited) #towards top\n",
        "  island(map, i+1 , j, visited) #towards bottom\n",
        "\n",
        "\n",
        "map = [[0,0,1,1,1,1,1,1],\n",
        "       [0,0,1,1,1,1,1,1],\n",
        "       [1,1,1,1,1,1,1,0],\n",
        "       [1,1,0,0,0,1,1,0],\n",
        "       [1,1,1,1,0,1,1,0],\n",
        "       [1,1,1,1,0,1,1,0],\n",
        "       [1,1,1,1,1,1,1,0],\n",
        "       [1,1,1,1,1,1,1,0]]\n",
        "visited = []\n",
        "for i in range(len(map)):\n",
        "  visited.append([False]*len(map[i]))\n",
        "# print(visited)\n",
        "count = 0\n",
        "for i in range(len(map)):\n",
        "  for j in range(len(map[i])):\n",
        "    if map[i][j] == 0 and visited[i][j] == False:\n",
        "      island(map, i, j, visited)\n",
        "      count +=1\n",
        "print(count)"
      ],
      "execution_count": null,
      "outputs": [
        {
          "output_type": "stream",
          "text": [
            "3\n"
          ],
          "name": "stdout"
        }
      ]
    },
    {
      "cell_type": "code",
      "metadata": {
        "id": "hzUlMZ5Re5dZ",
        "colab": {
          "base_uri": "https://localhost:8080/"
        },
        "outputId": "f6f15bca-0a3b-47fe-c49f-4f6f6630d9f1"
      },
      "source": [
        "#perfect Friends\n",
        "n = int(input())\n",
        "k = int(input())\n",
        "\n",
        "graph_friend = {0: [[0, 1]],\n",
        " 1: [[1, 0]],\n",
        " 2: [[2, 3]],\n",
        " 3: [[3, 2]],\n",
        " 4: [[4, 5], [4, 6]],\n",
        " 5: [[5, 4], [5, 6]],\n",
        " 6: [[6, 5], [6, 4]]}\n",
        "# graph_friend = {key : [] for key in range(n)}\n",
        "\n",
        "# for i in range(k):\n",
        "#   parts = list(map(int,input().split(\" \")))\n",
        "#   graph_friend[parts[0]].append([parts[0], parts[1]])\n",
        "#   graph_friend[parts[1]].append([parts[1], parts[0]])\n",
        "\n",
        "def friend_pair(graph_friend, visited, src, comp):\n",
        "  visited.add(src)\n",
        "  comp.append(src)\n",
        "  for i in graph_friend[src]:\n",
        "    if i[1] not in visited:\n",
        "      friend_pair(graph_friend, visited, i[1], comp)\n",
        "\n",
        "visited = set()\n",
        "\n",
        "comps = []\n",
        "for i in range(n):\n",
        "  if i not in visited:\n",
        "    comp = []\n",
        "    friend_pair(graph_friend, visited,i, comp)\n",
        "    comps.append(comp)\n",
        "# print(comps)\n",
        "counts = 0\n",
        "for i in range(len(comps)):\n",
        "  for j in range(i+1, len(comps)):\n",
        "    case =  len(comps[i]) * len(comps[j])\n",
        "    counts += case\n",
        "\n",
        "print(counts)"
      ],
      "execution_count": null,
      "outputs": [
        {
          "output_type": "stream",
          "text": [
            "7\n",
            "5\n",
            "16\n"
          ],
          "name": "stdout"
        }
      ]
    },
    {
      "cell_type": "code",
      "metadata": {
        "id": "m6yuMqaM0mMb",
        "colab": {
          "base_uri": "https://localhost:8080/"
        },
        "outputId": "9afcefe1-c3bf-43d2-9659-11b34da8a049"
      },
      "source": [
        "# hamiltoninan Path cycle\n",
        "\n",
        "def hamil(graph, src, o_src, visited, psf):\n",
        "  pass\n",
        "\n",
        "\n",
        "n = int(input()) #nodes\n",
        "k = int(input()) # connection\n",
        "\n",
        "hamil_graph = {key : [] for key in range(n)}\n",
        "for i in range(k):\n",
        "  parts = list(map(int, input().split()))\n",
        "  hamil_graph[parts[0]].append([parts[0],parts[1],parts[2]])\n",
        "  hamil_graph[parts[1]].append([parts[1],parts[0],parts[2]])\n",
        "hamil_graph"
      ],
      "execution_count": null,
      "outputs": [
        {
          "output_type": "stream",
          "text": [
            "7\n",
            "9\n",
            "0 1 10\n",
            "1 2 10\n",
            "2 3 10\n",
            "0 3 10\n",
            "3 4 10\n",
            "4 5 10\n",
            "5 6 10\n",
            "4 6 10\n",
            "2 5 10\n"
          ],
          "name": "stdout"
        },
        {
          "output_type": "execute_result",
          "data": {
            "text/plain": [
              "{0: [[0, 1, 10], [0, 3, 10]],\n",
              " 1: [[1, 0, 10], [1, 2, 10]],\n",
              " 2: [[2, 1, 10], [2, 3, 10], [2, 5, 10]],\n",
              " 3: [[3, 2, 10], [3, 0, 10], [3, 4, 10]],\n",
              " 4: [[4, 3, 10], [4, 5, 10], [4, 6, 10]],\n",
              " 5: [[5, 4, 10], [5, 6, 10], [5, 2, 10]],\n",
              " 6: [[6, 5, 10], [6, 4, 10]]}"
            ]
          },
          "metadata": {
            "tags": []
          },
          "execution_count": 2
        }
      ]
    },
    {
      "cell_type": "code",
      "metadata": {
        "colab": {
          "base_uri": "https://localhost:8080/"
        },
        "id": "GPCIBdeHnwcu",
        "outputId": "d033d211-8ea8-44eb-e710-657409d4683d"
      },
      "source": [
        "h_g = {0: [[0, 1, 10], [0, 3, 10]],\n",
        " 1: [[1, 0, 10], [1, 2, 10]],\n",
        " 2: [[2, 1, 10], [2, 3, 10], [2, 5, 10]],\n",
        " 3: [[3, 2, 10], [3, 0, 10], [3, 4, 10]],\n",
        " 4: [[4, 3, 10], [4, 5, 10], [4, 6, 10]],\n",
        " 5: [[5, 4, 10], [5, 6, 10], [5, 2, 10]],\n",
        " 6: [[6, 5, 10], [6, 4, 10]]}\n",
        "\n",
        "src = 0\n",
        "visited = set()\n",
        "def hamil(graph, src, o_src, visited, psf):\n",
        "  if len(visited) == len(graph)-1:\n",
        "    for i in graph[src]:\n",
        "      # print(\"i\", i)\n",
        "      if o_src in i:\n",
        "        psf =  psf + \"*\"\n",
        "        print(psf)\n",
        "        return\n",
        "    else:\n",
        "      psf = psf+ \".\"\n",
        "      print(psf)\n",
        "      return\n",
        "  n_edge = graph[src]\n",
        "  visited.add(src)\n",
        "  for i in n_edge:\n",
        "    if i[1] not in visited:\n",
        "      hamil(graph, i[1], o_src, visited, psf+ str(i[1]))\n",
        "  visited.remove(src)\n",
        "hamil(h_g, src, src, visited, str(src))"
      ],
      "execution_count": null,
      "outputs": [
        {
          "output_type": "stream",
          "text": [
            "0123456.\n",
            "0123465.\n",
            "0125643*\n",
            "0346521*\n"
          ],
          "name": "stdout"
        }
      ]
    },
    {
      "cell_type": "code",
      "metadata": {
        "id": "JR1XzQfj24ww"
      },
      "source": [
        "#knight tours official\n",
        "def knight(chess, r, c, m_s):\n",
        "  chess[r][c] = m_s\n",
        "  knight(chess, r-2, c+1, m_s + 1)\n",
        "  knight(chess, r-1, c+2, m_s + 1)\n",
        "  knight(chess, r+1, c+2, m_s + 1)\n",
        "  knight(chess, r+2, c+1, m_s + 1)\n",
        "  knight(chess, r+2, c-1, m_s + 1)\n",
        "  knight(chess, r+1, c-2, m_s + 1)\n",
        "  knight(chess, r-1, c-2, m_s + 1)\n",
        "  knight(chess, r-2, c-1, m_s + 1)\n",
        "\n",
        "\n",
        "n =  int(input())\n",
        "r =  int(input())\n",
        "c =  int(input())\n",
        "chess = []\n",
        "for i in range(n):\n",
        "  chess.append([None]*n)\n",
        "visited =[]\n",
        "for i in range(n):\n",
        "  visited.append([False]*n)\n",
        "\n",
        "knight(chess, r, c, 1)"
      ],
      "execution_count": null,
      "outputs": []
    },
    {
      "cell_type": "code",
      "metadata": {
        "colab": {
          "base_uri": "https://localhost:8080/"
        },
        "id": "duW7DmGrqNV_",
        "outputId": "19f77a82-cfc9-43c5-ed56-c9075234e6cb"
      },
      "source": [
        "# BFT\n",
        "def bfs(b_graph, src):\n",
        "  pass\n",
        "\n",
        "n = int(input())\n",
        "k = int(input())\n",
        "\n",
        "b_graph = {key:[] for key in range(n)}\n",
        "\n",
        "for i in range(k):\n",
        "  parts = list(map(int, input().split(\" \")))\n",
        "  b_graph[parts[0]].append([parts[0], parts[1], parts[2]])\n",
        "  b_graph[parts[1]].append([parts[1], parts[0], parts[2]])\n",
        "src = int(input())\n",
        "b_graph"
      ],
      "execution_count": null,
      "outputs": [
        {
          "output_type": "stream",
          "text": [
            "7\n",
            "8\n",
            "0 1 10\n",
            "1 2 10\n",
            "2 3 10\n",
            "0 3 10\n",
            "3 4 10\n",
            "4 5 10\n",
            "5 6 10\n",
            "4 6 10\n",
            "2\n"
          ],
          "name": "stdout"
        },
        {
          "output_type": "execute_result",
          "data": {
            "text/plain": [
              "{0: [[0, 1, 10], [0, 3, 10]],\n",
              " 1: [[1, 0, 10], [1, 2, 10]],\n",
              " 2: [[2, 1, 10], [2, 3, 10]],\n",
              " 3: [[3, 2, 10], [3, 0, 10], [3, 4, 10]],\n",
              " 4: [[4, 3, 10], [4, 5, 10], [4, 6, 10]],\n",
              " 5: [[5, 4, 10], [5, 6, 10]],\n",
              " 6: [[6, 5, 10], [6, 4, 10]]}"
            ]
          },
          "metadata": {
            "tags": []
          },
          "execution_count": 18
        }
      ]
    },
    {
      "cell_type": "code",
      "metadata": {
        "id": "XqY9GWr0BUru",
        "colab": {
          "base_uri": "https://localhost:8080/"
        },
        "outputId": "0e1ac0f0-0a1c-4d04-d497-1b03fbfce22e"
      },
      "source": [
        "#bfs traversal\n",
        "def bfs(graph, src, queue, psf, visited):\n",
        "  # remove mark* work add*\n",
        "  while queue:\n",
        "    ele = queue.pop()\n",
        "    if ele[0] in visited:\n",
        "      continue\n",
        "    visited.add(ele[0])\n",
        "    print(str(ele[0]) + \"@\" + ele[1])\n",
        "    for i in graph[ele[0]]:\n",
        "      if i[1] not in visited:\n",
        "        queue.insert(0,(i[1], ele[1] + str(i[1])))\n",
        "n = int(input())\n",
        "r = int(input())\n",
        "graph = {key: [] for key in range(n)}\n",
        "for i in range(r):\n",
        "  parts = list(map(int, input().split(\" \")))\n",
        "  graph[parts[0]].append([parts[0], parts[1], parts[2]])\n",
        "  graph[parts[1]].append([parts[1], parts[0], parts[2]])\n",
        "src = int(input())\n",
        "psf = str(src)\n",
        "queue = []\n",
        "queue.insert(0,(src,psf))\n",
        "visited =  set()\n",
        "bfs(graph, src, queue, psf, visited)"
      ],
      "execution_count": null,
      "outputs": [
        {
          "output_type": "stream",
          "text": [
            "2@2\n",
            "1@21\n",
            "3@23\n",
            "0@210\n",
            "4@234\n",
            "5@2345\n",
            "6@2346\n"
          ],
          "name": "stdout"
        }
      ]
    },
    {
      "cell_type": "code",
      "metadata": {
        "id": "F0AmIjNWEBRg"
      },
      "source": [
        "#is cyclic\n",
        "\n",
        "def bfs_cyclic(graph, src, queue, visited):\n",
        "  while queue:\n",
        "    ele = queue.pop()\n",
        "    if ele in visited:\n",
        "      return True\n",
        "    visited.add(ele)\n",
        "    for i in graph[ele]:\n",
        "      if i[1] in visited:\n",
        "        return True\n",
        "      queue.insert(0,i[1])\n",
        "  return False\n",
        "\n",
        "def cycle_check():\n",
        "  n= int(input())\n",
        "  k = int(input())\n",
        "  graph  = {key:[] for key in range(n)}\n",
        "  for i in range(k):\n",
        "    parts = list(map(int, input().split(\" \")))\n",
        "    graph[parts[0]].append(parts)\n",
        "  queue = []\n",
        "  visited = set()\n",
        "  for i in range(n):\n",
        "    if i not in visited:\n",
        "      queue.insert(0,i)\n",
        "      cycle = bfs_cyclic(graph, i, queue, visited)\n",
        "      if cycle:\n",
        "        print('true')\n",
        "        return\n",
        "  print('false')\n",
        "  return\n",
        "cycle_check()"
      ],
      "execution_count": null,
      "outputs": []
    },
    {
      "cell_type": "code",
      "metadata": {
        "id": "ARjLDUv4E3iW"
      },
      "source": [
        "#is bipartite\n",
        "\n",
        "def bfs_bipart(graph, src, queue, visited, set1, set2):\n",
        "  while queue:\n",
        "    ele =  queue.pop()\n",
        "    if ele[0] in visited:\n",
        "      continue\n",
        "    visited.add(ele[0])\n",
        "    if ele[1]%2 == 0:\n",
        "      set1.add(ele[0])\n",
        "n = int(input())\n",
        "k = int(input())\n",
        "graph = {key: [] for key in range(n)}\n",
        "for i in range(k):\n",
        "  parts = list(map(int, input().split()))\n",
        "  graph[parts[0]].append(parts)\n",
        "\n",
        "\n",
        "\n",
        "def check_bipart():#calls\n",
        "  queue = []\n",
        "  for i in range(k):\n",
        "    level = 0\n",
        "    if i not in visited:\n",
        "      queue.insert(0,(i,level)\n",
        "      set1,set2 = bfs_bipart(graph, src, queue, visited, set1, set2)\n",
        "      if set1.intersection(set2):\n",
        "        print('false')\n",
        "        return\n",
        "  print('true')\n",
        "  return\n",
        "check_bipart()"
      ],
      "execution_count": null,
      "outputs": []
    },
    {
      "cell_type": "code",
      "metadata": {
        "colab": {
          "base_uri": "https://localhost:8080/"
        },
        "id": "KvR_tmB6QLHR",
        "outputId": "1a7e0c78-142e-4770-b8a3-0d5537bb57bd"
      },
      "source": [
        "s1 = {'a','b','c'}\n",
        "s2 = {1,2,3,}\n",
        "if (s1.intersection(s2)):\n",
        "  print(1)\n",
        "else:\n",
        "  print(0)"
      ],
      "execution_count": null,
      "outputs": [
        {
          "output_type": "stream",
          "text": [
            "0\n"
          ],
          "name": "stdout"
        }
      ]
    },
    {
      "cell_type": "code",
      "metadata": {
        "colab": {
          "base_uri": "https://localhost:8080/"
        },
        "id": "T-VVcoGgTu6H",
        "outputId": "9cbc2d87-8a8f-4521-99cb-0c486f86ac22"
      },
      "source": [
        "3%2"
      ],
      "execution_count": null,
      "outputs": [
        {
          "output_type": "execute_result",
          "data": {
            "text/plain": [
              "1"
            ]
          },
          "metadata": {
            "tags": []
          },
          "execution_count": 32
        }
      ]
    },
    {
      "cell_type": "code",
      "metadata": {
        "colab": {
          "base_uri": "https://localhost:8080/"
        },
        "id": "KHDnynoZ7chn",
        "outputId": "76813ab5-769b-46bf-cfbe-9205c7d38de7"
      },
      "source": [
        "#iterative DFS\n",
        "def dfs_iter(graph, src, stack, psf, visited):\n",
        "  while stack:\n",
        "    ele = stack.pop()\n",
        "    # print(ele, ele[0])\n",
        "    if ele[0] not in visited:\n",
        "      visited.add(ele[0])\n",
        "      print(str(ele[0]) + '@' + ele[1])\n",
        "\n",
        "      for i in graph[ele[0]]:\n",
        "        # print(i, visited)\n",
        "        if i[1] not in visited:\n",
        "          stack.append((i[1], ele[1] + str(i[1])))\n",
        "n = int(input())\n",
        "r = int(input())\n",
        "graph = {key: [] for key in range(n)}\n",
        "for i in range(r):\n",
        "  parts = list(map(int, input().split(\" \")))\n",
        "  graph[parts[0]].append([parts[0], parts[1], parts[2]])\n",
        "  graph[parts[1]].append([parts[1], parts[0], parts[2]])\n",
        "src = int(input())\n",
        "psf = str(src)\n",
        "stack = []\n",
        "stack.append((src,psf))\n",
        "visited =  set()\n",
        "dfs_iter(graph, src, stack, psf, visited)\n"
      ],
      "execution_count": null,
      "outputs": [
        {
          "output_type": "stream",
          "text": [
            "2@2\n",
            "3@23\n",
            "4@234\n",
            "6@2346\n",
            "5@23465\n",
            "0@230\n",
            "1@2301\n"
          ],
          "name": "stdout"
        }
      ]
    },
    {
      "cell_type": "code",
      "metadata": {
        "colab": {
          "base_uri": "https://localhost:8080/"
        },
        "id": "ZeLVUsH9BW-G",
        "outputId": "d301fa74-e02a-4677-da5d-ad711b8a2287"
      },
      "source": [
        "graph"
      ],
      "execution_count": null,
      "outputs": [
        {
          "output_type": "execute_result",
          "data": {
            "text/plain": [
              "{0: [[0, 1, 10], [0, 3, 10]],\n",
              " 1: [[1, 0, 10], [1, 2, 10]],\n",
              " 2: [[2, 1, 10], [2, 3, 10]],\n",
              " 3: [[3, 2, 10], [3, 0, 10], [3, 4, 10]],\n",
              " 4: [[4, 3, 10], [4, 5, 10], [4, 6, 10]],\n",
              " 5: [[5, 4, 10], [5, 6, 10]],\n",
              " 6: [[6, 5, 10], [6, 4, 10]]}"
            ]
          },
          "metadata": {
            "tags": []
          },
          "execution_count": 13
        }
      ]
    },
    {
      "cell_type": "code",
      "metadata": {
        "colab": {
          "base_uri": "https://localhost:8080/",
          "height": 129
        },
        "id": "Na3nczFh-C0W",
        "outputId": "f1c18b65-8d30-477b-b4ee-e5acb65f7967"
      },
      "source": [
        "7\n",
        "8\n",
        "0 1 10\n",
        "1 2 10\n",
        "2 3 10\n",
        "0 3 10\n",
        "3 4 10\n",
        "4 5 10\n",
        "5 6 10\n",
        "4 6 10\n",
        "2\n",
        "Sample Output"
      ],
      "execution_count": null,
      "outputs": [
        {
          "output_type": "error",
          "ename": "SyntaxError",
          "evalue": "ignored",
          "traceback": [
            "\u001b[0;36m  File \u001b[0;32m\"<ipython-input-4-782953697d0f>\"\u001b[0;36m, line \u001b[0;32m3\u001b[0m\n\u001b[0;31m    0 1 10\u001b[0m\n\u001b[0m      ^\u001b[0m\n\u001b[0;31mSyntaxError\u001b[0m\u001b[0;31m:\u001b[0m invalid syntax\n"
          ]
        }
      ]
    },
    {
      "cell_type": "code",
      "metadata": {
        "id": "zTG-ETYQ_dGc"
      },
      "source": [
        ""
      ],
      "execution_count": null,
      "outputs": []
    }
  ]
}