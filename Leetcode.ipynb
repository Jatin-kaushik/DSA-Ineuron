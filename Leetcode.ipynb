{
  "nbformat": 4,
  "nbformat_minor": 0,
  "metadata": {
    "colab": {
      "name": "Leetcode.ipynb",
      "provenance": [],
      "authorship_tag": "ABX9TyNCyPTNu+C9pcL9WviFakgc",
      "include_colab_link": true
    },
    "kernelspec": {
      "name": "python3",
      "display_name": "Python 3"
    },
    "language_info": {
      "name": "python"
    }
  },
  "cells": [
    {
      "cell_type": "markdown",
      "metadata": {
        "id": "view-in-github",
        "colab_type": "text"
      },
      "source": [
        "<a href=\"https://colab.research.google.com/github/Jatin-kaushik/DSA-Practice-Learning/blob/main/Leetcode.ipynb\" target=\"_parent\"><img src=\"https://colab.research.google.com/assets/colab-badge.svg\" alt=\"Open In Colab\"/></a>"
      ]
    },
    {
      "cell_type": "code",
      "metadata": {
        "colab": {
          "base_uri": "https://localhost:8080/",
          "height": 350
        },
        "id": "scdUMVcafhPn",
        "outputId": "a57e9641-a8cd-4a61-d71d-a2828789a836"
      },
      "source": [
        "#20\n",
        "#valid Parenthesis\n",
        "def valid(s): #()\n",
        "  dict1 = {'(' : ')','{': '}','[': ']'}\n",
        "  stack = []\n",
        "  if len(s) == 1:\n",
        "    return False\n",
        "  else:\n",
        "    for i in s:\n",
        "      if i in dict1:\n",
        "        stack.append(i)\n",
        "      else:\n",
        "        if dict1[stack.pop()] != i:\n",
        "          return False\n",
        "    if len(stack) == 0:\n",
        "      return True\n",
        "    else:\n",
        "      return False\n",
        "valid('){')\n",
        "\n",
        "\n",
        "     "
      ],
      "execution_count": 16,
      "outputs": [
        {
          "output_type": "error",
          "ename": "IndexError",
          "evalue": "ignored",
          "traceback": [
            "\u001b[0;31m---------------------------------------------------------------------------\u001b[0m",
            "\u001b[0;31mIndexError\u001b[0m                                Traceback (most recent call last)",
            "\u001b[0;32m<ipython-input-16-f8e210480ecd>\u001b[0m in \u001b[0;36m<module>\u001b[0;34m()\u001b[0m\n\u001b[1;32m     17\u001b[0m     \u001b[0;32melse\u001b[0m\u001b[0;34m:\u001b[0m\u001b[0;34m\u001b[0m\u001b[0;34m\u001b[0m\u001b[0m\n\u001b[1;32m     18\u001b[0m       \u001b[0;32mreturn\u001b[0m \u001b[0;32mFalse\u001b[0m\u001b[0;34m\u001b[0m\u001b[0;34m\u001b[0m\u001b[0m\n\u001b[0;32m---> 19\u001b[0;31m \u001b[0mvalid\u001b[0m\u001b[0;34m(\u001b[0m\u001b[0;34m'){'\u001b[0m\u001b[0;34m)\u001b[0m\u001b[0;34m\u001b[0m\u001b[0;34m\u001b[0m\u001b[0m\n\u001b[0m\u001b[1;32m     20\u001b[0m \u001b[0;34m\u001b[0m\u001b[0m\n\u001b[1;32m     21\u001b[0m \u001b[0;34m\u001b[0m\u001b[0m\n",
            "\u001b[0;32m<ipython-input-16-f8e210480ecd>\u001b[0m in \u001b[0;36mvalid\u001b[0;34m(s)\u001b[0m\n\u001b[1;32m     11\u001b[0m         \u001b[0mstack\u001b[0m\u001b[0;34m.\u001b[0m\u001b[0mappend\u001b[0m\u001b[0;34m(\u001b[0m\u001b[0mi\u001b[0m\u001b[0;34m)\u001b[0m\u001b[0;34m\u001b[0m\u001b[0;34m\u001b[0m\u001b[0m\n\u001b[1;32m     12\u001b[0m       \u001b[0;32melse\u001b[0m\u001b[0;34m:\u001b[0m\u001b[0;34m\u001b[0m\u001b[0;34m\u001b[0m\u001b[0m\n\u001b[0;32m---> 13\u001b[0;31m         \u001b[0;32mif\u001b[0m \u001b[0mdict1\u001b[0m\u001b[0;34m[\u001b[0m\u001b[0mstack\u001b[0m\u001b[0;34m.\u001b[0m\u001b[0mpop\u001b[0m\u001b[0;34m(\u001b[0m\u001b[0;34m)\u001b[0m\u001b[0;34m]\u001b[0m \u001b[0;34m!=\u001b[0m \u001b[0mi\u001b[0m\u001b[0;34m:\u001b[0m\u001b[0;34m\u001b[0m\u001b[0;34m\u001b[0m\u001b[0m\n\u001b[0m\u001b[1;32m     14\u001b[0m           \u001b[0;32mreturn\u001b[0m \u001b[0;32mFalse\u001b[0m\u001b[0;34m\u001b[0m\u001b[0;34m\u001b[0m\u001b[0m\n\u001b[1;32m     15\u001b[0m     \u001b[0;32mif\u001b[0m \u001b[0mlen\u001b[0m\u001b[0;34m(\u001b[0m\u001b[0mstack\u001b[0m\u001b[0;34m)\u001b[0m \u001b[0;34m==\u001b[0m \u001b[0;36m0\u001b[0m\u001b[0;34m:\u001b[0m\u001b[0;34m\u001b[0m\u001b[0;34m\u001b[0m\u001b[0m\n",
            "\u001b[0;31mIndexError\u001b[0m: pop from empty list"
          ]
        }
      ]
    },
    {
      "cell_type": "code",
      "metadata": {
        "colab": {
          "base_uri": "https://localhost:8080/"
        },
        "id": "tNPSDGHtiRwF",
        "outputId": "7807380c-f162-4f9d-e2d5-36235ed7b223"
      },
      "source": [
        "#692\n",
        "#top k frequent words\n",
        "def topk(list1,k):\n",
        "  dict1 = {}\n",
        "  for i in list1:\n",
        "    if i in dict1:\n",
        "      dict1[i] = dict1[i] + 1\n",
        "    else:\n",
        "      dict1[i] = 1\n",
        "  # print(dict1)\n",
        "  a = sorted(dict1.items(), key=lambda x: x[1], reverse = True)[:k] \n",
        "  # print(a)   \n",
        "  res = []\n",
        "  i = 0\n",
        "  if len(a) >=2:\n",
        "    while i < len(a)-1:\n",
        "      if a[i][1] == a[i+1][1]:\n",
        "        words = [a[i][0], a[i+1][0]]\n",
        "        words = sorted(words)\n",
        "        res.append(words[0])\n",
        "        res.append(words[1])\n",
        "        i+=1\n",
        "      else:\n",
        "        # print(1)\n",
        "        res.append(a[i][0])\n",
        "      i+=1\n",
        "    return res\n",
        "  else:\n",
        "    print(1)\n",
        "    return a\n",
        "\n",
        "\n",
        "  # print(tuple(dict1))\n",
        "\n",
        "topk([\"i\", \"love\", \"leetcode\", \"i\", \"love\", \"coding\"],2)"
      ],
      "execution_count": 65,
      "outputs": [
        {
          "output_type": "execute_result",
          "data": {
            "text/plain": [
              "['i', 'love']"
            ]
          },
          "metadata": {
            "tags": []
          },
          "execution_count": 65
        }
      ]
    },
    {
      "cell_type": "code",
      "metadata": {
        "colab": {
          "base_uri": "https://localhost:8080/"
        },
        "id": "fkfydC-_lgEt",
        "outputId": "f5a88a5e-799c-4f3a-c6cc-c911c6f03640"
      },
      "source": [
        "topk([\"the\", \"day\", \"is\", \"sunny\", \"the\", \"the\", \"the\", \"sunny\", \"is\", \"is\"],4)"
      ],
      "execution_count": 66,
      "outputs": [
        {
          "output_type": "execute_result",
          "data": {
            "text/plain": [
              "['the', 'is', 'sunny']"
            ]
          },
          "metadata": {
            "tags": []
          },
          "execution_count": 66
        }
      ]
    },
    {
      "cell_type": "code",
      "metadata": {
        "id": "B6CQZ0uaowVE"
      },
      "source": [
        "# 34 First and last\n",
        "\n",
        "def arr[nums,target]:\n",
        "  i = 0\n",
        "  j = len(nums)\n",
        "  mid = i+j //2\n",
        "  idx = []\n",
        "\n",
        "      \n",
        "nums = [5,7,7,8,8,10]\n",
        "target = 8"
      ],
      "execution_count": null,
      "outputs": []
    }
  ]
}