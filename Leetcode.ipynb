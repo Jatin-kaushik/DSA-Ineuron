{
  "nbformat": 4,
  "nbformat_minor": 0,
  "metadata": {
    "colab": {
      "name": "Leetcode.ipynb",
      "provenance": [],
      "authorship_tag": "ABX9TyNJp4AGzXIWZAqnsCkxTcOK",
      "include_colab_link": true
    },
    "kernelspec": {
      "name": "python3",
      "display_name": "Python 3"
    },
    "language_info": {
      "name": "python"
    }
  },
  "cells": [
    {
      "cell_type": "markdown",
      "metadata": {
        "id": "view-in-github",
        "colab_type": "text"
      },
      "source": [
        "<a href=\"https://colab.research.google.com/github/Jatin-kaushik/DSA-Practice-Learning/blob/main/Leetcode.ipynb\" target=\"_parent\"><img src=\"https://colab.research.google.com/assets/colab-badge.svg\" alt=\"Open In Colab\"/></a>"
      ]
    },
    {
      "cell_type": "code",
      "metadata": {
        "colab": {
          "base_uri": "https://localhost:8080/"
        },
        "id": "scdUMVcafhPn",
        "outputId": "c7aeb77a-a839-4256-c9ee-ebbdd4830b6e"
      },
      "source": [
        "#20\n",
        "#valid Parenthesis\n",
        "def valid(s): #()\n",
        "  dict1 = {'(' : ')','{': '}','[': ']'}\n",
        "  stack = []\n",
        "\n",
        "  for i in s:\n",
        "    if i in dict1:\n",
        "      stack.append(i)\n",
        "    else:\n",
        "      if dict1[stack.pop()] != i:\n",
        "        return False\n",
        "  if len(stack) == 0:\n",
        "    return True\n",
        "  else:\n",
        "    return False\n",
        "valid('({')\n",
        "\n",
        "\n",
        "     "
      ],
      "execution_count": null,
      "outputs": [
        {
          "output_type": "execute_result",
          "data": {
            "text/plain": [
              "False"
            ]
          },
          "metadata": {
            "tags": []
          },
          "execution_count": 74
        }
      ]
    },
    {
      "cell_type": "code",
      "metadata": {
        "colab": {
          "base_uri": "https://localhost:8080/"
        },
        "id": "tNPSDGHtiRwF",
        "outputId": "260e668e-af74-4c47-9dfb-6025f2e5c670"
      },
      "source": [
        "#692\n",
        "#top k frequent words\n",
        "def topk(list1,k):\n",
        "  dict1 = {}\n",
        "  for i in list1:\n",
        "    if i in dict1:\n",
        "      dict1[i] = dict1[i] + 1\n",
        "    else:\n",
        "      dict1[i] = 1\n",
        "  # print(dict1)\n",
        "  a = sorted(dict1.items(), key=lambda x: x[1], reverse = True)[:k] \n",
        "  # print(a)   \n",
        "  res = []\n",
        "  i = 0\n",
        "  if len(a) >=2:\n",
        "    while i < len(a)-1:\n",
        "      if a[i][1] == a[i+1][1]:\n",
        "        words = [a[i][0], a[i+1][0]]\n",
        "        words = sorted(words)\n",
        "        res.append(words[0])\n",
        "        res.append(words[1])\n",
        "        i+=1\n",
        "      else:\n",
        "        # print(1)\n",
        "        res.append(a[i][\n",
        "                        0])\n",
        "      i+=1\n",
        "    return res\n",
        "  else:\n",
        "    print(1)\n",
        "    return a\n",
        "\n",
        "\n",
        "  # print(tuple(dict1))\n",
        "\n",
        "topk([\"i\", \"love\", \"leetcode\", \"i\", \"love\", \"coding\"],2)"
      ],
      "execution_count": null,
      "outputs": [
        {
          "output_type": "execute_result",
          "data": {
            "text/plain": [
              "['i', 'love']"
            ]
          },
          "metadata": {
            "tags": []
          },
          "execution_count": 75
        }
      ]
    },
    {
      "cell_type": "code",
      "metadata": {
        "id": "ep7ZxREz5OM8"
      },
      "source": [
        ""
      ],
      "execution_count": null,
      "outputs": []
    },
    {
      "cell_type": "code",
      "metadata": {
        "colab": {
          "base_uri": "https://localhost:8080/"
        },
        "id": "fkfydC-_lgEt",
        "outputId": "96c13b2a-e18f-4dfb-f07d-80c4d3bbb7e8"
      },
      "source": [
        "topk([\"the\", \"day\", \"is\", \"sunny\", \"the\", \"the\", \"the\", \"sunny\", \"is\", \"is\"],4)"
      ],
      "execution_count": null,
      "outputs": [
        {
          "output_type": "execute_result",
          "data": {
            "text/plain": [
              "['the', 'is', 'sunny']"
            ]
          },
          "metadata": {
            "tags": []
          },
          "execution_count": 76
        }
      ]
    },
    {
      "cell_type": "code",
      "metadata": {
        "colab": {
          "base_uri": "https://localhost:8080/",
          "height": 316
        },
        "id": "B6CQZ0uaowVE",
        "outputId": "41cf27ce-2400-45ff-9c8c-216465f09d84"
      },
      "source": [
        "# 34 First and last\n",
        "\n",
        "def arr(nums,target):\n",
        "  i = 0\n",
        "  j = len(nums) -1\n",
        "  \n",
        "  while i <= j:\n",
        "    mid =  i+j //2\n",
        "    if arr[mid] < =target:\n",
        "      i = mid+1\n",
        "    elif arr[mid] > target:\n",
        "      j = mid-1\n",
        "    else: \n",
        "      break\n",
        "\n",
        "  (mid)\n",
        "\n",
        "\n",
        "      \n",
        "nums = [5,7,7,8,8,10]\n",
        "target = 8\n",
        "arr(nums,target)"
      ],
      "execution_count": null,
      "outputs": [
        {
          "output_type": "error",
          "ename": "TypeError",
          "evalue": "ignored",
          "traceback": [
            "\u001b[0;31m---------------------------------------------------------------------------\u001b[0m",
            "\u001b[0;31mTypeError\u001b[0m                                 Traceback (most recent call last)",
            "\u001b[0;32m<ipython-input-71-068bfb953c70>\u001b[0m in \u001b[0;36m<module>\u001b[0;34m()\u001b[0m\n\u001b[1;32m     18\u001b[0m \u001b[0mnums\u001b[0m \u001b[0;34m=\u001b[0m \u001b[0;34m[\u001b[0m\u001b[0;36m5\u001b[0m\u001b[0;34m,\u001b[0m\u001b[0;36m7\u001b[0m\u001b[0;34m,\u001b[0m\u001b[0;36m7\u001b[0m\u001b[0;34m,\u001b[0m\u001b[0;36m8\u001b[0m\u001b[0;34m,\u001b[0m\u001b[0;36m8\u001b[0m\u001b[0;34m,\u001b[0m\u001b[0;36m10\u001b[0m\u001b[0;34m]\u001b[0m\u001b[0;34m\u001b[0m\u001b[0;34m\u001b[0m\u001b[0m\n\u001b[1;32m     19\u001b[0m \u001b[0mtarget\u001b[0m \u001b[0;34m=\u001b[0m \u001b[0;36m8\u001b[0m\u001b[0;34m\u001b[0m\u001b[0;34m\u001b[0m\u001b[0m\n\u001b[0;32m---> 20\u001b[0;31m \u001b[0marr\u001b[0m\u001b[0;34m(\u001b[0m\u001b[0mnums\u001b[0m\u001b[0;34m,\u001b[0m\u001b[0mtarget\u001b[0m\u001b[0;34m)\u001b[0m\u001b[0;34m\u001b[0m\u001b[0;34m\u001b[0m\u001b[0m\n\u001b[0m",
            "\u001b[0;32m<ipython-input-71-068bfb953c70>\u001b[0m in \u001b[0;36marr\u001b[0;34m(nums, target)\u001b[0m\n\u001b[1;32m      7\u001b[0m   \u001b[0;32mwhile\u001b[0m \u001b[0mi\u001b[0m \u001b[0;34m<=\u001b[0m \u001b[0mj\u001b[0m\u001b[0;34m:\u001b[0m\u001b[0;34m\u001b[0m\u001b[0;34m\u001b[0m\u001b[0m\n\u001b[1;32m      8\u001b[0m     \u001b[0mmid\u001b[0m \u001b[0;34m=\u001b[0m  \u001b[0mi\u001b[0m\u001b[0;34m+\u001b[0m\u001b[0mj\u001b[0m \u001b[0;34m//\u001b[0m\u001b[0;36m2\u001b[0m\u001b[0;34m\u001b[0m\u001b[0;34m\u001b[0m\u001b[0m\n\u001b[0;32m----> 9\u001b[0;31m     \u001b[0;32mif\u001b[0m \u001b[0marr\u001b[0m\u001b[0;34m[\u001b[0m\u001b[0mmid\u001b[0m\u001b[0;34m]\u001b[0m \u001b[0;34m<\u001b[0m \u001b[0mtarget\u001b[0m\u001b[0;34m:\u001b[0m\u001b[0;34m\u001b[0m\u001b[0;34m\u001b[0m\u001b[0m\n\u001b[0m\u001b[1;32m     10\u001b[0m       \u001b[0mi\u001b[0m \u001b[0;34m=\u001b[0m \u001b[0mmid\u001b[0m\u001b[0;34m+\u001b[0m\u001b[0;36m1\u001b[0m\u001b[0;34m\u001b[0m\u001b[0;34m\u001b[0m\u001b[0m\n\u001b[1;32m     11\u001b[0m     \u001b[0;32melif\u001b[0m \u001b[0marr\u001b[0m\u001b[0;34m[\u001b[0m\u001b[0mmid\u001b[0m\u001b[0;34m]\u001b[0m \u001b[0;34m>\u001b[0m \u001b[0mtarget\u001b[0m\u001b[0;34m:\u001b[0m\u001b[0;34m\u001b[0m\u001b[0;34m\u001b[0m\u001b[0m\n",
            "\u001b[0;31mTypeError\u001b[0m: 'function' object is not subscriptable"
          ]
        }
      ]
    },
    {
      "cell_type": "code",
      "metadata": {
        "id": "mzp1cBqGwW8U",
        "colab": {
          "base_uri": "https://localhost:8080/"
        },
        "outputId": "0a76f616-9372-471f-f51c-53a93ec45781"
      },
      "source": [
        "#bfs\n",
        "def bfs(tree, starting_node, queue, sets):\n",
        "  queue.insert(0,starting_node)\n",
        "  while len(queue) != 0:\n",
        "    ele = queue.pop()\n",
        "    print(ele, end = \"-->\")\n",
        "    if ele not in sets:\n",
        "      for i in tree[ele]:\n",
        "        queue.insert(0,i)\n",
        "        # print(queue)\n",
        "      sets.add(ele)\n",
        "  return\n",
        "\n",
        "\n",
        "tree = {\n",
        "    'a' : ['b', 'c'],\n",
        "    'b' : ['d', 'e'],\n",
        "    'c' : ['f', 'g'],\n",
        "    'd' : [],\n",
        "    'e' : [],\n",
        "    'f' : [],\n",
        "    'g' : []\n",
        "}\n",
        "sets  = set()\n",
        "queue = []\n",
        "starting_node = 'a'\n",
        "bfs(tree, starting_node, queue, sets)"
      ],
      "execution_count": null,
      "outputs": [
        {
          "output_type": "stream",
          "text": [
            "a-->b-->c-->d-->e-->f-->g-->"
          ],
          "name": "stdout"
        }
      ]
    },
    {
      "cell_type": "code",
      "metadata": {
        "id": "qc3f8hnxm_zy"
      },
      "source": [
        ""
      ],
      "execution_count": null,
      "outputs": []
    },
    {
      "cell_type": "code",
      "metadata": {
        "id": "UDGv8_h0wXb4",
        "colab": {
          "base_uri": "https://localhost:8080/"
        },
        "outputId": "a94199a3-4c93-44fc-c761-2d045d293e12"
      },
      "source": [
        "#dfs\n",
        "def dfs(tree, starting_node, stack,sets):\n",
        "  stack.append(starting_node)\n",
        "  while len(stack)!= 0 :\n",
        "    ele = stack.pop()\n",
        "    # print(stack)\n",
        "    print(ele, end = \"-->\")\n",
        "    if ele not in sets:\n",
        "      sets.add(ele)\n",
        "      for i in tree[ele]:\n",
        "        stack.append(i)\n",
        "\n",
        "\n",
        "tree = {\n",
        "    'a' : ['b', 'c'],\n",
        "    'b' : ['d', 'e'],\n",
        "    'c' : ['f', 'g'],\n",
        "    'd' : [],\n",
        "    'e' : [],\n",
        "    'f' : [],\n",
        "    'g' : []\n",
        "}\n",
        "sets  = set()\n",
        "stack = []\n",
        "starting_node = 'a'\n",
        "dfs(tree, starting_node, stack, sets)\n"
      ],
      "execution_count": null,
      "outputs": [
        {
          "output_type": "stream",
          "text": [
            "a-->c-->g-->f-->b-->e-->d-->"
          ],
          "name": "stdout"
        }
      ]
    },
    {
      "cell_type": "code",
      "metadata": {
        "colab": {
          "base_uri": "https://localhost:8080/"
        },
        "id": "L8OPnN_ZknBx",
        "outputId": "e961c2a3-4151-4d8d-db3d-158e57a40b2f"
      },
      "source": [
        "def dfs_rec(tree, stack, starting_node, sets, psf):\n",
        "  print(\"psf\", psf)\n",
        "  if len(stack) == 0:\n",
        "    # print(psf)\n",
        "    return psf\n",
        "  # print(stack)\n",
        "  ele = stack.pop()\n",
        "  if ele not in sets:\n",
        "    psf = psf + '-->' + ele\n",
        "    for i in tree[ele]:\n",
        "      stack.append(i)\n",
        "    dfs_rec(tree, stack, starting_node, sets, psf)\n",
        "\n",
        "\n",
        "tree = {\n",
        "    'a' : ['b', 'c'],\n",
        "    'b' : ['d', 'e'],\n",
        "    'c' : ['f', 'g'],\n",
        "    'd' : [],\n",
        "    'e' : [],\n",
        "    'f' : [],\n",
        "    'g' : []\n",
        "}\n",
        "sets  = set()\n",
        "starting_node = 'a'\n",
        "stack = list(starting_node)\n",
        "psf = ''\n",
        "dfs_rec(tree, stack, starting_node, sets, psf)"
      ],
      "execution_count": null,
      "outputs": [
        {
          "output_type": "stream",
          "text": [
            "psf \n",
            "psf -->a\n",
            "psf -->a-->c\n",
            "psf -->a-->c-->g\n",
            "psf -->a-->c-->g-->f\n",
            "psf -->a-->c-->g-->f-->b\n",
            "psf -->a-->c-->g-->f-->b-->e\n",
            "psf -->a-->c-->g-->f-->b-->e-->d\n"
          ],
          "name": "stdout"
        }
      ]
    },
    {
      "cell_type": "code",
      "metadata": {
        "colab": {
          "base_uri": "https://localhost:8080/",
          "height": 86
        },
        "id": "LkI9pw53pYc_",
        "outputId": "8691e05d-5d53-4941-ea12-ea55e1d7f09c"
      },
      "source": [
        "def dfs_rec(tree, node, sets, psf):\n",
        "  print(psf)\n",
        "  if set(tree.keys()) == sets:\n",
        "    return psf\n",
        "  if node not in sets:\n",
        "    psf = psf + \"-->\" + node\n",
        "    for i in tree[node]:\n",
        "      dfs_rec(tree,i, sets, psf)\n",
        "      return psf\n",
        "tree = {\n",
        "    'a' : ['b', 'c'],\n",
        "    'b' : ['d', 'e'],\n",
        "    'c' : ['f', 'g'],\n",
        "    'd' : [],\n",
        "    'e' : [],\n",
        "    'f' : [],\n",
        "    'g' : []\n",
        "}\n",
        "sets  = set()\n",
        "starting_node = 'a'\n",
        "psf = ''\n",
        "dfs_rec(tree, starting_node, sets, psf)"
      ],
      "execution_count": null,
      "outputs": [
        {
          "output_type": "stream",
          "text": [
            "\n",
            "-->a\n",
            "-->a-->b\n"
          ],
          "name": "stdout"
        },
        {
          "output_type": "execute_result",
          "data": {
            "application/vnd.google.colaboratory.intrinsic+json": {
              "type": "string"
            },
            "text/plain": [
              "'-->a'"
            ]
          },
          "metadata": {
            "tags": []
          },
          "execution_count": 1
        }
      ]
    },
    {
      "cell_type": "code",
      "metadata": {
        "id": "TNYR97thpkxG"
      },
      "source": [
        "#967\n",
        "\n",
        "res = []\n",
        "def leet(n,k, psf = ''):\n",
        "  if n ==1:\n",
        "    res.append(psf)\n",
        "    return\n",
        "  last = int(psf[-1])\n",
        "  if (last + k) < 10:\n",
        "    leet(n-1,k,psf + str(last+k))\n",
        "  if (last -k) >= 0:\n",
        "    leet(n-1,k,psf + str(last-k))\n",
        "for i in range(1,10):\n",
        "  leet(2,0, psf = str(i))\n",
        "  \n",
        "\n",
        "\n"
      ],
      "execution_count": null,
      "outputs": []
    },
    {
      "cell_type": "code",
      "metadata": {
        "colab": {
          "base_uri": "https://localhost:8080/"
        },
        "id": "TSVQFE50zoHl",
        "outputId": "93911bb3-922a-458d-c688-0c6756ff3e58"
      },
      "source": [
        "res"
      ],
      "execution_count": null,
      "outputs": [
        {
          "output_type": "execute_result",
          "data": {
            "text/plain": [
              "['11',\n",
              " '11',\n",
              " '22',\n",
              " '22',\n",
              " '33',\n",
              " '33',\n",
              " '44',\n",
              " '44',\n",
              " '55',\n",
              " '55',\n",
              " '66',\n",
              " '66',\n",
              " '77',\n",
              " '77',\n",
              " '88',\n",
              " '88',\n",
              " '99',\n",
              " '99']"
            ]
          },
          "metadata": {
            "tags": []
          },
          "execution_count": 9
        }
      ]
    },
    {
      "cell_type": "code",
      "metadata": {
        "id": "HCqGsiYWz0qQ"
      },
      "source": [
        "#967 class Solution: 36ms \n",
        "    def numsSameConsecDiff(self, n: int, k: int) -> List[int]:\n",
        "        res = []\n",
        "        def leet(n,k, psf = ''):\n",
        "          if n ==1:\n",
        "            res.append(psf)\n",
        "            return\n",
        "          last = int(psf[-1])\n",
        "          if k == 0:\n",
        "            if (last + k) < 10:\n",
        "                leet(n-1,k,psf + str(last+k))\n",
        "          else: \n",
        "            if (last + k) < 10:\n",
        "                leet(n-1,k,psf + str(last+k))\n",
        "            if (last -k) >= 0:\n",
        "                leet(n-1,k,psf + str(last-k))\n",
        "        for i in range(1,10):\n",
        "            leet(n,k, psf = str(i))\n",
        "        \n",
        "        return res\n",
        "\n",
        "class Solution: #32 ms\n",
        "    def numsSameConsecDiff(self, n: int, k: int) -> List[int]:\n",
        "        res = []\n",
        "        def leet(n,k, psf = ''):\n",
        "          if n ==1:\n",
        "            res.append(psf)\n",
        "            return\n",
        "          last = int(psf[-1])\n",
        "          if (last + k) < 10:\n",
        "            leet(n-1,k,psf + str(last+k))\n",
        "          if (last -k) >= 0:\n",
        "            leet(n-1,k,psf + str(last-k))\n",
        "        for i in range(1,10):\n",
        "            leet(n,k, psf = str(i))\n",
        "        \n",
        "        return list(set(res))\n",
        "\n"
      ],
      "execution_count": null,
      "outputs": []
    },
    {
      "cell_type": "code",
      "metadata": {
        "colab": {
          "base_uri": "https://localhost:8080/"
        },
        "id": "xH0LcfQs3W-f",
        "outputId": "61ec2747-bd8f-45d1-dc7b-106f0886911f"
      },
      "source": [
        "res1 = []\n",
        "def leet967(n,k,psf):\n",
        "  if n == 1:\n",
        "    res1.append(psf)\n",
        "    return\n",
        "  last = psf % 10\n",
        "  if (last + k) < 10:\n",
        "    # print(psf,last,k)\n",
        "    leet967(n-1,k,(psf * 10) + (last +k))\n",
        "\n",
        "  if (last - k) >= 0:\n",
        "    leet967(n-1,k,(psf * 10) + (last - k))\n",
        "\n",
        "for i in range(1,10):\n",
        "  leet967(3,7, psf = i)\n",
        "print(res1)"
      ],
      "execution_count": null,
      "outputs": [
        {
          "output_type": "stream",
          "text": [
            "1 1 7\n",
            "2 2 7\n",
            "70 0 7\n",
            "81 1 7\n",
            "92 2 7\n",
            "[181, 292, 707, 818, 929]\n"
          ],
          "name": "stdout"
        }
      ]
    },
    {
      "cell_type": "code",
      "metadata": {
        "colab": {
          "base_uri": "https://localhost:8080/"
        },
        "id": "5NWf2opc549h",
        "outputId": "3fe0d415-1cd0-4803-c843-af14df1d788d"
      },
      "source": [
        "275%10"
      ],
      "execution_count": null,
      "outputs": [
        {
          "output_type": "execute_result",
          "data": {
            "text/plain": [
              "5"
            ]
          },
          "metadata": {
            "tags": []
          },
          "execution_count": 24
        }
      ]
    },
    {
      "cell_type": "code",
      "metadata": {
        "id": "uj-glAwe7-yB"
      },
      "source": [
        ""
      ],
      "execution_count": null,
      "outputs": []
    }
  ]
}