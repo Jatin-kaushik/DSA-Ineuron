{
  "nbformat": 4,
  "nbformat_minor": 0,
  "metadata": {
    "colab": {
      "name": "Sorting DSA Time and Space.ipynb",
      "provenance": [],
      "authorship_tag": "ABX9TyOQ33a8VKbymurtC9n9vsV3",
      "include_colab_link": true
    },
    "kernelspec": {
      "name": "python3",
      "display_name": "Python 3"
    },
    "language_info": {
      "name": "python"
    }
  },
  "cells": [
    {
      "cell_type": "markdown",
      "metadata": {
        "id": "view-in-github",
        "colab_type": "text"
      },
      "source": [
        "<a href=\"https://colab.research.google.com/github/Jatin-kaushik/DSA-Practice-Learning/blob/main/Sorting_DSA_Time_and_Space.ipynb\" target=\"_parent\"><img src=\"https://colab.research.google.com/assets/colab-badge.svg\" alt=\"Open In Colab\"/></a>"
      ]
    },
    {
      "cell_type": "code",
      "metadata": {
        "colab": {
          "base_uri": "https://localhost:8080/"
        },
        "id": "Vr0rGVzqJszK",
        "outputId": "a2a87c09-0368-4d78-dddb-faa0865d0b2f"
      },
      "source": [
        "# Bubble Sort\n",
        "arr = [5,9,8,1,2]\n",
        "def is_small(arr, i,j):\n",
        "  print(\"Comparing\" + str(arr[i])+ \"and\" + str(arr[j]))\n",
        "  if arr[i] < arr[j]:\n",
        "    return True\n",
        "  else:\n",
        "    return False\n",
        "def swap(arr,i,j):\n",
        "  print(\"Swapping\" + str(arr[i])+ \"and\" + str(arr[j]))\n",
        "  temp = arr[i]\n",
        "  arr[i] = arr[j]\n",
        "  arr[j] = temp\n",
        "\n",
        "def Bubble_Sort(arr):\n",
        "  for i in range(1,len(arr)):\n",
        "    for j in range(len(arr)-i):\n",
        "      if is_small(arr,j+1,j):\n",
        "        swap(arr,j+1,j)\n",
        "  return arr\n",
        "Bubble_Sort(arr)"
      ],
      "execution_count": 8,
      "outputs": [
        {
          "output_type": "stream",
          "text": [
            "Comparing9and5\n",
            "Comparing8and9\n",
            "Swapping8and9\n",
            "Comparing1and9\n",
            "Swapping1and9\n",
            "Comparing2and9\n",
            "Swapping2and9\n",
            "Comparing8and5\n",
            "Comparing1and8\n",
            "Swapping1and8\n",
            "Comparing2and8\n",
            "Swapping2and8\n",
            "Comparing1and5\n",
            "Swapping1and5\n",
            "Comparing2and5\n",
            "Swapping2and5\n",
            "Comparing2and1\n"
          ],
          "name": "stdout"
        },
        {
          "output_type": "execute_result",
          "data": {
            "text/plain": [
              "[1, 2, 5, 8, 9]"
            ]
          },
          "metadata": {
            "tags": []
          },
          "execution_count": 8
        }
      ]
    },
    {
      "cell_type": "code",
      "metadata": {
        "id": "ku1ESOuSJthV"
      },
      "source": [
        ""
      ],
      "execution_count": null,
      "outputs": []
    }
  ]
}