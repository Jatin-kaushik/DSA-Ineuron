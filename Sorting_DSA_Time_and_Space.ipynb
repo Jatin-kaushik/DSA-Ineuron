{
  "nbformat": 4,
  "nbformat_minor": 0,
  "metadata": {
    "colab": {
      "name": "Sorting DSA Time and Space.ipynb",
      "provenance": [],
      "authorship_tag": "ABX9TyNzfDjZ1bnrki5aVf+Fdz+K",
      "include_colab_link": true
    },
    "kernelspec": {
      "name": "python3",
      "display_name": "Python 3"
    },
    "language_info": {
      "name": "python"
    }
  },
  "cells": [
    {
      "cell_type": "markdown",
      "metadata": {
        "id": "view-in-github",
        "colab_type": "text"
      },
      "source": [
        "<a href=\"https://colab.research.google.com/github/Jatin-kaushik/DSA-Practice-Learning/blob/main/Sorting_DSA_Time_and_Space.ipynb\" target=\"_parent\"><img src=\"https://colab.research.google.com/assets/colab-badge.svg\" alt=\"Open In Colab\"/></a>"
      ]
    },
    {
      "cell_type": "code",
      "metadata": {
        "colab": {
          "base_uri": "https://localhost:8080/"
        },
        "id": "Vr0rGVzqJszK",
        "outputId": "a2a87c09-0368-4d78-dddb-faa0865d0b2f"
      },
      "source": [
        "# Bubble Sort\n",
        "arr = [5,9,8,1,2]\n",
        "def is_small(arr, i,j):\n",
        "  print(\"Comparing\" + str(arr[i])+ \"and\" + str(arr[j]))\n",
        "  if arr[i] < arr[j]:\n",
        "    return True\n",
        "  else:\n",
        "    return False\n",
        "def swap(arr,i,j):\n",
        "  print(\"Swapping\" + str(arr[i])+ \"and\" + str(arr[j]))\n",
        "  temp = arr[i]\n",
        "  arr[i] = arr[j]\n",
        "  arr[j] = temp\n",
        "\n",
        "def Bubble_Sort(arr):\n",
        "  for i in range(1,len(arr)):\n",
        "    for j in range(len(arr)-i):\n",
        "      if is_small(arr,j+1,j):\n",
        "        swap(arr,j+1,j)\n",
        "  return arr\n",
        "Bubble_Sort(arr)"
      ],
      "execution_count": null,
      "outputs": [
        {
          "output_type": "stream",
          "text": [
            "Comparing9and5\n",
            "Comparing8and9\n",
            "Swapping8and9\n",
            "Comparing1and9\n",
            "Swapping1and9\n",
            "Comparing2and9\n",
            "Swapping2and9\n",
            "Comparing8and5\n",
            "Comparing1and8\n",
            "Swapping1and8\n",
            "Comparing2and8\n",
            "Swapping2and8\n",
            "Comparing1and5\n",
            "Swapping1and5\n",
            "Comparing2and5\n",
            "Swapping2and5\n",
            "Comparing2and1\n"
          ],
          "name": "stdout"
        },
        {
          "output_type": "execute_result",
          "data": {
            "text/plain": [
              "[1, 2, 5, 8, 9]"
            ]
          },
          "metadata": {
            "tags": []
          },
          "execution_count": 8
        }
      ]
    },
    {
      "cell_type": "code",
      "metadata": {
        "id": "ku1ESOuSJthV",
        "colab": {
          "base_uri": "https://localhost:8080/"
        },
        "outputId": "71f36f80-d9e6-49e1-f6ad-f721cf80fdf2"
      },
      "source": [
        "arr = [5,9,8,1,2]\n",
        "def is_small(arr, i,j):\n",
        "  print(\"Comparing\" + str(arr[i])+ \"and\" + str(arr[j]))\n",
        "  if arr[i] < arr[j]:\n",
        "    return True\n",
        "  else:\n",
        "    return False\n",
        "def swap(arr,i,j):\n",
        "  print(\"Swapping\" + str(arr[i])+ \"and\" + str(arr[j]))\n",
        "  temp = arr[i]\n",
        "  arr[i] = arr[j]\n",
        "  arr[j] = temp\n",
        "\n",
        "def selection_sort(arr):\n",
        "  for i in range(len(arr)-1):\n",
        "    min_index = i #storing minimum index\n",
        "    for j in range(i+1,(len(arr))):\n",
        "      if is_small(arr,j,min_index) is True:\n",
        "        min_index = j\n",
        "    swap(arr,i,min_index)\n",
        "  return arr\n",
        "\n",
        "selection_sort(arr)"
      ],
      "execution_count": 9,
      "outputs": [
        {
          "output_type": "stream",
          "text": [
            "Comparing9and5\n",
            "Comparing8and5\n",
            "Comparing1and5\n",
            "Comparing2and1\n",
            "Swapping5and1\n",
            "Comparing8and9\n",
            "Comparing5and8\n",
            "Comparing2and5\n",
            "Swapping9and2\n",
            "Comparing5and8\n",
            "Comparing9and5\n",
            "Swapping8and5\n",
            "Comparing9and8\n",
            "Swapping8and8\n"
          ],
          "name": "stdout"
        },
        {
          "output_type": "execute_result",
          "data": {
            "text/plain": [
              "[1, 2, 5, 8, 9]"
            ]
          },
          "metadata": {
            "tags": []
          },
          "execution_count": 9
        }
      ]
    },
    {
      "cell_type": "code",
      "metadata": {
        "id": "QVtHBtNNcBiD"
      },
      "source": [
        ""
      ],
      "execution_count": null,
      "outputs": []
    }
  ]
}