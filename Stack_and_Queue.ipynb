{
  "nbformat": 4,
  "nbformat_minor": 0,
  "metadata": {
    "colab": {
      "name": "Stack and Queue.ipynb",
      "provenance": [],
      "authorship_tag": "ABX9TyO6bvldMhutvm9/JPBVIXMv",
      "include_colab_link": true
    },
    "kernelspec": {
      "name": "python3",
      "display_name": "Python 3"
    },
    "language_info": {
      "name": "python"
    }
  },
  "cells": [
    {
      "cell_type": "markdown",
      "metadata": {
        "id": "view-in-github",
        "colab_type": "text"
      },
      "source": [
        "<a href=\"https://colab.research.google.com/github/Jatin-kaushik/DSA-Practice-Learning/blob/main/Stack_and_Queue.ipynb\" target=\"_parent\"><img src=\"https://colab.research.google.com/assets/colab-badge.svg\" alt=\"Open In Colab\"/></a>"
      ]
    },
    {
      "cell_type": "code",
      "metadata": {
        "colab": {
          "base_uri": "https://localhost:8080/"
        },
        "id": "UooNoeku1paH",
        "outputId": "d89df7bf-5a56-4515-b2ee-5e97c9087c79"
      },
      "source": [
        "# duplicate bracket Sol1 using dequeue from collection\n",
        "#3,4 out of 5 TC passed will check issue later\n",
        "from collections import deque\n",
        "\n",
        "def duplicate(opening_sets, closing_sets,question):\n",
        "  # print(question)\n",
        "  stack = deque()\n",
        "  for i in question:\n",
        "    if i in closing_sets: #agar ele ),],} closing hua to\n",
        "      # print(i)\n",
        "      if stack[0] in opening_sets: #agr peek open bracket hui means nothing pop return true\n",
        "        return True\n",
        "      else:\n",
        "        while stack[0] not in opening_sets: #jabtak pop kro jbtk top pe opening na aajaye\n",
        "          stack.pop() #krte rho\n",
        "          # print('while pop', stack)\n",
        "\n",
        "        stack.pop() #only last element pop hoga jab open ajayega top pe\n",
        "        # print('end pop', stack)\n",
        "\n",
        "    else: #rest all element except closing sets\n",
        "      stack.append(i) #push krte raho\n",
        "      # print('insert', stack)\n",
        "  return False #agr abtk true nahi hua means stack insert hoke khali hogyi no duplicacy we found.\n",
        "\n",
        "closing_sets = {')',']','}'}\n",
        "opening_sets = {'(','[','{'}\n",
        "question =  input() # (a + b) + ((c + d))\n",
        "duplicate(opening_sets, closing_sets, question)"
      ],
      "execution_count": 21,
      "outputs": [
        {
          "output_type": "stream",
          "text": [
            "((a + b) + (c + d))\n"
          ],
          "name": "stdout"
        },
        {
          "output_type": "execute_result",
          "data": {
            "text/plain": [
              "True"
            ]
          },
          "metadata": {
            "tags": []
          },
          "execution_count": 21
        }
      ]
    },
    {
      "cell_type": "code",
      "metadata": {
        "colab": {
          "base_uri": "https://localhost:8080/"
        },
        "id": "Wgq-k9Mg0DBG",
        "outputId": "c89e90c4-8d2d-4924-dd48-7fe3180373b9"
      },
      "source": [
        "# duplicate bracket Sol2 using list as stack\n",
        " \n",
        "def duplicate(opening_sets, closing_sets,question):\n",
        "  # print(question)\n",
        "  stack = []\n",
        "  for i in question:\n",
        "    if i in closing_sets: #agar ele ),],} closing hua to\n",
        "      # print(i)\n",
        "      if stack[0] in opening_sets: #agr peek open bracket hui means nothing pop return true\n",
        "        return True\n",
        "      else:\n",
        "        while stack[0] not in opening_sets: #jabtak pop kro jbtk top pe opening na aajaye\n",
        "          stack.pop(0) #krte rho\n",
        "          # print('while pop', stack)\n",
        "\n",
        "        stack.pop(0) #only last element pop hoga jab open ajayega top pe\n",
        "        # print('end pop', stack)\n",
        "\n",
        "    else: #rest all element except closing sets\n",
        "      stack.insert(0,i) #push krte raho\n",
        "      # print('insert', stack)\n",
        "  return False #agr abtk true nahi hua means stack insert hoke khali hogyi no duplicacy we found.\n",
        "\n",
        "closing_sets = {')',']','}'}\n",
        "opening_sets = {'(','[','{'}\n",
        "question =  input() # (a + b) + ((c + d))\n",
        "duplicate(opening_sets, closing_sets, question)\n",
        "if duplicate(opening_sets, closing_sets, question) == True:\n",
        "    print('true')\n",
        "else:\n",
        "    print('false')"
      ],
      "execution_count": 20,
      "outputs": [
        {
          "output_type": "stream",
          "text": [
            "((a + b) + (c + d))\n",
            "false\n"
          ],
          "name": "stdout"
        }
      ]
    },
    {
      "cell_type": "code",
      "metadata": {
        "id": "sR4Tym5r3JZv"
      },
      "source": [
        "# "
      ],
      "execution_count": 19,
      "outputs": []
    }
  ]
}