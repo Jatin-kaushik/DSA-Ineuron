{
  "nbformat": 4,
  "nbformat_minor": 0,
  "metadata": {
    "colab": {
      "name": "Stack and Queue.ipynb",
      "provenance": [],
      "collapsed_sections": [],
      "authorship_tag": "ABX9TyO3MEnECssxEEk1/TtAQpWb",
      "include_colab_link": true
    },
    "kernelspec": {
      "name": "python3",
      "display_name": "Python 3"
    },
    "language_info": {
      "name": "python"
    }
  },
  "cells": [
    {
      "cell_type": "markdown",
      "metadata": {
        "id": "view-in-github",
        "colab_type": "text"
      },
      "source": [
        "<a href=\"https://colab.research.google.com/github/Jatin-kaushik/DSA-Practice-Learning/blob/main/Stack_and_Queue.ipynb\" target=\"_parent\"><img src=\"https://colab.research.google.com/assets/colab-badge.svg\" alt=\"Open In Colab\"/></a>"
      ]
    },
    {
      "cell_type": "code",
      "metadata": {
        "colab": {
          "base_uri": "https://localhost:8080/"
        },
        "id": "UooNoeku1paH",
        "outputId": "d89df7bf-5a56-4515-b2ee-5e97c9087c79"
      },
      "source": [
        "# duplicate bracket Sol1 using dequeue from collection\n",
        "#3,4 out of 5 TC passed will check issue later\n",
        "from collections import deque\n",
        "\n",
        "def duplicate(opening_sets, closing_sets,question):\n",
        "  # print(question)\n",
        "  stack = deque()\n",
        "  for i in question:\n",
        "    if i in closing_sets: #agar ele ),],} closing hua to\n",
        "      # print(i)\n",
        "      if stack[0] in opening_sets: #agr peek open bracket hui means nothing pop return true\n",
        "        return True\n",
        "      else:\n",
        "        while stack[0] not in opening_sets: #jabtak pop kro jbtk top pe opening na aajaye\n",
        "          stack.pop() #krte rho\n",
        "          # print('while pop', stack)\n",
        "\n",
        "        stack.pop() #only last element pop hoga jab open ajayega top pe\n",
        "        # print('end pop', stack)\n",
        "\n",
        "    else: #rest all element except closing sets\n",
        "      stack.append(i) #push krte raho\n",
        "      # print('insert', stack)\n",
        "  return False #agr abtk true nahi hua means stack insert hoke khali hogyi no duplicacy we found.\n",
        "\n",
        "closing_sets = {')',']','}'}\n",
        "opening_sets = {'(','[','{'}\n",
        "question =  input() # (a + b) + ((c + d))\n",
        "duplicate(opening_sets, closing_sets, question)"
      ],
      "execution_count": null,
      "outputs": [
        {
          "output_type": "stream",
          "text": [
            "((a + b) + (c + d))\n"
          ],
          "name": "stdout"
        },
        {
          "output_type": "execute_result",
          "data": {
            "text/plain": [
              "True"
            ]
          },
          "metadata": {
            "tags": []
          },
          "execution_count": 21
        }
      ]
    },
    {
      "cell_type": "code",
      "metadata": {
        "colab": {
          "base_uri": "https://localhost:8080/"
        },
        "id": "Wgq-k9Mg0DBG",
        "outputId": "c70f14a2-943c-4b14-badc-53367e60a06d"
      },
      "source": [
        "# duplicate bracket Sol2 using list as stack\n",
        " \n",
        "def duplicate(opening_sets, closing_sets,question):\n",
        "  # print(question)\n",
        "  stack = []\n",
        "  for i in question:\n",
        "    if i in closing_sets: #agar ele ),],} closing hua to\n",
        "      # print(i)\n",
        "      if stack[0] in opening_sets: #agr peek open bracket hui means nothing pop return true\n",
        "        return True\n",
        "      else:\n",
        "        while stack[0] not in opening_sets: #jabtak pop kro jbtk top pe opening na aajaye\n",
        "          stack.pop(0) #krte rho\n",
        "          # print('while pop', stack)\n",
        "\n",
        "        stack.pop(0) #only last element pop hoga jab open ajayega top pe\n",
        "        # print('end pop', stack)\n",
        "\n",
        "    else: #rest all element except closing sets\n",
        "      stack.insert(0,i) #push krte raho\n",
        "      # print('insert', stack)\n",
        "  return False #agr abtk true nahi hua means stack insert hoke khali hogyi no duplicacy we found.\n",
        "\n",
        "closing_sets = {')',']','}'}\n",
        "opening_sets = {'(','[','{'}\n",
        "question =  input() # (a + b) + ((c + d))\n",
        "duplicate(opening_sets, closing_sets, question)\n",
        "if duplicate(opening_sets, closing_sets, question) == True:\n",
        "    print('true')\n",
        "else:\n",
        "    print('false')"
      ],
      "execution_count": null,
      "outputs": [
        {
          "output_type": "stream",
          "text": [
            "[(a + b) + {(c + d) * (e / f)}]\n",
            "false\n"
          ],
          "name": "stdout"
        }
      ]
    },
    {
      "cell_type": "code",
      "metadata": {
        "colab": {
          "base_uri": "https://localhost:8080/"
        },
        "id": "sR4Tym5r3JZv",
        "outputId": "f25d239b-0d92-47ab-cf21-f2ae601c286d"
      },
      "source": [
        "# Balanced brackets using 1 function\n",
        "def balanced(question):\n",
        "  stack = []\n",
        "  for i in question:\n",
        "    if i == '(' or i == '['or i =='{':\n",
        "      stack.insert(0,i)\n",
        "      # print(stack)\n",
        "    elif i == ')': #why handling all close parenthesis alag alag? bcz we have to check mismatch order also\n",
        "      if len(stack) == 0: # sab kuch nikal gaya but ye closing extra h\n",
        "        return False\n",
        "      elif stack[0] != '(':\n",
        "        return False\n",
        "      else:\n",
        "        stack.pop(0)\n",
        "    elif i == ']':\n",
        "      if len(stack) == 0: # sab kuch nikal gaya but ye closing extra h\n",
        "        return False\n",
        "      elif stack[0] != '[':\n",
        "        return False\n",
        "      else:\n",
        "        stack.pop(0)\n",
        "    elif i == '}':\n",
        "      if len(stack) == 0: # sab kuch nikal gaya but ye closing extra h\n",
        "        return False\n",
        "      elif stack[0] != '{':\n",
        "        return False\n",
        "      else:\n",
        "        stack.pop(0)\n",
        "  if len(stack) == 0:\n",
        "    return True\n",
        "  else:\n",
        "    return False      \n",
        " \n",
        "closing_sets = {}\n",
        "opening_sets = {'(','[','{'}\n",
        "#[(a + b) + {(c + d) * (e / f)}] -> true\n",
        "question = input()\n",
        "balanced(question)"
      ],
      "execution_count": null,
      "outputs": [
        {
          "output_type": "stream",
          "text": [
            "[(a + b) + {(c + d) * (e / f)}]\n",
            "['[']\n",
            "['(', '[']\n",
            "['{', '[']\n",
            "['(', '{', '[']\n",
            "['(', '{', '[']\n"
          ],
          "name": "stdout"
        },
        {
          "output_type": "execute_result",
          "data": {
            "text/plain": [
              "True"
            ]
          },
          "metadata": {
            "tags": []
          },
          "execution_count": 29
        }
      ]
    },
    {
      "cell_type": "code",
      "metadata": {
        "colab": {
          "base_uri": "https://localhost:8080/"
        },
        "id": "NXEN4kvKBKWk",
        "outputId": "2ea64f6b-6e65-4def-ce7d-e0bfa4fa7f7a"
      },
      "source": [
        "# Balanced brackets using 2 function\n",
        "\n",
        "def handling(stack, corres_open_char):\n",
        "  if len(stack) == 0: # sab kuch nikal gaya but ye closing extra h\n",
        "    return False\n",
        "  elif stack[0] != corres_open_char:\n",
        "    return False\n",
        "  else:\n",
        "    stack.pop(0)\n",
        "    return\n",
        "def balanced(question):\n",
        "  stack = []\n",
        "  for i in question:\n",
        "    if i == '(' or i == '['or i =='{':\n",
        "      stack.insert(0,i)\n",
        "      # print(stack)\n",
        "    elif i == ')': #why handling all close parenthesis alag alag? bcz we have to check mismatch order also\n",
        "      val = handling(stack, '(')\n",
        "      if val == False:\n",
        "        return False\n",
        "    elif i == ']':\n",
        "      val = handling(stack, '[')\n",
        "      if val == False:\n",
        "        return False\n",
        "    elif i == '}':\n",
        "      val = handling(stack, '{')\n",
        "      if val == False:\n",
        "        return False\n",
        "\n",
        "\n",
        "  if len(stack) == 0:\n",
        "    return True\n",
        "  else:\n",
        "    return False      \n",
        "\n",
        "closing_sets = {}\n",
        "opening_sets = {'(','[','{'}\n",
        "#[(a + b) + {(c + d) * (e / f)}] -> true\n",
        "question = input()\n",
        "balanced(question)\n",
        "a = balanced(question)\n",
        "if a == True:\n",
        "    print('true')\n",
        "else:\n",
        "    print('false')"
      ],
      "execution_count": null,
      "outputs": [
        {
          "output_type": "stream",
          "text": [
            "[(a + b) + {(c + d) * (e / f)}]\n"
          ],
          "name": "stdout"
        },
        {
          "output_type": "execute_result",
          "data": {
            "text/plain": [
              "True"
            ]
          },
          "metadata": {
            "tags": []
          },
          "execution_count": 30
        }
      ]
    },
    {
      "cell_type": "code",
      "metadata": {
        "colab": {
          "base_uri": "https://localhost:8080/",
          "height": 528
        },
        "id": "Nx5-KMBKH1rP",
        "outputId": "061f3b6b-fb84-4bc3-f0ec-3decf6443140"
      },
      "source": [
        "#next greater element\n",
        "\n",
        "def nge(arr):\n",
        "  nge = [None] * (len(arr))\n",
        "  stack = []\n",
        "  stack.append(arr[-1]) #insert at last\n",
        "  nge[-1] = -1\n",
        "  for i in range(len(arr)-2, -1, -1):\n",
        "    #pop answr push\n",
        "    # print(i)\n",
        "    # print(stack, len(stack), i, arr[i], stack[0], nge)\n",
        "    while len(stack) > 0 and arr[i] >= stack[-1]: #peak is at -1\n",
        "      stack.pop() #delete from last\n",
        "    if len(stack) == 0:\n",
        "      nge[i] = -1 \n",
        "    else:\n",
        "      nge[i] = stack[-1]\n",
        "    stack.append(arr[i])\n",
        "  return nge\n",
        "  \n",
        "n =  int(input())\n",
        "arr = [int(input()) for i in range(n)]\n",
        "# arr = [2, 5, 9, 3, 1, 12, 6, 8, 7]\n",
        "\n",
        "nge(arr)"
      ],
      "execution_count": null,
      "outputs": [
        {
          "output_type": "error",
          "ename": "KeyboardInterrupt",
          "evalue": "ignored",
          "traceback": [
            "\u001b[0;31m---------------------------------------------------------------------------\u001b[0m",
            "\u001b[0;31mKeyboardInterrupt\u001b[0m                         Traceback (most recent call last)",
            "\u001b[0;32m/usr/local/lib/python3.7/dist-packages/ipykernel/kernelbase.py\u001b[0m in \u001b[0;36m_input_request\u001b[0;34m(self, prompt, ident, parent, password)\u001b[0m\n\u001b[1;32m    728\u001b[0m             \u001b[0;32mtry\u001b[0m\u001b[0;34m:\u001b[0m\u001b[0;34m\u001b[0m\u001b[0;34m\u001b[0m\u001b[0m\n\u001b[0;32m--> 729\u001b[0;31m                 \u001b[0mident\u001b[0m\u001b[0;34m,\u001b[0m \u001b[0mreply\u001b[0m \u001b[0;34m=\u001b[0m \u001b[0mself\u001b[0m\u001b[0;34m.\u001b[0m\u001b[0msession\u001b[0m\u001b[0;34m.\u001b[0m\u001b[0mrecv\u001b[0m\u001b[0;34m(\u001b[0m\u001b[0mself\u001b[0m\u001b[0;34m.\u001b[0m\u001b[0mstdin_socket\u001b[0m\u001b[0;34m,\u001b[0m \u001b[0;36m0\u001b[0m\u001b[0;34m)\u001b[0m\u001b[0;34m\u001b[0m\u001b[0;34m\u001b[0m\u001b[0m\n\u001b[0m\u001b[1;32m    730\u001b[0m             \u001b[0;32mexcept\u001b[0m \u001b[0mException\u001b[0m\u001b[0;34m:\u001b[0m\u001b[0;34m\u001b[0m\u001b[0;34m\u001b[0m\u001b[0m\n",
            "\u001b[0;32m/usr/local/lib/python3.7/dist-packages/jupyter_client/session.py\u001b[0m in \u001b[0;36mrecv\u001b[0;34m(self, socket, mode, content, copy)\u001b[0m\n\u001b[1;32m    802\u001b[0m         \u001b[0;32mtry\u001b[0m\u001b[0;34m:\u001b[0m\u001b[0;34m\u001b[0m\u001b[0;34m\u001b[0m\u001b[0m\n\u001b[0;32m--> 803\u001b[0;31m             \u001b[0mmsg_list\u001b[0m \u001b[0;34m=\u001b[0m \u001b[0msocket\u001b[0m\u001b[0;34m.\u001b[0m\u001b[0mrecv_multipart\u001b[0m\u001b[0;34m(\u001b[0m\u001b[0mmode\u001b[0m\u001b[0;34m,\u001b[0m \u001b[0mcopy\u001b[0m\u001b[0;34m=\u001b[0m\u001b[0mcopy\u001b[0m\u001b[0;34m)\u001b[0m\u001b[0;34m\u001b[0m\u001b[0;34m\u001b[0m\u001b[0m\n\u001b[0m\u001b[1;32m    804\u001b[0m         \u001b[0;32mexcept\u001b[0m \u001b[0mzmq\u001b[0m\u001b[0;34m.\u001b[0m\u001b[0mZMQError\u001b[0m \u001b[0;32mas\u001b[0m \u001b[0me\u001b[0m\u001b[0;34m:\u001b[0m\u001b[0;34m\u001b[0m\u001b[0;34m\u001b[0m\u001b[0m\n",
            "\u001b[0;32m/usr/local/lib/python3.7/dist-packages/zmq/sugar/socket.py\u001b[0m in \u001b[0;36mrecv_multipart\u001b[0;34m(self, flags, copy, track)\u001b[0m\n\u001b[1;32m    582\u001b[0m         \"\"\"\n\u001b[0;32m--> 583\u001b[0;31m         \u001b[0mparts\u001b[0m \u001b[0;34m=\u001b[0m \u001b[0;34m[\u001b[0m\u001b[0mself\u001b[0m\u001b[0;34m.\u001b[0m\u001b[0mrecv\u001b[0m\u001b[0;34m(\u001b[0m\u001b[0mflags\u001b[0m\u001b[0;34m,\u001b[0m \u001b[0mcopy\u001b[0m\u001b[0;34m=\u001b[0m\u001b[0mcopy\u001b[0m\u001b[0;34m,\u001b[0m \u001b[0mtrack\u001b[0m\u001b[0;34m=\u001b[0m\u001b[0mtrack\u001b[0m\u001b[0;34m)\u001b[0m\u001b[0;34m]\u001b[0m\u001b[0;34m\u001b[0m\u001b[0;34m\u001b[0m\u001b[0m\n\u001b[0m\u001b[1;32m    584\u001b[0m         \u001b[0;31m# have first part already, only loop while more to receive\u001b[0m\u001b[0;34m\u001b[0m\u001b[0;34m\u001b[0m\u001b[0;34m\u001b[0m\u001b[0m\n",
            "\u001b[0;32mzmq/backend/cython/socket.pyx\u001b[0m in \u001b[0;36mzmq.backend.cython.socket.Socket.recv\u001b[0;34m()\u001b[0m\n",
            "\u001b[0;32mzmq/backend/cython/socket.pyx\u001b[0m in \u001b[0;36mzmq.backend.cython.socket.Socket.recv\u001b[0;34m()\u001b[0m\n",
            "\u001b[0;32mzmq/backend/cython/socket.pyx\u001b[0m in \u001b[0;36mzmq.backend.cython.socket._recv_copy\u001b[0;34m()\u001b[0m\n",
            "\u001b[0;32m/usr/local/lib/python3.7/dist-packages/zmq/backend/cython/checkrc.pxd\u001b[0m in \u001b[0;36mzmq.backend.cython.checkrc._check_rc\u001b[0;34m()\u001b[0m\n",
            "\u001b[0;31mKeyboardInterrupt\u001b[0m: ",
            "\nDuring handling of the above exception, another exception occurred:\n",
            "\u001b[0;31mKeyboardInterrupt\u001b[0m                         Traceback (most recent call last)",
            "\u001b[0;32m<ipython-input-20-068b8bf1808a>\u001b[0m in \u001b[0;36m<module>\u001b[0;34m()\u001b[0m\n\u001b[1;32m     19\u001b[0m   \u001b[0;32mreturn\u001b[0m \u001b[0mnge\u001b[0m\u001b[0;34m\u001b[0m\u001b[0;34m\u001b[0m\u001b[0m\n\u001b[1;32m     20\u001b[0m \u001b[0;34m\u001b[0m\u001b[0m\n\u001b[0;32m---> 21\u001b[0;31m \u001b[0mn\u001b[0m \u001b[0;34m=\u001b[0m  \u001b[0mint\u001b[0m\u001b[0;34m(\u001b[0m\u001b[0minput\u001b[0m\u001b[0;34m(\u001b[0m\u001b[0;34m)\u001b[0m\u001b[0;34m)\u001b[0m\u001b[0;34m\u001b[0m\u001b[0;34m\u001b[0m\u001b[0m\n\u001b[0m\u001b[1;32m     22\u001b[0m \u001b[0marr\u001b[0m \u001b[0;34m=\u001b[0m \u001b[0;34m[\u001b[0m\u001b[0mint\u001b[0m\u001b[0;34m(\u001b[0m\u001b[0minput\u001b[0m\u001b[0;34m(\u001b[0m\u001b[0;34m)\u001b[0m\u001b[0;34m)\u001b[0m \u001b[0;32mfor\u001b[0m \u001b[0mi\u001b[0m \u001b[0;32min\u001b[0m \u001b[0mrange\u001b[0m\u001b[0;34m(\u001b[0m\u001b[0mn\u001b[0m\u001b[0;34m)\u001b[0m\u001b[0;34m]\u001b[0m\u001b[0;34m\u001b[0m\u001b[0;34m\u001b[0m\u001b[0m\n\u001b[1;32m     23\u001b[0m \u001b[0;31m# arr = [2, 5, 9, 3, 1, 12, 6, 8, 7]\u001b[0m\u001b[0;34m\u001b[0m\u001b[0;34m\u001b[0m\u001b[0;34m\u001b[0m\u001b[0m\n",
            "\u001b[0;32m/usr/local/lib/python3.7/dist-packages/ipykernel/kernelbase.py\u001b[0m in \u001b[0;36mraw_input\u001b[0;34m(self, prompt)\u001b[0m\n\u001b[1;32m    702\u001b[0m             \u001b[0mself\u001b[0m\u001b[0;34m.\u001b[0m\u001b[0m_parent_ident\u001b[0m\u001b[0;34m,\u001b[0m\u001b[0;34m\u001b[0m\u001b[0;34m\u001b[0m\u001b[0m\n\u001b[1;32m    703\u001b[0m             \u001b[0mself\u001b[0m\u001b[0;34m.\u001b[0m\u001b[0m_parent_header\u001b[0m\u001b[0;34m,\u001b[0m\u001b[0;34m\u001b[0m\u001b[0;34m\u001b[0m\u001b[0m\n\u001b[0;32m--> 704\u001b[0;31m             \u001b[0mpassword\u001b[0m\u001b[0;34m=\u001b[0m\u001b[0;32mFalse\u001b[0m\u001b[0;34m,\u001b[0m\u001b[0;34m\u001b[0m\u001b[0;34m\u001b[0m\u001b[0m\n\u001b[0m\u001b[1;32m    705\u001b[0m         )\n\u001b[1;32m    706\u001b[0m \u001b[0;34m\u001b[0m\u001b[0m\n",
            "\u001b[0;32m/usr/local/lib/python3.7/dist-packages/ipykernel/kernelbase.py\u001b[0m in \u001b[0;36m_input_request\u001b[0;34m(self, prompt, ident, parent, password)\u001b[0m\n\u001b[1;32m    732\u001b[0m             \u001b[0;32mexcept\u001b[0m \u001b[0mKeyboardInterrupt\u001b[0m\u001b[0;34m:\u001b[0m\u001b[0;34m\u001b[0m\u001b[0;34m\u001b[0m\u001b[0m\n\u001b[1;32m    733\u001b[0m                 \u001b[0;31m# re-raise KeyboardInterrupt, to truncate traceback\u001b[0m\u001b[0;34m\u001b[0m\u001b[0;34m\u001b[0m\u001b[0;34m\u001b[0m\u001b[0m\n\u001b[0;32m--> 734\u001b[0;31m                 \u001b[0;32mraise\u001b[0m \u001b[0mKeyboardInterrupt\u001b[0m\u001b[0;34m\u001b[0m\u001b[0;34m\u001b[0m\u001b[0m\n\u001b[0m\u001b[1;32m    735\u001b[0m             \u001b[0;32melse\u001b[0m\u001b[0;34m:\u001b[0m\u001b[0;34m\u001b[0m\u001b[0;34m\u001b[0m\u001b[0m\n\u001b[1;32m    736\u001b[0m                 \u001b[0;32mbreak\u001b[0m\u001b[0;34m\u001b[0m\u001b[0;34m\u001b[0m\u001b[0m\n",
            "\u001b[0;31mKeyboardInterrupt\u001b[0m: "
          ]
        }
      ]
    },
    {
      "cell_type": "code",
      "metadata": {
        "colab": {
          "base_uri": "https://localhost:8080/"
        },
        "id": "LG0t3_FtPrWl",
        "outputId": "4583fc30-2e4c-474b-8ff1-507a15703249"
      },
      "source": [
        "arr = [2, 5, 9, 3, 1, 12, 6, 8, 7]\n",
        "# arr = [5,3, 8, -2, 7]\n",
        "def nge(arr):\n",
        "  array = [None] * len(arr)\n",
        "  stack = []\n",
        "  stack.insert(0,arr[-1])\n",
        "  array[-1] = -1\n",
        "  for i in range(len(arr)-2, -1, -1):\n",
        "    # print(arr[i]) #reverse array from -2 index to 0\n",
        "    # pop add push -a+\n",
        "    # print('for', arr[i], stack[0])\n",
        "    while len(stack) > 0 and arr[i] >= stack[0]:\n",
        "      # print('while', stack, stack[0])\n",
        "      stack.pop(0)\n",
        "    if len(stack) == 0:\n",
        "      # print('if', stack)\n",
        "      array[i] = -1\n",
        "    else:\n",
        "      # print('else', array[i], stack)\n",
        "      array[i] = stack[0] \n",
        "    stack.insert(0, arr[i])\n",
        "  return array\n",
        "\n",
        "\n",
        "\n",
        "nge(arr)"
      ],
      "execution_count": null,
      "outputs": [
        {
          "output_type": "execute_result",
          "data": {
            "text/plain": [
              "[5, 9, 12, 12, 12, -1, 8, -1, -1]"
            ]
          },
          "metadata": {
            "tags": []
          },
          "execution_count": 22
        }
      ]
    },
    {
      "cell_type": "code",
      "metadata": {
        "colab": {
          "base_uri": "https://localhost:8080/"
        },
        "id": "LLEt1wIWQKdj",
        "outputId": "cc8ab7a6-445b-4d29-81dc-a04b3cccb374"
      },
      "source": [
        "# Stock Span\n",
        "def stock(arr):\n",
        "  span = [None]*len(arr)\n",
        "  stack = []\n",
        "  span[0] = 1\n",
        "  stack.append(0)\n",
        "  for i in range(1, len(arr)):\n",
        "    # print(i,arr[i],len(stack), arr[stack[0]])\n",
        "    while len(stack)>0 and arr[i]> arr[stack[-1]]:\n",
        "      stack.pop()\n",
        "    if len(stack) == 0:\n",
        "      span[i] = i+1\n",
        "    else:\n",
        "      span[i] = i- stack[-1]\n",
        "    stack.append(i)\n",
        "  return span\n",
        "n = int(input())\n",
        "arr = [int(input()) for i in range(n)]\n",
        "stock(arr)"
      ],
      "execution_count": null,
      "outputs": [
        {
          "output_type": "stream",
          "text": [
            "9\n",
            "2\n",
            "5\n",
            "9\n",
            "3\n",
            "1\n",
            "12\n",
            "6\n",
            "8\n",
            "7\n",
            "1 5 1 2\n",
            "2 9 1 5\n",
            "3 3 1 9\n",
            "4 1 2 9\n",
            "5 12 3 9\n",
            "6 6 1 12\n",
            "7 8 2 12\n",
            "8 7 3 12\n"
          ],
          "name": "stdout"
        },
        {
          "output_type": "execute_result",
          "data": {
            "text/plain": [
              "[1, 2, 3, 1, 2, 6, 1, 2, 3]"
            ]
          },
          "metadata": {
            "tags": []
          },
          "execution_count": 10
        }
      ]
    },
    {
      "cell_type": "code",
      "metadata": {
        "id": "x5wHHSmBSTFt",
        "colab": {
          "base_uri": "https://localhost:8080/"
        },
        "outputId": "87623fb8-e51e-47f6-e2ad-a1def9e8be6a"
      },
      "source": [
        "def large_hist(area):\n",
        "    lb = [None]*len(area) #next smaller element to left\n",
        "    stack = []\n",
        "    stack.append(area[0])\n",
        "    lb[0] = -1\n",
        "    for i in range(1,len(area)): #pop add push -a+\n",
        "        while len(stack)>0 and area[i]<area[stack[-1]]:\n",
        "            stack.pop()\n",
        "        if len(stack) ==0:\n",
        "            lb[i] = -1\n",
        "        else:\n",
        "            lb[i] = stack[-1]\n",
        "        stack.append(area[i])\n",
        "    \n",
        "    rb  =[None]*len(area) #next smaller element to RIGHT\n",
        "    stack = []\n",
        "    stack.append(area[-1])\n",
        "    rb[-1] = len(area)\n",
        "    for i in range(len(area)-2, -1,-1): #pop add push -a+\n",
        "        while len(stack)>0 and area[i]<area[stack[-1]]:\n",
        "            stack.pop()\n",
        "        if len(stack) ==0:\n",
        "            rb[i] = len(area)\n",
        "        else:\n",
        "            rb[i] = stack[-1]\n",
        "        stack.append(area[i])\n",
        "    \n",
        "    max_area = 0\n",
        "    for i in range(len(area)):\n",
        "        width = rb[i] - lb[i] -1\n",
        "        loc_area = area[i]*width\n",
        "        if loc_area> max_area:\n",
        "            max_area = loc_area\n",
        "    return max_area\n",
        "n = int(input())\n",
        "area = [int(input()) for i in range(n)] \n",
        "a = large_hist(area)\n",
        "print(a)\n"
      ],
      "execution_count": null,
      "outputs": [
        {
          "output_type": "stream",
          "text": [
            "7\n",
            "6\n",
            "2\n",
            "5\n",
            "4\n",
            "5\n",
            "1\n",
            "6\n",
            "30\n"
          ],
          "name": "stdout"
        }
      ]
    },
    {
      "cell_type": "code",
      "metadata": {
        "colab": {
          "base_uri": "https://localhost:8080/"
        },
        "id": "IUWt51ZyD1GT",
        "outputId": "b036f0f3-1d36-4d08-b034-9c72dfccf213"
      },
      "source": [
        "# Infix Evalution\n",
        "def precedence(operator):\n",
        "  if operator == '+':\n",
        "    return 1\n",
        "  elif operator == '-':\n",
        "    return 1\n",
        "  elif operator == '*':\n",
        "    return 2\n",
        "  else:\n",
        "    return 2\n",
        "\n",
        "def operation(v1,v2,operator):\n",
        "  if operator == '+':\n",
        "    return v1+v2\n",
        "  elif operator == '-':\n",
        "    return v1-v2\n",
        "  elif operator == '*':\n",
        "    return v1*v2\n",
        "  else:\n",
        "    return v1/v2\n",
        "\n",
        "def infix_eval(ques):\n",
        "  operators_stack = []\n",
        "  operand_stack = []\n",
        "  for i in range(len(ques)):\n",
        "    # print(ques[i], operators_stack, operand_stack)\n",
        "    if ques[i] == '(':\n",
        "      operators_stack.append(ques[i])\n",
        "    elif ques[i].isdigit():\n",
        "      operand_stack.append(int(ques[i]))\n",
        "    elif ques[i] == ')':\n",
        "      while operators_stack[-1] != '(':\n",
        "        optor = operators_stack.pop()\n",
        "        v2 = operand_stack.pop()\n",
        "        v1 = operand_stack.pop()\n",
        "\n",
        "        opv = operation(v1,v2,optor)\n",
        "        operand.append(opv)\n",
        "\n",
        "      operators_stack.pop()\n",
        "\n",
        "    elif ques[i] == '+' or ques[i] == '-' or ques[i] == '*' or ques[i] == '/':\n",
        "      print(len(operators_stack), operators_stack)\n",
        "      while len(operators_stack) > 0 and operators_stack[-1] == '(' and precedence(ques[i]) <= precedence(operators_stack[-1]):\n",
        "        optor = operators_stack.pop()\n",
        "        v2 = operand_stack.pop()\n",
        "        v1 = operand_stack.pop()\n",
        "\n",
        "        opv = operation(v1,v2,optor)\n",
        "        operand_stack.append(opv)\n",
        "      operators_stack.append(ques[i])\n",
        "\n",
        "  \n",
        "  while len(operators_stack) != 0:\n",
        "    optor = operators_stack.pop()\n",
        "    v2 = operand_stack.pop()\n",
        "    v1 = operand_stack.pop()\n",
        "\n",
        "    opv = operation(v1,v2,optor)\n",
        "    operand_stack.append(opv)\n",
        "  return operand_stack\n",
        "\n",
        "ques = '2 + 6 * 4 / 8 - 3'\n",
        "infix_eval(ques)"
      ],
      "execution_count": null,
      "outputs": [
        {
          "output_type": "stream",
          "text": [
            "0 []\n",
            "1 ['+']\n",
            "2 ['+', '*']\n",
            "3 ['+', '*', '/']\n"
          ],
          "name": "stdout"
        },
        {
          "output_type": "execute_result",
          "data": {
            "text/plain": [
              "[6.800000000000001]"
            ]
          },
          "metadata": {
            "tags": []
          },
          "execution_count": 30
        }
      ]
    },
    {
      "cell_type": "code",
      "metadata": {
        "colab": {
          "base_uri": "https://localhost:8080/",
          "height": 164
        },
        "id": "5mX8QmF7NEc3",
        "outputId": "b488484a-be7f-4365-ccc4-d2dfb5c91db5"
      },
      "source": [
        "  elseprint('5'- '0')"
      ],
      "execution_count": null,
      "outputs": [
        {
          "output_type": "error",
          "ename": "TypeError",
          "evalue": "ignored",
          "traceback": [
            "\u001b[0;31m---------------------------------------------------------------------------\u001b[0m",
            "\u001b[0;31mTypeError\u001b[0m                                 Traceback (most recent call last)",
            "\u001b[0;32m<ipython-input-6-14e82a700fea>\u001b[0m in \u001b[0;36m<module>\u001b[0;34m()\u001b[0m\n\u001b[0;32m----> 1\u001b[0;31m \u001b[0mprint\u001b[0m\u001b[0;34m(\u001b[0m\u001b[0;34m'5'\u001b[0m\u001b[0;34m-\u001b[0m \u001b[0;34m'0'\u001b[0m\u001b[0;34m)\u001b[0m\u001b[0;34m\u001b[0m\u001b[0;34m\u001b[0m\u001b[0m\n\u001b[0m",
            "\u001b[0;31mTypeError\u001b[0m: unsupported operand type(s) for -: 'str' and 'str'"
          ]
        }
      ]
    },
    {
      "cell_type": "code",
      "metadata": {
        "id": "XRPkHVYMNGpD",
        "colab": {
          "base_uri": "https://localhost:8080/",
          "height": 333
        },
        "outputId": "bfb28bc9-3cd9-4301-b3f3-f6f7274ddec1"
      },
      "source": [
        "def sliding_window(n,arr, k):\n",
        "  stack = []\n",
        "  nge = [None]*n\n",
        "  stack.append(n -1)\n",
        "  nge[-1] = n #out of index\n",
        "\n",
        "  for i in range(n-2, -1,-1): #nge\n",
        "    while len(stack)>0 and arr[i] >= arr[stack[0]]:\n",
        "      stack.pop()\n",
        "\n",
        "    if len(stack) == 0:\n",
        "      nge[i] = n\n",
        "    else:\n",
        "      nge[i] = stack[0]\n",
        "\n",
        "    stack.append(i)\n",
        "  for i in nge:\n",
        "    print(i,nge)\n",
        "    if i >= len(arr):\n",
        "      print(arr[nge[i-1]])\n",
        "    else:\n",
        "      print(arr[nge[i]])\n",
        "  # for i in range(0, n-k): #window max\n",
        "  #   j = i\n",
        "  #   print(j,i+k)\n",
        "  #   while nge[j] < i+k:\n",
        "  #     j = nge[j]\n",
        "  #   print(arr[j])\n",
        "\n",
        "# n = int(input())\n",
        "# arr= [int(input()) for i in range(n)]\n",
        "# k = int(input())\n",
        "n = 17\n",
        "arr=  [2, 9, 3, 8, 1, 7, 12, 6, 14, 4, 32, 0, 7, 19, 8, 12, 6]\n",
        "k = 4\n",
        "sliding_window(n,arr,k)"
      ],
      "execution_count": null,
      "outputs": [
        {
          "output_type": "stream",
          "text": [
            "10 [10, 10, 10, 10, 10, 10, 10, 10, 10, 10, 17, 13, 13, 17, 15, 17, 17]\n"
          ],
          "name": "stdout"
        },
        {
          "output_type": "error",
          "ename": "IndexError",
          "evalue": "ignored",
          "traceback": [
            "\u001b[0;31m---------------------------------------------------------------------------\u001b[0m",
            "\u001b[0;31mIndexError\u001b[0m                                Traceback (most recent call last)",
            "\u001b[0;32m<ipython-input-9-d70189c82f37>\u001b[0m in \u001b[0;36m<module>\u001b[0;34m()\u001b[0m\n\u001b[1;32m     34\u001b[0m \u001b[0marr\u001b[0m\u001b[0;34m=\u001b[0m  \u001b[0;34m[\u001b[0m\u001b[0;36m2\u001b[0m\u001b[0;34m,\u001b[0m \u001b[0;36m9\u001b[0m\u001b[0;34m,\u001b[0m \u001b[0;36m3\u001b[0m\u001b[0;34m,\u001b[0m \u001b[0;36m8\u001b[0m\u001b[0;34m,\u001b[0m \u001b[0;36m1\u001b[0m\u001b[0;34m,\u001b[0m \u001b[0;36m7\u001b[0m\u001b[0;34m,\u001b[0m \u001b[0;36m12\u001b[0m\u001b[0;34m,\u001b[0m \u001b[0;36m6\u001b[0m\u001b[0;34m,\u001b[0m \u001b[0;36m14\u001b[0m\u001b[0;34m,\u001b[0m \u001b[0;36m4\u001b[0m\u001b[0;34m,\u001b[0m \u001b[0;36m32\u001b[0m\u001b[0;34m,\u001b[0m \u001b[0;36m0\u001b[0m\u001b[0;34m,\u001b[0m \u001b[0;36m7\u001b[0m\u001b[0;34m,\u001b[0m \u001b[0;36m19\u001b[0m\u001b[0;34m,\u001b[0m \u001b[0;36m8\u001b[0m\u001b[0;34m,\u001b[0m \u001b[0;36m12\u001b[0m\u001b[0;34m,\u001b[0m \u001b[0;36m6\u001b[0m\u001b[0;34m]\u001b[0m\u001b[0;34m\u001b[0m\u001b[0;34m\u001b[0m\u001b[0m\n\u001b[1;32m     35\u001b[0m \u001b[0mk\u001b[0m \u001b[0;34m=\u001b[0m \u001b[0;36m4\u001b[0m\u001b[0;34m\u001b[0m\u001b[0;34m\u001b[0m\u001b[0m\n\u001b[0;32m---> 36\u001b[0;31m \u001b[0msliding_window\u001b[0m\u001b[0;34m(\u001b[0m\u001b[0mn\u001b[0m\u001b[0;34m,\u001b[0m\u001b[0marr\u001b[0m\u001b[0;34m,\u001b[0m\u001b[0mk\u001b[0m\u001b[0;34m)\u001b[0m\u001b[0;34m\u001b[0m\u001b[0;34m\u001b[0m\u001b[0m\n\u001b[0m",
            "\u001b[0;32m<ipython-input-9-d70189c82f37>\u001b[0m in \u001b[0;36msliding_window\u001b[0;34m(n, arr, k)\u001b[0m\n\u001b[1;32m     20\u001b[0m       \u001b[0mprint\u001b[0m\u001b[0;34m(\u001b[0m\u001b[0marr\u001b[0m\u001b[0;34m[\u001b[0m\u001b[0mnge\u001b[0m\u001b[0;34m[\u001b[0m\u001b[0mi\u001b[0m\u001b[0;34m-\u001b[0m\u001b[0;36m1\u001b[0m\u001b[0;34m]\u001b[0m\u001b[0;34m]\u001b[0m\u001b[0;34m)\u001b[0m\u001b[0;34m\u001b[0m\u001b[0;34m\u001b[0m\u001b[0m\n\u001b[1;32m     21\u001b[0m     \u001b[0;32melse\u001b[0m\u001b[0;34m:\u001b[0m\u001b[0;34m\u001b[0m\u001b[0;34m\u001b[0m\u001b[0m\n\u001b[0;32m---> 22\u001b[0;31m       \u001b[0mprint\u001b[0m\u001b[0;34m(\u001b[0m\u001b[0marr\u001b[0m\u001b[0;34m[\u001b[0m\u001b[0mnge\u001b[0m\u001b[0;34m[\u001b[0m\u001b[0mi\u001b[0m\u001b[0;34m]\u001b[0m\u001b[0;34m]\u001b[0m\u001b[0;34m)\u001b[0m\u001b[0;34m\u001b[0m\u001b[0;34m\u001b[0m\u001b[0m\n\u001b[0m\u001b[1;32m     23\u001b[0m   \u001b[0;31m# for i in range(0, n-k): #window max\u001b[0m\u001b[0;34m\u001b[0m\u001b[0;34m\u001b[0m\u001b[0;34m\u001b[0m\u001b[0m\n\u001b[1;32m     24\u001b[0m   \u001b[0;31m#   j = i\u001b[0m\u001b[0;34m\u001b[0m\u001b[0;34m\u001b[0m\u001b[0;34m\u001b[0m\u001b[0m\n",
            "\u001b[0;31mIndexError\u001b[0m: list index out of range"
          ]
        }
      ]
    },
    {
      "cell_type": "code",
      "metadata": {
        "colab": {
          "base_uri": "https://localhost:8080/"
        },
        "id": "2jGk-6rLlZJ7",
        "outputId": "f058dfcf-9e66-47b5-b3fe-41071a1784a4"
      },
      "source": [
        "arr=  [2, 9, 3, 8, 1, 7, 12, 6, 14, 4, 32, 0, 7, 19, 8, 12, 6]\n",
        "len(arr)"
      ],
      "execution_count": null,
      "outputs": [
        {
          "output_type": "execute_result",
          "data": {
            "text/plain": [
              "17"
            ]
          },
          "metadata": {
            "tags": []
          },
          "execution_count": 2
        }
      ]
    },
    {
      "cell_type": "code",
      "metadata": {
        "id": "6OWkYi7FlaXn"
      },
      "source": [
        "# celebrity Problem\n",
        "def celeb(n, arr):\n",
        "  stack =[]\n",
        "  "
      ],
      "execution_count": null,
      "outputs": []
    }
  ]
}